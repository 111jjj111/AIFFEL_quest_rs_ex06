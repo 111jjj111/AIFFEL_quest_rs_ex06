{
 "cells": [
  {
   "cell_type": "code",
   "execution_count": 33,
   "id": "e2957d63",
   "metadata": {},
   "outputs": [
    {
     "data": {
      "text/html": [
       "<div>\n",
       "<style scoped>\n",
       "    .dataframe tbody tr th:only-of-type {\n",
       "        vertical-align: middle;\n",
       "    }\n",
       "\n",
       "    .dataframe tbody tr th {\n",
       "        vertical-align: top;\n",
       "    }\n",
       "\n",
       "    .dataframe thead th {\n",
       "        text-align: right;\n",
       "    }\n",
       "</style>\n",
       "<table border=\"1\" class=\"dataframe\">\n",
       "  <thead>\n",
       "    <tr style=\"text-align: right;\">\n",
       "      <th></th>\n",
       "      <th>id</th>\n",
       "      <th>document</th>\n",
       "      <th>label</th>\n",
       "    </tr>\n",
       "  </thead>\n",
       "  <tbody>\n",
       "    <tr>\n",
       "      <th>0</th>\n",
       "      <td>9976970</td>\n",
       "      <td>아 더빙.. 진짜 짜증나네요 목소리</td>\n",
       "      <td>0</td>\n",
       "    </tr>\n",
       "    <tr>\n",
       "      <th>1</th>\n",
       "      <td>3819312</td>\n",
       "      <td>흠...포스터보고 초딩영화줄....오버연기조차 가볍지 않구나</td>\n",
       "      <td>1</td>\n",
       "    </tr>\n",
       "    <tr>\n",
       "      <th>2</th>\n",
       "      <td>10265843</td>\n",
       "      <td>너무재밓었다그래서보는것을추천한다</td>\n",
       "      <td>0</td>\n",
       "    </tr>\n",
       "    <tr>\n",
       "      <th>3</th>\n",
       "      <td>9045019</td>\n",
       "      <td>교도소 이야기구먼 ..솔직히 재미는 없다..평점 조정</td>\n",
       "      <td>0</td>\n",
       "    </tr>\n",
       "    <tr>\n",
       "      <th>4</th>\n",
       "      <td>6483659</td>\n",
       "      <td>사이몬페그의 익살스런 연기가 돋보였던 영화!스파이더맨에서 늙어보이기만 했던 커스틴 ...</td>\n",
       "      <td>1</td>\n",
       "    </tr>\n",
       "  </tbody>\n",
       "</table>\n",
       "</div>"
      ],
      "text/plain": [
       "         id                                           document  label\n",
       "0   9976970                                아 더빙.. 진짜 짜증나네요 목소리      0\n",
       "1   3819312                  흠...포스터보고 초딩영화줄....오버연기조차 가볍지 않구나      1\n",
       "2  10265843                                  너무재밓었다그래서보는것을추천한다      0\n",
       "3   9045019                      교도소 이야기구먼 ..솔직히 재미는 없다..평점 조정      0\n",
       "4   6483659  사이몬페그의 익살스런 연기가 돋보였던 영화!스파이더맨에서 늙어보이기만 했던 커스틴 ...      1"
      ]
     },
     "execution_count": 33,
     "metadata": {},
     "output_type": "execute_result"
    }
   ],
   "source": [
    "import pandas as pd\n",
    "\n",
    "# 데이터를 읽어봅시다. \n",
    "train_data = pd.read_table('~/aiffel/sentiment_classification/data/ratings_train.txt')\n",
    "test_data = pd.read_table('~/aiffel/sentiment_classification/data/ratings_test.txt')\n",
    "\n",
    "train_data.head()"
   ]
  },
  {
   "cell_type": "code",
   "execution_count": 34,
   "id": "8e60ad85",
   "metadata": {},
   "outputs": [],
   "source": [
    "from konlpy.tag import Mecab\n",
    "import numpy as np\n",
    "from collections import Counter\n",
    "\n",
    "tokenizer = Mecab()\n",
    "stopwords = ['의','가','이','은','들','는','좀','잘','걍','과','도','를','으로','자','에','와','한','하다']\n",
    "\n",
    "def tokenize_and_remove_stopwords(text):\n",
    "    tokens = tokenizer.morphs(text)\n",
    "    tokens = [t for t in tokens if t not in stopwords]\n",
    "    return tokens\n",
    "\n",
    "def load_data(train_data, test_data, num_words):\n",
    "    train_data.drop_duplicates(inplace=True)\n",
    "    test_data.drop_duplicates(inplace=True)\n",
    "    train_data.dropna(how='any',inplace=True)\n",
    "    test_data.dropna(how='any', inplace=True)\n",
    "    train_data.reset_index(inplace=True, drop=True)\n",
    "    test_data.reset_index(inplace=True, drop=True)\n",
    "\n",
    "    token_list=[]\n",
    "    for sentence in train_data['document']:\n",
    "        token_list.extend(tokenize_and_remove_stopwords(sentence))\n",
    "\n",
    "    word_counts = Counter(token_list)\n",
    "    word_to_index = {word: idx + 3 for idx, (word, _) in enumerate(word_counts.most_common(num_words-3))}\n",
    "    word_to_index['<PAD>'] = 0\n",
    "    word_to_index['<UNK>'] = 1\n",
    "    word_to_index['<BOS>'] = 2\n",
    "\n",
    "    train_data['tokens']=train_data['document'].apply(tokenize_and_remove_stopwords)\n",
    "    test_data['tokens']=test_data['document'].apply(tokenize_and_remove_stopwords)\n",
    "    train_data['sequence']=train_data['tokens'].apply(lambda x : [word_to_index['<BOS>']]+[word_to_index.get(i,word_to_index['<UNK>']) for i in x])\n",
    "    test_data['sequence']=test_data['tokens'].apply(lambda x : [word_to_index['<BOS>']]+[word_to_index.get(i,word_to_index['<UNK>']) for i in x])\n",
    "    \n",
    "    return list(train_data['sequence']), np.array(list(train_data['label'])), list(test_data['sequence']), np.array(list(test_data['label'])), word_to_index\n",
    "    \n",
    "X_train, y_train, X_test, y_test, word_to_index = load_data(train_data, test_data,20000)"
   ]
  },
  {
   "cell_type": "code",
   "execution_count": 27,
   "id": "83a01bab",
   "metadata": {},
   "outputs": [],
   "source": [
    "# 문장 1개를 활용할 딕셔너리와 함께 주면, 단어 인덱스 리스트 벡터로 변환해 주는 함수입니다. \n",
    "# 단, 모든 문장은 <BOS>로 시작하는 것으로 합니다. \n",
    "def get_encoded_sentence(sentence, word_to_index):\n",
    "    return [word_to_index['<BOS>']]+[word_to_index[word] if word in word_to_index else word_to_index['<UNK>'] for word in tokenizer.morphs(sentence)]\n",
    "\n",
    "# 여러 개의 문장 리스트를 한꺼번에 단어 인덱스 리스트 벡터로 encode해 주는 함수입니다. \n",
    "def get_encoded_sentences(sentences, word_to_index):\n",
    "    return [get_encoded_sentence(sentence, word_to_index) for sentence in sentences]\n",
    "\n",
    "# 숫자 벡터로 encode된 문장을 원래대로 decode하는 함수입니다. \n",
    "def get_decoded_sentence(encoded_sentence, index_to_word):\n",
    "    return ' '.join(index_to_word[index] if index in index_to_word else '<UNK>' for index in encoded_sentence[1:])  #[1:]를 통해 <BOS>를 제외\n",
    "\n",
    "# 여러 개의 숫자 벡터로 encode된 문장을 한꺼번에 원래대로 decode하는 함수입니다. \n",
    "def get_decoded_sentences(encoded_sentences, index_to_word):\n",
    "    return [get_decoded_sentence(encoded_sentence, index_to_word) for encoded_sentence in encoded_sentences]"
   ]
  },
  {
   "cell_type": "code",
   "execution_count": 28,
   "id": "7af374c5",
   "metadata": {},
   "outputs": [],
   "source": [
    "index_to_word = {index:word for word, index in word_to_index.items()}"
   ]
  },
  {
   "cell_type": "code",
   "execution_count": 39,
   "id": "71e3e89a",
   "metadata": {},
   "outputs": [],
   "source": [
    "import tensorflow as tf\n",
    "import os"
   ]
  },
  {
   "cell_type": "code",
   "execution_count": 42,
   "id": "872b0d65",
   "metadata": {},
   "outputs": [
    {
     "name": "stdout",
     "output_type": "stream",
     "text": [
      "문장길이 평균 :  16.65940637625505\n",
      "문장길이 최대 :  117\n",
      "문장길이 표준편차 :  12.859527414389605\n",
      "pad_sequences maxlen :  42\n",
      "전체 문장의 0.9358074322972919%가 maxlen 설정값 이내에 포함됩니다. \n"
     ]
    }
   ],
   "source": [
    "total_data_text = list(X_train) + list(X_test)\n",
    "# 텍스트데이터 문장길이의 리스트를 생성한 후\n",
    "num_tokens = [len(tokens) for tokens in total_data_text]\n",
    "num_tokens = np.array(num_tokens)\n",
    "# 문장길이의 평균값, 최대값, 표준편차를 계산해 본다. \n",
    "print('문장길이 평균 : ', np.mean(num_tokens))\n",
    "print('문장길이 최대 : ', np.max(num_tokens))\n",
    "print('문장길이 표준편차 : ', np.std(num_tokens))\n",
    "\n",
    "# 예를들어, 최대 길이를 (평균 + 2*표준편차)로 한다면,  \n",
    "max_tokens = np.mean(num_tokens) + 2 * np.std(num_tokens)\n",
    "maxlen = int(max_tokens)\n",
    "print('pad_sequences maxlen : ', maxlen)\n",
    "print(f'전체 문장의 {np.sum(num_tokens < max_tokens) / len(num_tokens)}%가 maxlen 설정값 이내에 포함됩니다. ')"
   ]
  },
  {
   "cell_type": "code",
   "execution_count": 43,
   "id": "0d07c95d",
   "metadata": {},
   "outputs": [],
   "source": [
    "x_train = tf.keras.preprocessing.sequence.pad_sequences(X_train,\n",
    "                                                       value=word_to_index['<PAD>'],\n",
    "                                                       padding='pre',\n",
    "                                                       maxlen=42)\n",
    "x_test = tf.keras.preprocessing.sequence.pad_sequences(X_test,\n",
    "                                                       value=word_to_index['<PAD>'],\n",
    "                                                       padding='pre',\n",
    "                                                       maxlen=42)"
   ]
  },
  {
   "cell_type": "code",
   "execution_count": 46,
   "id": "46a92258",
   "metadata": {},
   "outputs": [
    {
     "name": "stdout",
     "output_type": "stream",
     "text": [
      "Model: \"sequential\"\n",
      "_________________________________________________________________\n",
      "Layer (type)                 Output Shape              Param #   \n",
      "=================================================================\n",
      "embedding (Embedding)        (None, None, 40)          800000    \n",
      "_________________________________________________________________\n",
      "global_max_pooling1d (Global (None, 40)                0         \n",
      "_________________________________________________________________\n",
      "dense (Dense)                (None, 8)                 328       \n",
      "_________________________________________________________________\n",
      "dense_1 (Dense)              (None, 1)                 9         \n",
      "=================================================================\n",
      "Total params: 800,337\n",
      "Trainable params: 800,337\n",
      "Non-trainable params: 0\n",
      "_________________________________________________________________\n"
     ]
    }
   ],
   "source": [
    "vocab_size = len(word_to_index) # 어휘 사전의 크기입니다(10개의 단어)\n",
    "word_vector_dim = 40   # 단어 하나를 표현하는 임베딩 벡터의 차원 수입니다. \n",
    "\n",
    "model1 = tf.keras.Sequential()\n",
    "model1.add(tf.keras.layers.Embedding(vocab_size, word_vector_dim, input_shape=(None,)))\n",
    "model1.add(tf.keras.layers.GlobalMaxPooling1D())\n",
    "model1.add(tf.keras.layers.Dense(8, activation='relu'))\n",
    "model1.add(tf.keras.layers.Dense(1, activation='sigmoid'))  # 최종 출력은 긍정/부정을 나타내는 1dim 입니다.\n",
    "\n",
    "model1.summary()"
   ]
  },
  {
   "cell_type": "code",
   "execution_count": 47,
   "id": "358ed405",
   "metadata": {},
   "outputs": [
    {
     "name": "stdout",
     "output_type": "stream",
     "text": [
      "Model: \"sequential_1\"\n",
      "_________________________________________________________________\n",
      "Layer (type)                 Output Shape              Param #   \n",
      "=================================================================\n",
      "embedding_1 (Embedding)      (None, None, 40)          800000    \n",
      "_________________________________________________________________\n",
      "conv1d (Conv1D)              (None, None, 16)          4496      \n",
      "_________________________________________________________________\n",
      "max_pooling1d (MaxPooling1D) (None, None, 16)          0         \n",
      "_________________________________________________________________\n",
      "conv1d_1 (Conv1D)            (None, None, 16)          1808      \n",
      "_________________________________________________________________\n",
      "global_max_pooling1d_1 (Glob (None, 16)                0         \n",
      "_________________________________________________________________\n",
      "dense_2 (Dense)              (None, 8)                 136       \n",
      "_________________________________________________________________\n",
      "dense_3 (Dense)              (None, 1)                 9         \n",
      "=================================================================\n",
      "Total params: 806,449\n",
      "Trainable params: 806,449\n",
      "Non-trainable params: 0\n",
      "_________________________________________________________________\n"
     ]
    }
   ],
   "source": [
    "vocab_size = len(word_to_index)  # 어휘 사전의 크기입니다(10개의 단어)\n",
    "word_vector_dim = 40   # 단어 하나를 표현하는 임베딩 벡터의 차원 수입니다. \n",
    "\n",
    "model2 = tf.keras.Sequential()\n",
    "model2.add(tf.keras.layers.Embedding(vocab_size, word_vector_dim, input_shape=(None,)))\n",
    "model2.add(tf.keras.layers.Conv1D(16, 7, activation='relu'))\n",
    "model2.add(tf.keras.layers.MaxPooling1D(5))\n",
    "model2.add(tf.keras.layers.Conv1D(16, 7, activation='relu'))\n",
    "model2.add(tf.keras.layers.GlobalMaxPooling1D())\n",
    "model2.add(tf.keras.layers.Dense(8, activation='relu'))\n",
    "model2.add(tf.keras.layers.Dense(1, activation='sigmoid'))  # 최종 출력은 긍정/부정을 나타내는 1dim 입니다.\n",
    "\n",
    "model2.summary()"
   ]
  },
  {
   "cell_type": "code",
   "execution_count": 48,
   "id": "4dea4435",
   "metadata": {},
   "outputs": [
    {
     "name": "stdout",
     "output_type": "stream",
     "text": [
      "Model: \"sequential_2\"\n",
      "_________________________________________________________________\n",
      "Layer (type)                 Output Shape              Param #   \n",
      "=================================================================\n",
      "embedding_2 (Embedding)      (None, None, 40)          800000    \n",
      "_________________________________________________________________\n",
      "lstm (LSTM)                  (None, 8)                 1568      \n",
      "_________________________________________________________________\n",
      "dense_4 (Dense)              (None, 8)                 72        \n",
      "_________________________________________________________________\n",
      "dense_5 (Dense)              (None, 1)                 9         \n",
      "=================================================================\n",
      "Total params: 801,649\n",
      "Trainable params: 801,649\n",
      "Non-trainable params: 0\n",
      "_________________________________________________________________\n"
     ]
    }
   ],
   "source": [
    "vocab_size = len(word_to_index)  # 어휘 사전의 크기입니다(10개의 단어)\n",
    "word_vector_dim = 40  # 단어 하나를 표현하는 임베딩 벡터의 차원수입니다. \n",
    "\n",
    "model3 = tf.keras.Sequential()\n",
    "model3.add(tf.keras.layers.Embedding(vocab_size, word_vector_dim, input_shape=(None,)))\n",
    "model3.add(tf.keras.layers.LSTM(8))   # 가장 널리 쓰이는 RNN인 LSTM 레이어를 사용하였습니다. 이때 LSTM state 벡터의 차원수는 8로 하였습니다. (변경 가능)\n",
    "model3.add(tf.keras.layers.Dense(8, activation='relu'))\n",
    "model3.add(tf.keras.layers.Dense(1, activation='sigmoid'))  # 최종 출력은 긍정/부정을 나타내는 1dim 입니다.\n",
    "\n",
    "model3.summary()"
   ]
  },
  {
   "cell_type": "code",
   "execution_count": 50,
   "id": "523d8cb0",
   "metadata": {},
   "outputs": [
    {
     "data": {
      "text/plain": [
       "149995"
      ]
     },
     "execution_count": 50,
     "metadata": {},
     "output_type": "execute_result"
    }
   ],
   "source": [
    "len(x_train)"
   ]
  },
  {
   "cell_type": "code",
   "execution_count": 58,
   "id": "c16adad4",
   "metadata": {},
   "outputs": [
    {
     "name": "stdout",
     "output_type": "stream",
     "text": [
      "(119996, 42)\n",
      "(119996,)\n"
     ]
    }
   ],
   "source": [
    "idx=round(0.2*len(x_train))\n",
    "          \n",
    "x_val = x_train[:idx]   \n",
    "y_val = y_train[:idx]\n",
    "\n",
    "# validation set을 제외한 나머지 15000건\n",
    "partial_x_train = x_train[idx:]  \n",
    "partial_y_train = y_train[idx:]\n",
    "\n",
    "print(partial_x_train.shape)\n",
    "print(partial_y_train.shape)"
   ]
  },
  {
   "cell_type": "code",
   "execution_count": 59,
   "id": "6a67eb0f",
   "metadata": {},
   "outputs": [
    {
     "name": "stdout",
     "output_type": "stream",
     "text": [
      "Epoch 1/20\n",
      "235/235 [==============================] - 2s 4ms/step - loss: 0.5579 - accuracy: 0.7520 - val_loss: 0.3947 - val_accuracy: 0.8330\n",
      "Epoch 2/20\n",
      "235/235 [==============================] - 1s 4ms/step - loss: 0.3469 - accuracy: 0.8550 - val_loss: 0.3416 - val_accuracy: 0.8499\n",
      "Epoch 3/20\n",
      "235/235 [==============================] - 1s 4ms/step - loss: 0.2915 - accuracy: 0.8807 - val_loss: 0.3356 - val_accuracy: 0.8549\n",
      "Epoch 4/20\n",
      "235/235 [==============================] - 1s 4ms/step - loss: 0.2552 - accuracy: 0.8980 - val_loss: 0.3416 - val_accuracy: 0.8548\n",
      "Epoch 5/20\n",
      "235/235 [==============================] - 1s 3ms/step - loss: 0.2249 - accuracy: 0.9120 - val_loss: 0.3528 - val_accuracy: 0.8543\n",
      "Epoch 6/20\n",
      "235/235 [==============================] - 1s 3ms/step - loss: 0.1983 - accuracy: 0.9248 - val_loss: 0.3714 - val_accuracy: 0.8517\n",
      "Epoch 7/20\n",
      "235/235 [==============================] - 1s 3ms/step - loss: 0.1743 - accuracy: 0.9353 - val_loss: 0.3908 - val_accuracy: 0.8482\n",
      "Epoch 8/20\n",
      "235/235 [==============================] - 1s 3ms/step - loss: 0.1527 - accuracy: 0.9460 - val_loss: 0.4176 - val_accuracy: 0.8462\n",
      "Epoch 9/20\n",
      "235/235 [==============================] - 1s 3ms/step - loss: 0.1338 - accuracy: 0.9538 - val_loss: 0.4437 - val_accuracy: 0.8438\n",
      "Epoch 10/20\n",
      "235/235 [==============================] - 1s 3ms/step - loss: 0.1169 - accuracy: 0.9612 - val_loss: 0.4719 - val_accuracy: 0.8415\n",
      "Epoch 11/20\n",
      "235/235 [==============================] - 1s 3ms/step - loss: 0.1021 - accuracy: 0.9669 - val_loss: 0.5018 - val_accuracy: 0.8378\n",
      "Epoch 12/20\n",
      "235/235 [==============================] - 1s 3ms/step - loss: 0.0891 - accuracy: 0.9722 - val_loss: 0.5343 - val_accuracy: 0.8351\n",
      "Epoch 13/20\n",
      "235/235 [==============================] - 1s 3ms/step - loss: 0.0785 - accuracy: 0.9758 - val_loss: 0.5664 - val_accuracy: 0.8355\n",
      "Epoch 14/20\n",
      "235/235 [==============================] - 1s 3ms/step - loss: 0.0690 - accuracy: 0.9795 - val_loss: 0.5992 - val_accuracy: 0.8315\n",
      "Epoch 15/20\n",
      "235/235 [==============================] - 1s 3ms/step - loss: 0.0613 - accuracy: 0.9823 - val_loss: 0.6335 - val_accuracy: 0.8289\n",
      "Epoch 16/20\n",
      "235/235 [==============================] - 1s 3ms/step - loss: 0.0545 - accuracy: 0.9847 - val_loss: 0.6601 - val_accuracy: 0.8287\n",
      "Epoch 17/20\n",
      "235/235 [==============================] - 1s 3ms/step - loss: 0.0491 - accuracy: 0.9860 - val_loss: 0.6947 - val_accuracy: 0.8264\n",
      "Epoch 18/20\n",
      "235/235 [==============================] - 1s 3ms/step - loss: 0.0442 - accuracy: 0.9876 - val_loss: 0.7326 - val_accuracy: 0.8243\n",
      "Epoch 19/20\n",
      "235/235 [==============================] - 1s 3ms/step - loss: 0.0401 - accuracy: 0.9889 - val_loss: 0.7600 - val_accuracy: 0.8231\n",
      "Epoch 20/20\n",
      "235/235 [==============================] - 1s 3ms/step - loss: 0.0362 - accuracy: 0.9901 - val_loss: 0.7893 - val_accuracy: 0.8227\n"
     ]
    }
   ],
   "source": [
    "model1.compile(optimizer='adam',\n",
    "              loss='binary_crossentropy',\n",
    "              metrics=['accuracy'])\n",
    "              \n",
    "epochs=20  # 몇 epoch를 훈련하면 좋을지 결과를 보면서 바꾸어 봅시다. \n",
    "\n",
    "history1 = model1.fit(partial_x_train,\n",
    "                    partial_y_train,\n",
    "                    epochs=epochs,\n",
    "                    batch_size=512,\n",
    "                    validation_data=(x_val, y_val),\n",
    "                    verbose=1)"
   ]
  },
  {
   "cell_type": "code",
   "execution_count": 60,
   "id": "187aa37f",
   "metadata": {},
   "outputs": [
    {
     "name": "stdout",
     "output_type": "stream",
     "text": [
      "Epoch 1/20\n",
      "235/235 [==============================] - 4s 6ms/step - loss: 0.4790 - accuracy: 0.7613 - val_loss: 0.3616 - val_accuracy: 0.8388\n",
      "Epoch 2/20\n",
      "235/235 [==============================] - 1s 4ms/step - loss: 0.3199 - accuracy: 0.8634 - val_loss: 0.3491 - val_accuracy: 0.8435\n",
      "Epoch 3/20\n",
      "235/235 [==============================] - 1s 4ms/step - loss: 0.2624 - accuracy: 0.8928 - val_loss: 0.3581 - val_accuracy: 0.8447\n",
      "Epoch 4/20\n",
      "235/235 [==============================] - 1s 4ms/step - loss: 0.2051 - accuracy: 0.9197 - val_loss: 0.3989 - val_accuracy: 0.8391\n",
      "Epoch 5/20\n",
      "235/235 [==============================] - 1s 4ms/step - loss: 0.1537 - accuracy: 0.9434 - val_loss: 0.4449 - val_accuracy: 0.8353\n",
      "Epoch 6/20\n",
      "235/235 [==============================] - 1s 4ms/step - loss: 0.1139 - accuracy: 0.9598 - val_loss: 0.4976 - val_accuracy: 0.8321\n",
      "Epoch 7/20\n",
      "235/235 [==============================] - 1s 4ms/step - loss: 0.0868 - accuracy: 0.9691 - val_loss: 0.5558 - val_accuracy: 0.8270\n",
      "Epoch 8/20\n",
      "235/235 [==============================] - 1s 5ms/step - loss: 0.0681 - accuracy: 0.9752 - val_loss: 0.6154 - val_accuracy: 0.8251\n",
      "Epoch 9/20\n",
      "235/235 [==============================] - 1s 4ms/step - loss: 0.0571 - accuracy: 0.9790 - val_loss: 0.6736 - val_accuracy: 0.8232\n",
      "Epoch 10/20\n",
      "235/235 [==============================] - 1s 4ms/step - loss: 0.0495 - accuracy: 0.9811 - val_loss: 0.7368 - val_accuracy: 0.8182\n",
      "Epoch 11/20\n",
      "235/235 [==============================] - 1s 4ms/step - loss: 0.0428 - accuracy: 0.9833 - val_loss: 0.7803 - val_accuracy: 0.8196\n",
      "Epoch 12/20\n",
      "235/235 [==============================] - 1s 4ms/step - loss: 0.0389 - accuracy: 0.9845 - val_loss: 0.8763 - val_accuracy: 0.8179\n",
      "Epoch 13/20\n",
      "235/235 [==============================] - 1s 4ms/step - loss: 0.0363 - accuracy: 0.9848 - val_loss: 0.8792 - val_accuracy: 0.8173\n",
      "Epoch 14/20\n",
      "235/235 [==============================] - 1s 4ms/step - loss: 0.0335 - accuracy: 0.9860 - val_loss: 0.9491 - val_accuracy: 0.8147\n",
      "Epoch 15/20\n",
      "235/235 [==============================] - 1s 4ms/step - loss: 0.0320 - accuracy: 0.9864 - val_loss: 0.9947 - val_accuracy: 0.8154\n",
      "Epoch 16/20\n",
      "235/235 [==============================] - 1s 4ms/step - loss: 0.0313 - accuracy: 0.9860 - val_loss: 1.0448 - val_accuracy: 0.8146\n",
      "Epoch 17/20\n",
      "235/235 [==============================] - 1s 5ms/step - loss: 0.0319 - accuracy: 0.9857 - val_loss: 1.0860 - val_accuracy: 0.8115\n",
      "Epoch 18/20\n",
      "235/235 [==============================] - 1s 4ms/step - loss: 0.0336 - accuracy: 0.9851 - val_loss: 1.1373 - val_accuracy: 0.8145\n",
      "Epoch 19/20\n",
      "235/235 [==============================] - 1s 4ms/step - loss: 0.0383 - accuracy: 0.9829 - val_loss: 1.1449 - val_accuracy: 0.8127\n",
      "Epoch 20/20\n",
      "235/235 [==============================] - 1s 4ms/step - loss: 0.0345 - accuracy: 0.9847 - val_loss: 1.1427 - val_accuracy: 0.8161\n"
     ]
    }
   ],
   "source": [
    "model2.compile(optimizer='adam',\n",
    "              loss='binary_crossentropy',\n",
    "              metrics=['accuracy'])\n",
    "              \n",
    "epochs=20  # 몇 epoch를 훈련하면 좋을지 결과를 보면서 바꾸어 봅시다. \n",
    "\n",
    "history2 = model2.fit(partial_x_train,\n",
    "                    partial_y_train,\n",
    "                    epochs=epochs,\n",
    "                    batch_size=512,\n",
    "                    validation_data=(x_val, y_val),\n",
    "                    verbose=1)"
   ]
  },
  {
   "cell_type": "code",
   "execution_count": 61,
   "id": "0eeebccf",
   "metadata": {},
   "outputs": [
    {
     "name": "stdout",
     "output_type": "stream",
     "text": [
      "Epoch 1/20\n",
      "235/235 [==============================] - 3s 7ms/step - loss: 0.4938 - accuracy: 0.7714 - val_loss: 0.3591 - val_accuracy: 0.8471\n",
      "Epoch 2/20\n",
      "235/235 [==============================] - 1s 5ms/step - loss: 0.3285 - accuracy: 0.8641 - val_loss: 0.3430 - val_accuracy: 0.8538\n",
      "Epoch 3/20\n",
      "235/235 [==============================] - 1s 5ms/step - loss: 0.2970 - accuracy: 0.8791 - val_loss: 0.3451 - val_accuracy: 0.8535\n",
      "Epoch 4/20\n",
      "235/235 [==============================] - 1s 5ms/step - loss: 0.2768 - accuracy: 0.8892 - val_loss: 0.3509 - val_accuracy: 0.8522\n",
      "Epoch 5/20\n",
      "235/235 [==============================] - 1s 5ms/step - loss: 0.2623 - accuracy: 0.8959 - val_loss: 0.3612 - val_accuracy: 0.8495\n",
      "Epoch 6/20\n",
      "235/235 [==============================] - 1s 5ms/step - loss: 0.2471 - accuracy: 0.9027 - val_loss: 0.3766 - val_accuracy: 0.8482\n",
      "Epoch 7/20\n",
      "235/235 [==============================] - 1s 5ms/step - loss: 0.2330 - accuracy: 0.9083 - val_loss: 0.3856 - val_accuracy: 0.8485\n",
      "Epoch 8/20\n",
      "235/235 [==============================] - 1s 5ms/step - loss: 0.2195 - accuracy: 0.9132 - val_loss: 0.4051 - val_accuracy: 0.8472\n",
      "Epoch 9/20\n",
      "235/235 [==============================] - 1s 5ms/step - loss: 0.2070 - accuracy: 0.9178 - val_loss: 0.4129 - val_accuracy: 0.8468\n",
      "Epoch 10/20\n",
      "235/235 [==============================] - 1s 5ms/step - loss: 0.1959 - accuracy: 0.9220 - val_loss: 0.4555 - val_accuracy: 0.8457\n",
      "Epoch 11/20\n",
      "235/235 [==============================] - 1s 5ms/step - loss: 0.1856 - accuracy: 0.9252 - val_loss: 0.4691 - val_accuracy: 0.8432\n",
      "Epoch 12/20\n",
      "235/235 [==============================] - 1s 5ms/step - loss: 0.1757 - accuracy: 0.9293 - val_loss: 0.4837 - val_accuracy: 0.8426\n",
      "Epoch 13/20\n",
      "235/235 [==============================] - 1s 5ms/step - loss: 0.1658 - accuracy: 0.9327 - val_loss: 0.5168 - val_accuracy: 0.8436\n",
      "Epoch 14/20\n",
      "235/235 [==============================] - 1s 5ms/step - loss: 0.1591 - accuracy: 0.9355 - val_loss: 0.5475 - val_accuracy: 0.8424\n",
      "Epoch 15/20\n",
      "235/235 [==============================] - 1s 5ms/step - loss: 0.1513 - accuracy: 0.9378 - val_loss: 0.5769 - val_accuracy: 0.8422\n",
      "Epoch 16/20\n",
      "235/235 [==============================] - 1s 5ms/step - loss: 0.1454 - accuracy: 0.9401 - val_loss: 0.5886 - val_accuracy: 0.8405\n",
      "Epoch 17/20\n",
      "235/235 [==============================] - 1s 5ms/step - loss: 0.1403 - accuracy: 0.9414 - val_loss: 0.6214 - val_accuracy: 0.8393\n",
      "Epoch 18/20\n",
      "235/235 [==============================] - 1s 5ms/step - loss: 0.1354 - accuracy: 0.9449 - val_loss: 0.6154 - val_accuracy: 0.8386\n",
      "Epoch 19/20\n",
      "235/235 [==============================] - 1s 5ms/step - loss: 0.1265 - accuracy: 0.9485 - val_loss: 0.6651 - val_accuracy: 0.8388\n",
      "Epoch 20/20\n",
      "235/235 [==============================] - 1s 5ms/step - loss: 0.1223 - accuracy: 0.9502 - val_loss: 0.6869 - val_accuracy: 0.8363\n"
     ]
    }
   ],
   "source": [
    "model3.compile(optimizer='adam',\n",
    "              loss='binary_crossentropy',\n",
    "              metrics=['accuracy'])\n",
    "              \n",
    "epochs=20  # 몇 epoch를 훈련하면 좋을지 결과를 보면서 바꾸어 봅시다. \n",
    "\n",
    "history3 = model3.fit(partial_x_train,\n",
    "                    partial_y_train,\n",
    "                    epochs=epochs,\n",
    "                    batch_size=512,\n",
    "                    validation_data=(x_val, y_val),\n",
    "                    verbose=1)"
   ]
  },
  {
   "cell_type": "code",
   "execution_count": 62,
   "id": "8c8778b1",
   "metadata": {},
   "outputs": [],
   "source": [
    "history_dict = history1.history\n",
    "history_dict2 = history2.history\n",
    "history_dict3 = history3.history"
   ]
  },
  {
   "cell_type": "code",
   "execution_count": 63,
   "id": "0957f9bd",
   "metadata": {},
   "outputs": [
    {
     "data": {
      "image/png": "[encoded data removed]",
      "text/plain": [
       "<Figure size 432x288 with 1 Axes>"
      ]
     },
     "metadata": {
      "needs_background": "light"
     },
     "output_type": "display_data"
    }
   ],
   "source": [
    "import matplotlib.pyplot as plt\n",
    "\n",
    "acc = history_dict['accuracy']\n",
    "val_acc = history_dict['val_accuracy']\n",
    "loss = history_dict['loss']\n",
    "val_loss = history_dict['val_loss']\n",
    "\n",
    "epochs = range(1, len(acc) + 1)\n",
    "\n",
    "# \"bo\"는 \"파란색 점\"입니다\n",
    "plt.plot(epochs, loss, 'bo', label='Training loss')\n",
    "# b는 \"파란 실선\"입니다\n",
    "plt.plot(epochs, val_loss, 'b', label='Validation loss')\n",
    "plt.title('Training and validation loss')\n",
    "plt.xlabel('Epochs')\n",
    "plt.ylabel('Loss')\n",
    "plt.legend()\n",
    "\n",
    "plt.show()"
   ]
  },
  {
   "cell_type": "code",
   "execution_count": 64,
   "id": "4dfeb3d8",
   "metadata": {},
   "outputs": [
    {
     "data": {
      "image/png": "[encoded data removed]",
      "text/plain": [
       "<Figure size 432x288 with 1 Axes>"
      ]
     },
     "metadata": {
      "needs_background": "light"
     },
     "output_type": "display_data"
    }
   ],
   "source": [
    "plt.clf()   # 그림을 초기화합니다\n",
    "\n",
    "plt.plot(epochs, acc, 'bo', label='Training acc')\n",
    "plt.plot(epochs, val_acc, 'b', label='Validation acc')\n",
    "plt.title('Training and validation accuracy')\n",
    "plt.xlabel('Epochs')\n",
    "plt.ylabel('Accuracy')\n",
    "plt.legend()\n",
    "\n",
    "plt.show()"
   ]
  },
  {
   "cell_type": "code",
   "execution_count": 65,
   "id": "c7ce09a3",
   "metadata": {},
   "outputs": [],
   "source": [
    "embedding_layer = model1.layers[0]\n",
    "weights = embedding_layer.get_weights()[0]"
   ]
  },
  {
   "cell_type": "code",
   "execution_count": 67,
   "id": "0f6562eb",
   "metadata": {},
   "outputs": [],
   "source": [
    "# 학습한 Embedding 파라미터를 파일에 써서 저장합니다. \n",
    "word2vec_file_path = os.getenv('HOME')+'/aiffel/sentiment_classification/data/word2vec.txt'\n",
    "f = open(word2vec_file_path, 'w')\n",
    "f.write('{} {}\\n'.format(vocab_size-4, word_vector_dim))  # 몇개의 벡터를 얼마 사이즈로 기재할지 타이틀을 씁니다.\n",
    "\n",
    "# 단어 개수(에서 특수문자 4개는 제외하고)만큼의 워드 벡터를 파일에 기록합니다. \n",
    "vectors = model1.get_weights()[0]\n",
    "for i in range(4,vocab_size):\n",
    "    f.write('{} {}\\n'.format(index_to_word[i], ' '.join(map(str, list(vectors[i, :])))))\n",
    "f.close()"
   ]
  },
  {
   "cell_type": "code",
   "execution_count": 68,
   "id": "0bfe810e",
   "metadata": {},
   "outputs": [],
   "source": [
    "from gensim.models.keyedvectors import Word2VecKeyedVectors\n",
    "\n",
    "word_vectors = Word2VecKeyedVectors.load_word2vec_format(word2vec_file_path, binary=False)"
   ]
  },
  {
   "cell_type": "code",
   "execution_count": 70,
   "id": "e4e5304f",
   "metadata": {},
   "outputs": [
    {
     "data": {
      "text/plain": [
       "[('콜린스', 0.6878893375396729),\n",
       " ('최정원', 0.6255038380622864),\n",
       " ('두렵', 0.620094895362854),\n",
       " ('..!', 0.6183009743690491),\n",
       " ('상하이', 0.6150099039077759),\n",
       " ('예쁜', 0.6108370423316956),\n",
       " ('잖', 0.6094949245452881),\n",
       " ('욤', 0.6094669103622437),\n",
       " ('어머니', 0.6081631183624268),\n",
       " ('왔었', 0.598190188407898)]"
      ]
     },
     "execution_count": 70,
     "metadata": {},
     "output_type": "execute_result"
    }
   ],
   "source": [
    "word_vectors.similar_by_word(\"재밌\") # 형편없다"
   ]
  },
  {
   "cell_type": "code",
   "execution_count": 73,
   "id": "33c1e69d",
   "metadata": {},
   "outputs": [],
   "source": [
    "model_path = os.getenv('HOME')+'/data/word2vec_ko.model'"
   ]
  },
  {
   "cell_type": "code",
   "execution_count": 74,
   "id": "67218784",
   "metadata": {},
   "outputs": [],
   "source": [
    "from gensim.models.keyedvectors import Word2VecKeyedVectors\n",
    "\n",
    "word_vectors = Word2VecKeyedVectors.load(model_path)\n"
   ]
  },
  {
   "cell_type": "code",
   "execution_count": 76,
   "id": "cb9bbe3c",
   "metadata": {},
   "outputs": [],
   "source": [
    "vector = word_vectors.wv[\"끝\"]"
   ]
  },
  {
   "cell_type": "code",
   "execution_count": 80,
   "id": "09f929a7",
   "metadata": {},
   "outputs": [
    {
     "data": {
      "text/plain": [
       "(100,)"
      ]
     },
     "execution_count": 80,
     "metadata": {},
     "output_type": "execute_result"
    }
   ],
   "source": [
    "vector.shape"
   ]
  },
  {
   "cell_type": "code",
   "execution_count": 84,
   "id": "2b35cb7f",
   "metadata": {},
   "outputs": [
    {
     "data": {
      "text/plain": [
       "[('재미있', 0.905171275138855),\n",
       " ('멋있', 0.8684316277503967),\n",
       " ('웃기', 0.8312839269638062),\n",
       " ('예쁘', 0.8087937235832214),\n",
       " ('슬프', 0.7751518487930298),\n",
       " ('무섭', 0.7676399350166321),\n",
       " ('재미없', 0.7673381567001343),\n",
       " ('멋지', 0.7514932155609131),\n",
       " ('신나', 0.7510867714881897),\n",
       " ('서툴', 0.7421588897705078)]"
      ]
     },
     "execution_count": 84,
     "metadata": {},
     "output_type": "execute_result"
    }
   ],
   "source": [
    "word_vectors.wv.most_similar('재밌') # 훌룡하다."
   ]
  },
  {
   "cell_type": "code",
   "execution_count": 86,
   "id": "e94a3295",
   "metadata": {},
   "outputs": [],
   "source": [
    "vocab_size = len(word_to_index)    # 어휘 사전의 크기입니다(10,000개의 단어)\n",
    "word_vector_dim = 100  # 워드 벡터의 차원수\n",
    "embedding_matrix = np.random.rand(vocab_size, word_vector_dim)\n",
    "\n",
    "# embedding_matrix에 Word2Vec 워드 벡터를 단어 하나씩마다 차례차례 카피한다.\n",
    "for i in range(3,vocab_size):\n",
    "    if index_to_word[i] in word_vectors.wv:\n",
    "        embedding_matrix[i] = word_vectors.wv[index_to_word[i]]"
   ]
  },
  {
   "cell_type": "code",
   "execution_count": 88,
   "id": "bcd99617",
   "metadata": {},
   "outputs": [
    {
     "data": {
      "text/plain": [
       "(20000, 100)"
      ]
     },
     "execution_count": 88,
     "metadata": {},
     "output_type": "execute_result"
    }
   ],
   "source": [
    "embedding_matrix.shape"
   ]
  },
  {
   "cell_type": "code",
   "execution_count": 119,
   "id": "9320c021",
   "metadata": {},
   "outputs": [
    {
     "name": "stdout",
     "output_type": "stream",
     "text": [
      "Model: \"sequential_12\"\n",
      "_________________________________________________________________\n",
      "Layer (type)                 Output Shape              Param #   \n",
      "=================================================================\n",
      "embedding_12 (Embedding)     (None, 42, 100)           2000000   \n",
      "_________________________________________________________________\n",
      "bidirectional_2 (Bidirection (None, 128)               84480     \n",
      "_________________________________________________________________\n",
      "dense_24 (Dense)             (None, 8)                 1032      \n",
      "_________________________________________________________________\n",
      "dense_25 (Dense)             (None, 1)                 9         \n",
      "=================================================================\n",
      "Total params: 2,085,521\n",
      "Trainable params: 2,085,521\n",
      "Non-trainable params: 0\n",
      "_________________________________________________________________\n"
     ]
    }
   ],
   "source": [
    "from tensorflow.keras.initializers import Constant\n",
    "\n",
    "vocab_size = len(word_to_index)   # 어휘 사전의 크기입니다(10,000개의 단어)\n",
    "word_vector_dim = 100 # 워드 벡터의 차원 수 \n",
    "\n",
    "# 모델 구성\n",
    "model = tf.keras.Sequential()\n",
    "model.add(tf.keras.layers.Embedding(vocab_size, \n",
    "                                 word_vector_dim, \n",
    "                                 embeddings_initializer=Constant(embedding_matrix),  # 카피한 임베딩을 여기서 활용\n",
    "                                 input_length=42, \n",
    "                                 trainable=True))   # trainable을 True로 주면 Fine-tuning\n",
    "\n",
    "model.add(tf.keras.layers.Bidirectional(tf.keras.layers.LSTM(64)))   # 가장 널리 쓰이는 RNN인 LSTM 레이어를 사용하였습니다. 이때 LSTM state 벡터의 차원수는 8로 하였습니다. (변경 가능)\n",
    "model.add(tf.keras.layers.Dense(8, activation='relu'))\n",
    "model.add(tf.keras.layers.Dense(1, activation='sigmoid'))  # 최종 출력은 긍정/부정을 나타내는 1dim 입니다.\n",
    "\n",
    "model.summary()"
   ]
  },
  {
   "cell_type": "code",
   "execution_count": 120,
   "id": "7e6ac758",
   "metadata": {},
   "outputs": [
    {
     "name": "stdout",
     "output_type": "stream",
     "text": [
      "Epoch 1/40\n",
      "235/235 [==============================] - 6s 14ms/step - loss: 0.4881 - accuracy: 0.7591 - val_loss: 0.3935 - val_accuracy: 0.8252\n",
      "Epoch 2/40\n",
      "235/235 [==============================] - 3s 12ms/step - loss: 0.3555 - accuracy: 0.8445 - val_loss: 0.3466 - val_accuracy: 0.8478\n",
      "Epoch 3/40\n",
      "235/235 [==============================] - 3s 12ms/step - loss: 0.3068 - accuracy: 0.8694 - val_loss: 0.3304 - val_accuracy: 0.8561\n",
      "Epoch 4/40\n",
      "235/235 [==============================] - 3s 12ms/step - loss: 0.2731 - accuracy: 0.8864 - val_loss: 0.3252 - val_accuracy: 0.8611\n",
      "Epoch 5/40\n",
      "235/235 [==============================] - 3s 12ms/step - loss: 0.2486 - accuracy: 0.8992 - val_loss: 0.3305 - val_accuracy: 0.8621\n",
      "Epoch 6/40\n",
      "235/235 [==============================] - 3s 12ms/step - loss: 0.2252 - accuracy: 0.9099 - val_loss: 0.3356 - val_accuracy: 0.8615\n",
      "Epoch 7/40\n",
      "235/235 [==============================] - 3s 12ms/step - loss: 0.2050 - accuracy: 0.9200 - val_loss: 0.3504 - val_accuracy: 0.8605\n",
      "Epoch 8/40\n",
      "235/235 [==============================] - 3s 12ms/step - loss: 0.1863 - accuracy: 0.9289 - val_loss: 0.3766 - val_accuracy: 0.8524\n",
      "Epoch 9/40\n",
      "235/235 [==============================] - 3s 12ms/step - loss: 0.1709 - accuracy: 0.9359 - val_loss: 0.3804 - val_accuracy: 0.8569\n",
      "Epoch 10/40\n",
      "235/235 [==============================] - 3s 12ms/step - loss: 0.1527 - accuracy: 0.9442 - val_loss: 0.4076 - val_accuracy: 0.8570\n",
      "Epoch 11/40\n",
      "235/235 [==============================] - 3s 12ms/step - loss: 0.1384 - accuracy: 0.9497 - val_loss: 0.4318 - val_accuracy: 0.8556\n",
      "Epoch 12/40\n",
      "235/235 [==============================] - 3s 12ms/step - loss: 0.1258 - accuracy: 0.9557 - val_loss: 0.4681 - val_accuracy: 0.8546\n",
      "Epoch 13/40\n",
      "235/235 [==============================] - 3s 12ms/step - loss: 0.1134 - accuracy: 0.9611 - val_loss: 0.4856 - val_accuracy: 0.8554\n",
      "Epoch 14/40\n",
      "235/235 [==============================] - 3s 12ms/step - loss: 0.1013 - accuracy: 0.9661 - val_loss: 0.5252 - val_accuracy: 0.8505\n",
      "Epoch 15/40\n",
      "235/235 [==============================] - 3s 12ms/step - loss: 0.0911 - accuracy: 0.9697 - val_loss: 0.5466 - val_accuracy: 0.8498\n",
      "Epoch 16/40\n",
      "235/235 [==============================] - 3s 12ms/step - loss: 0.0822 - accuracy: 0.9736 - val_loss: 0.5974 - val_accuracy: 0.8487\n",
      "Epoch 17/40\n",
      "235/235 [==============================] - 3s 12ms/step - loss: 0.0757 - accuracy: 0.9752 - val_loss: 0.6129 - val_accuracy: 0.8478\n",
      "Epoch 18/40\n",
      "235/235 [==============================] - 3s 12ms/step - loss: 0.0667 - accuracy: 0.9786 - val_loss: 0.6546 - val_accuracy: 0.8479\n",
      "Epoch 19/40\n",
      "235/235 [==============================] - 3s 12ms/step - loss: 0.0616 - accuracy: 0.9804 - val_loss: 0.7110 - val_accuracy: 0.8479\n",
      "Epoch 20/40\n",
      "235/235 [==============================] - 3s 12ms/step - loss: 0.0564 - accuracy: 0.9821 - val_loss: 0.7201 - val_accuracy: 0.8459\n",
      "Epoch 21/40\n",
      "235/235 [==============================] - 3s 12ms/step - loss: 0.0504 - accuracy: 0.9838 - val_loss: 0.7884 - val_accuracy: 0.8456\n",
      "Epoch 22/40\n",
      "235/235 [==============================] - 3s 12ms/step - loss: 0.0483 - accuracy: 0.9845 - val_loss: 0.8122 - val_accuracy: 0.8438\n",
      "Epoch 23/40\n",
      "235/235 [==============================] - 3s 12ms/step - loss: 0.0455 - accuracy: 0.9848 - val_loss: 0.8269 - val_accuracy: 0.8428\n",
      "Epoch 24/40\n",
      "235/235 [==============================] - 3s 12ms/step - loss: 0.0400 - accuracy: 0.9871 - val_loss: 0.8503 - val_accuracy: 0.8444\n",
      "Epoch 25/40\n",
      "235/235 [==============================] - 3s 12ms/step - loss: 0.0382 - accuracy: 0.9873 - val_loss: 0.8872 - val_accuracy: 0.8442\n",
      "Epoch 26/40\n",
      "235/235 [==============================] - 3s 12ms/step - loss: 0.0335 - accuracy: 0.9890 - val_loss: 0.9352 - val_accuracy: 0.8398\n",
      "Epoch 27/40\n",
      "235/235 [==============================] - 3s 12ms/step - loss: 0.0436 - accuracy: 0.9847 - val_loss: 0.9438 - val_accuracy: 0.8450\n",
      "Epoch 28/40\n",
      "235/235 [==============================] - 3s 12ms/step - loss: 0.0283 - accuracy: 0.9907 - val_loss: 1.0048 - val_accuracy: 0.8373\n",
      "Epoch 29/40\n",
      "235/235 [==============================] - 3s 12ms/step - loss: 0.0285 - accuracy: 0.9902 - val_loss: 1.0837 - val_accuracy: 0.8419\n",
      "Epoch 30/40\n",
      "235/235 [==============================] - 3s 12ms/step - loss: 0.0288 - accuracy: 0.9897 - val_loss: 1.0936 - val_accuracy: 0.8440\n",
      "Epoch 31/40\n",
      "235/235 [==============================] - 3s 12ms/step - loss: 0.0279 - accuracy: 0.9902 - val_loss: 1.1166 - val_accuracy: 0.8447\n",
      "Epoch 32/40\n",
      "235/235 [==============================] - 3s 12ms/step - loss: 0.0290 - accuracy: 0.9894 - val_loss: 1.1894 - val_accuracy: 0.8440\n",
      "Epoch 33/40\n",
      "235/235 [==============================] - 3s 12ms/step - loss: 0.0258 - accuracy: 0.9906 - val_loss: 1.1333 - val_accuracy: 0.8431\n",
      "Epoch 34/40\n",
      "235/235 [==============================] - 3s 12ms/step - loss: 0.0235 - accuracy: 0.9914 - val_loss: 1.1933 - val_accuracy: 0.8433\n",
      "Epoch 35/40\n",
      "235/235 [==============================] - 3s 12ms/step - loss: 0.0209 - accuracy: 0.9920 - val_loss: 1.2030 - val_accuracy: 0.8431\n",
      "Epoch 36/40\n",
      "235/235 [==============================] - 3s 12ms/step - loss: 0.0269 - accuracy: 0.9898 - val_loss: 1.2403 - val_accuracy: 0.8418\n",
      "Epoch 37/40\n",
      "235/235 [==============================] - 3s 12ms/step - loss: 0.0206 - accuracy: 0.9923 - val_loss: 1.2338 - val_accuracy: 0.8411\n",
      "Epoch 38/40\n",
      "235/235 [==============================] - 3s 12ms/step - loss: 0.0185 - accuracy: 0.9928 - val_loss: 1.2835 - val_accuracy: 0.8426\n",
      "Epoch 39/40\n",
      "235/235 [==============================] - 3s 12ms/step - loss: 0.0253 - accuracy: 0.9904 - val_loss: 1.2410 - val_accuracy: 0.8437\n",
      "Epoch 40/40\n",
      "235/235 [==============================] - 3s 12ms/step - loss: 0.0221 - accuracy: 0.9911 - val_loss: 1.2966 - val_accuracy: 0.8418\n"
     ]
    }
   ],
   "source": [
    "# 학습의 진행\n",
    "model.compile(optimizer='adam',\n",
    "              loss='binary_crossentropy',\n",
    "              metrics=['accuracy'])\n",
    "checkpoint = tf.keras.callbacks.ModelCheckpoint(\n",
    "    'best_model.h5',             # 저장 파일명\n",
    "    monitor='val_loss',          # validation loss가 가장 좋은 모델만 저장\n",
    "    save_best_only=True,         # 가장 좋은 것만 저장\n",
    "    save_weights_only=False      # 전체 모델 저장 (구조 + 가중치)\n",
    ")\n",
    "              \n",
    "epochs=40  # 몇 epoch를 훈련하면 좋을지 결과를 보면서 바꾸어 봅시다. \n",
    "\n",
    "history = model.fit(partial_x_train,\n",
    "                    partial_y_train,\n",
    "                    epochs=epochs,\n",
    "                    batch_size=512,\n",
    "                    validation_data=(x_val, y_val),\n",
    "                    verbose=1,\n",
    "                    callbacks=[checkpoint])"
   ]
  },
  {
   "cell_type": "code",
   "execution_count": 121,
   "id": "5b7c9f74",
   "metadata": {},
   "outputs": [],
   "source": [
    "model = tf.keras.models.load_model('best_model.h5')"
   ]
  },
  {
   "cell_type": "code",
   "execution_count": 122,
   "id": "0b70c0a9",
   "metadata": {},
   "outputs": [
    {
     "name": "stdout",
     "output_type": "stream",
     "text": [
      "1563/1563 - 5s - loss: 0.3344 - accuracy: 0.8563\n",
      "[0.3344214856624603, 0.8562913537025452]\n"
     ]
    }
   ],
   "source": [
    "# 테스트셋을 통한 모델 평가\n",
    "results = model.evaluate(x_test,  y_test, verbose=2)\n",
    "\n",
    "print(results)"
   ]
  }
 ],
 "metadata": {
  "kernelspec": {
   "display_name": "Python 3 (ipykernel)",
   "language": "python",
   "name": "python3"
  },
  "language_info": {
   "codemirror_mode": {
    "name": "ipython",
    "version": 3
   },
   "file_extension": ".py",
   "mimetype": "text/x-python",
   "name": "python",
   "nbconvert_exporter": "python",
   "pygments_lexer": "ipython3",
   "version": "3.9.7"
  }
 },
 "nbformat": 4,
 "nbformat_minor": 5
}
