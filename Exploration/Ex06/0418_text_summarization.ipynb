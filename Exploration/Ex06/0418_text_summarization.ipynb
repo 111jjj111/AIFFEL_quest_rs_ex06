{
  "nbformat": 4,
  "nbformat_minor": 0,
  "metadata": {
    "colab": {
      "provenance": [],
      "machine_shape": "hm",
      "gpuType": "T4"
    },
    "kernelspec": {
      "name": "python3",
      "display_name": "Python 3"
    },
    "language_info": {
      "name": "python"
    },
    "accelerator": "GPU"
  },
  "cells": [
    {
      "cell_type": "code",
      "source": [
        "!pip install summa"
      ],
      "metadata": {
        "colab": {
          "base_uri": "https://localhost:8080/"
        },
        "id": "d-jEEzf-NSRE",
        "outputId": "cc8f43c8-ba29-4100-e691-c042fa553d96"
      },
      "execution_count": 1,
      "outputs": [
        {
          "output_type": "stream",
          "name": "stdout",
          "text": [
            "Collecting summa\n",
            "  Downloading summa-1.2.0.tar.gz (54 kB)\n",
            "\u001b[?25l     \u001b[90m━━━━━━━━━━━━━━━━━━━━━━━━━━━━━━━━━━━━━━━━\u001b[0m \u001b[32m0.0/54.9 kB\u001b[0m \u001b[31m?\u001b[0m eta \u001b[36m-:--:--\u001b[0m\r\u001b[2K     \u001b[90m━━━━━━━━━━━━━━━━━━━━━━━━━━━━━━━━━━━━━━━━\u001b[0m \u001b[32m54.9/54.9 kB\u001b[0m \u001b[31m2.1 MB/s\u001b[0m eta \u001b[36m0:00:00\u001b[0m\n",
            "\u001b[?25h  Preparing metadata (setup.py) ... \u001b[?25l\u001b[?25hdone\n",
            "Requirement already satisfied: scipy>=0.19 in /usr/local/lib/python3.11/dist-packages (from summa) (1.14.1)\n",
            "Requirement already satisfied: numpy<2.3,>=1.23.5 in /usr/local/lib/python3.11/dist-packages (from scipy>=0.19->summa) (2.0.2)\n",
            "Building wheels for collected packages: summa\n",
            "  Building wheel for summa (setup.py) ... \u001b[?25l\u001b[?25hdone\n",
            "  Created wheel for summa: filename=summa-1.2.0-py3-none-any.whl size=54387 sha256=a526e235827989184d151717aab7cc94d420192023b30878a3d2210a7a942749\n",
            "  Stored in directory: /root/.cache/pip/wheels/10/2d/7a/abce87c4ea233f8dcca0d99b740ac0257eced1f99a124a0e1f\n",
            "Successfully built summa\n",
            "Installing collected packages: summa\n",
            "Successfully installed summa-1.2.0\n"
          ]
        }
      ]
    },
    {
      "cell_type": "code",
      "execution_count": 2,
      "metadata": {
        "colab": {
          "base_uri": "https://localhost:8080/"
        },
        "id": "i_NFwmeomadY",
        "outputId": "72f3810b-b11d-4302-8798-ac027779682c"
      },
      "outputs": [
        {
          "output_type": "stream",
          "name": "stderr",
          "text": [
            "[nltk_data] Downloading package stopwords to /root/nltk_data...\n",
            "[nltk_data]   Unzipping corpora/stopwords.zip.\n"
          ]
        }
      ],
      "source": [
        "import nltk\n",
        "nltk.download('stopwords')\n",
        "\n",
        "import numpy as np\n",
        "import pandas as pd\n",
        "import os\n",
        "import re\n",
        "import matplotlib.pyplot as plt\n",
        "from nltk.corpus import stopwords\n",
        "from bs4 import BeautifulSoup\n",
        "from tensorflow.keras.preprocessing.text import Tokenizer\n",
        "from tensorflow.keras.preprocessing.sequence import pad_sequences\n",
        "import urllib.request\n",
        "import warnings\n",
        "warnings.filterwarnings(\"ignore\", category=UserWarning, module='bs4')\n",
        "import tensorflow as tf"
      ]
    },
    {
      "cell_type": "code",
      "source": [
        "import summa"
      ],
      "metadata": {
        "id": "emuw2mYvNVW9"
      },
      "execution_count": 3,
      "outputs": []
    },
    {
      "cell_type": "code",
      "source": [
        "import urllib.request\n",
        "urllib.request.urlretrieve(\"https://raw.githubusercontent.com/sunnysai12345/News_Summary/master/news_summary_more.csv\", filename=\"news_summary_more.csv\")\n",
        "data = pd.read_csv('news_summary_more.csv', encoding='iso-8859-1')"
      ],
      "metadata": {
        "id": "VB0Tr3K0xJw4"
      },
      "execution_count": 4,
      "outputs": []
    },
    {
      "cell_type": "markdown",
      "source": [
        "#1.전처리"
      ],
      "metadata": {
        "id": "acns-4NPYL2q"
      }
    },
    {
      "cell_type": "code",
      "source": [
        "data_org=data.copy()"
      ],
      "metadata": {
        "id": "seTBpXS8Nbgj"
      },
      "execution_count": 5,
      "outputs": []
    },
    {
      "cell_type": "code",
      "source": [
        "summasumma=\"Tesla CEO Elon Musk has announced that the company's long-awaited Cybertruck will finally begin deliveries this year. Speaking during Tesla's earnings call, Musk said that the Cybertruck production is currently in its beta stage and mass production will commence in 2024. Originally unveiled in 2019, the futuristic electric pickup truck has faced multiple delays due to supply chain issues and design modifications. Musk emphasized that despite the challenges, the Cybertruck represents a significant leap forward in automotive innovation and is expected to set new benchmarks in the electric vehicle industry.\""
      ],
      "metadata": {
        "id": "rbrWD78wbdsU"
      },
      "execution_count": null,
      "outputs": []
    },
    {
      "cell_type": "code",
      "source": [
        "summarize(summasumma,words=20)"
      ],
      "metadata": {
        "colab": {
          "base_uri": "https://localhost:8080/",
          "height": 53
        },
        "id": "ZR7zv9pabmw_",
        "outputId": "ab461927-abcb-44e8-d2cf-2b86a7e633a8"
      },
      "execution_count": null,
      "outputs": [
        {
          "output_type": "execute_result",
          "data": {
            "text/plain": [
              "'Musk emphasized that despite the challenges, the Cybertruck represents a significant leap forward in automotive innovation and is expected to set new benchmarks in the electric vehicle industry.'"
            ],
            "application/vnd.google.colaboratory.intrinsic+json": {
              "type": "string"
            }
          },
          "metadata": {},
          "execution_count": 246
        }
      ]
    },
    {
      "cell_type": "code",
      "source": [
        "data"
      ],
      "metadata": {
        "collapsed": true,
        "colab": {
          "base_uri": "https://localhost:8080/",
          "height": 424
        },
        "id": "NvSFaEFTNp-D",
        "outputId": "6ef3c531-4d66-4b39-c412-9cd7ee47ee2a"
      },
      "execution_count": null,
      "outputs": [
        {
          "output_type": "execute_result",
          "data": {
            "text/plain": [
              "                                               headlines  \\\n",
              "0      upGrad learner switches to career in ML & Al w...   \n",
              "1      Delhi techie wins free food from Swiggy for on...   \n",
              "2      New Zealand end Rohit Sharma-led India's 12-ma...   \n",
              "3      Aegon life iTerm insurance plan helps customer...   \n",
              "4      Have known Hirani for yrs, what if MeToo claim...   \n",
              "...                                                  ...   \n",
              "98396  CRPF jawan axed to death by Maoists in Chhatti...   \n",
              "98397  First song from Sonakshi Sinha's 'Noor' titled...   \n",
              "98398         'The Matrix' film to get a reboot: Reports   \n",
              "98399  Snoop Dogg aims gun at clown dressed as Trump ...   \n",
              "98400  Madhesi Morcha withdraws support to Nepalese g...   \n",
              "\n",
              "                                                    text  \n",
              "0      Saurav Kant, an alumnus of upGrad and IIIT-B's...  \n",
              "1      Kunal Shah's credit card bill payment platform...  \n",
              "2      New Zealand defeated India by 8 wickets in the...  \n",
              "3      With Aegon Life iTerm Insurance plan, customer...  \n",
              "4      Speaking about the sexual harassment allegatio...  \n",
              "...                                                  ...  \n",
              "98396  A CRPF jawan was on Tuesday axed to death with...  \n",
              "98397  'Uff Yeh', the first song from the Sonakshi Si...  \n",
              "98398  According to reports, a new version of the 199...  \n",
              "98399  A new music video shows rapper Snoop Dogg aimi...  \n",
              "98400  Madhesi Morcha, an alliance of seven political...  \n",
              "\n",
              "[98401 rows x 2 columns]"
            ],
            "text/html": [
              "\n",
              "  <div id=\"df-7dfcb056-40ae-40c6-ad34-d5de5a74944a\" class=\"colab-df-container\">\n",
              "    <div>\n",
              "<style scoped>\n",
              "    .dataframe tbody tr th:only-of-type {\n",
              "        vertical-align: middle;\n",
              "    }\n",
              "\n",
              "    .dataframe tbody tr th {\n",
              "        vertical-align: top;\n",
              "    }\n",
              "\n",
              "    .dataframe thead th {\n",
              "        text-align: right;\n",
              "    }\n",
              "</style>\n",
              "<table border=\"1\" class=\"dataframe\">\n",
              "  <thead>\n",
              "    <tr style=\"text-align: right;\">\n",
              "      <th></th>\n",
              "      <th>headlines</th>\n",
              "      <th>text</th>\n",
              "    </tr>\n",
              "  </thead>\n",
              "  <tbody>\n",
              "    <tr>\n",
              "      <th>0</th>\n",
              "      <td>upGrad learner switches to career in ML &amp; Al w...</td>\n",
              "      <td>Saurav Kant, an alumnus of upGrad and IIIT-B's...</td>\n",
              "    </tr>\n",
              "    <tr>\n",
              "      <th>1</th>\n",
              "      <td>Delhi techie wins free food from Swiggy for on...</td>\n",
              "      <td>Kunal Shah's credit card bill payment platform...</td>\n",
              "    </tr>\n",
              "    <tr>\n",
              "      <th>2</th>\n",
              "      <td>New Zealand end Rohit Sharma-led India's 12-ma...</td>\n",
              "      <td>New Zealand defeated India by 8 wickets in the...</td>\n",
              "    </tr>\n",
              "    <tr>\n",
              "      <th>3</th>\n",
              "      <td>Aegon life iTerm insurance plan helps customer...</td>\n",
              "      <td>With Aegon Life iTerm Insurance plan, customer...</td>\n",
              "    </tr>\n",
              "    <tr>\n",
              "      <th>4</th>\n",
              "      <td>Have known Hirani for yrs, what if MeToo claim...</td>\n",
              "      <td>Speaking about the sexual harassment allegatio...</td>\n",
              "    </tr>\n",
              "    <tr>\n",
              "      <th>...</th>\n",
              "      <td>...</td>\n",
              "      <td>...</td>\n",
              "    </tr>\n",
              "    <tr>\n",
              "      <th>98396</th>\n",
              "      <td>CRPF jawan axed to death by Maoists in Chhatti...</td>\n",
              "      <td>A CRPF jawan was on Tuesday axed to death with...</td>\n",
              "    </tr>\n",
              "    <tr>\n",
              "      <th>98397</th>\n",
              "      <td>First song from Sonakshi Sinha's 'Noor' titled...</td>\n",
              "      <td>'Uff Yeh', the first song from the Sonakshi Si...</td>\n",
              "    </tr>\n",
              "    <tr>\n",
              "      <th>98398</th>\n",
              "      <td>'The Matrix' film to get a reboot: Reports</td>\n",
              "      <td>According to reports, a new version of the 199...</td>\n",
              "    </tr>\n",
              "    <tr>\n",
              "      <th>98399</th>\n",
              "      <td>Snoop Dogg aims gun at clown dressed as Trump ...</td>\n",
              "      <td>A new music video shows rapper Snoop Dogg aimi...</td>\n",
              "    </tr>\n",
              "    <tr>\n",
              "      <th>98400</th>\n",
              "      <td>Madhesi Morcha withdraws support to Nepalese g...</td>\n",
              "      <td>Madhesi Morcha, an alliance of seven political...</td>\n",
              "    </tr>\n",
              "  </tbody>\n",
              "</table>\n",
              "<p>98401 rows × 2 columns</p>\n",
              "</div>\n",
              "    <div class=\"colab-df-buttons\">\n",
              "\n",
              "  <div class=\"colab-df-container\">\n",
              "    <button class=\"colab-df-convert\" onclick=\"convertToInteractive('df-7dfcb056-40ae-40c6-ad34-d5de5a74944a')\"\n",
              "            title=\"Convert this dataframe to an interactive table.\"\n",
              "            style=\"display:none;\">\n",
              "\n",
              "  <svg xmlns=\"http://www.w3.org/2000/svg\" height=\"24px\" viewBox=\"0 -960 960 960\">\n",
              "    <path d=\"M120-120v-720h720v720H120Zm60-500h600v-160H180v160Zm220 220h160v-160H400v160Zm0 220h160v-160H400v160ZM180-400h160v-160H180v160Zm440 0h160v-160H620v160ZM180-180h160v-160H180v160Zm440 0h160v-160H620v160Z\"/>\n",
              "  </svg>\n",
              "    </button>\n",
              "\n",
              "  <style>\n",
              "    .colab-df-container {\n",
              "      display:flex;\n",
              "      gap: 12px;\n",
              "    }\n",
              "\n",
              "    .colab-df-convert {\n",
              "      background-color: #E8F0FE;\n",
              "      border: none;\n",
              "      border-radius: 50%;\n",
              "      cursor: pointer;\n",
              "      display: none;\n",
              "      fill: #1967D2;\n",
              "      height: 32px;\n",
              "      padding: 0 0 0 0;\n",
              "      width: 32px;\n",
              "    }\n",
              "\n",
              "    .colab-df-convert:hover {\n",
              "      background-color: #E2EBFA;\n",
              "      box-shadow: 0px 1px 2px rgba(60, 64, 67, 0.3), 0px 1px 3px 1px rgba(60, 64, 67, 0.15);\n",
              "      fill: #174EA6;\n",
              "    }\n",
              "\n",
              "    .colab-df-buttons div {\n",
              "      margin-bottom: 4px;\n",
              "    }\n",
              "\n",
              "    [theme=dark] .colab-df-convert {\n",
              "      background-color: #3B4455;\n",
              "      fill: #D2E3FC;\n",
              "    }\n",
              "\n",
              "    [theme=dark] .colab-df-convert:hover {\n",
              "      background-color: #434B5C;\n",
              "      box-shadow: 0px 1px 3px 1px rgba(0, 0, 0, 0.15);\n",
              "      filter: drop-shadow(0px 1px 2px rgba(0, 0, 0, 0.3));\n",
              "      fill: #FFFFFF;\n",
              "    }\n",
              "  </style>\n",
              "\n",
              "    <script>\n",
              "      const buttonEl =\n",
              "        document.querySelector('#df-7dfcb056-40ae-40c6-ad34-d5de5a74944a button.colab-df-convert');\n",
              "      buttonEl.style.display =\n",
              "        google.colab.kernel.accessAllowed ? 'block' : 'none';\n",
              "\n",
              "      async function convertToInteractive(key) {\n",
              "        const element = document.querySelector('#df-7dfcb056-40ae-40c6-ad34-d5de5a74944a');\n",
              "        const dataTable =\n",
              "          await google.colab.kernel.invokeFunction('convertToInteractive',\n",
              "                                                    [key], {});\n",
              "        if (!dataTable) return;\n",
              "\n",
              "        const docLinkHtml = 'Like what you see? Visit the ' +\n",
              "          '<a target=\"_blank\" href=https://colab.research.google.com/notebooks/data_table.ipynb>data table notebook</a>'\n",
              "          + ' to learn more about interactive tables.';\n",
              "        element.innerHTML = '';\n",
              "        dataTable['output_type'] = 'display_data';\n",
              "        await google.colab.output.renderOutput(dataTable, element);\n",
              "        const docLink = document.createElement('div');\n",
              "        docLink.innerHTML = docLinkHtml;\n",
              "        element.appendChild(docLink);\n",
              "      }\n",
              "    </script>\n",
              "  </div>\n",
              "\n",
              "\n",
              "<div id=\"df-b25d375e-ea76-4c23-b5fa-8da1233f5ea6\">\n",
              "  <button class=\"colab-df-quickchart\" onclick=\"quickchart('df-b25d375e-ea76-4c23-b5fa-8da1233f5ea6')\"\n",
              "            title=\"Suggest charts\"\n",
              "            style=\"display:none;\">\n",
              "\n",
              "<svg xmlns=\"http://www.w3.org/2000/svg\" height=\"24px\"viewBox=\"0 0 24 24\"\n",
              "     width=\"24px\">\n",
              "    <g>\n",
              "        <path d=\"M19 3H5c-1.1 0-2 .9-2 2v14c0 1.1.9 2 2 2h14c1.1 0 2-.9 2-2V5c0-1.1-.9-2-2-2zM9 17H7v-7h2v7zm4 0h-2V7h2v10zm4 0h-2v-4h2v4z\"/>\n",
              "    </g>\n",
              "</svg>\n",
              "  </button>\n",
              "\n",
              "<style>\n",
              "  .colab-df-quickchart {\n",
              "      --bg-color: #E8F0FE;\n",
              "      --fill-color: #1967D2;\n",
              "      --hover-bg-color: #E2EBFA;\n",
              "      --hover-fill-color: #174EA6;\n",
              "      --disabled-fill-color: #AAA;\n",
              "      --disabled-bg-color: #DDD;\n",
              "  }\n",
              "\n",
              "  [theme=dark] .colab-df-quickchart {\n",
              "      --bg-color: #3B4455;\n",
              "      --fill-color: #D2E3FC;\n",
              "      --hover-bg-color: #434B5C;\n",
              "      --hover-fill-color: #FFFFFF;\n",
              "      --disabled-bg-color: #3B4455;\n",
              "      --disabled-fill-color: #666;\n",
              "  }\n",
              "\n",
              "  .colab-df-quickchart {\n",
              "    background-color: var(--bg-color);\n",
              "    border: none;\n",
              "    border-radius: 50%;\n",
              "    cursor: pointer;\n",
              "    display: none;\n",
              "    fill: var(--fill-color);\n",
              "    height: 32px;\n",
              "    padding: 0;\n",
              "    width: 32px;\n",
              "  }\n",
              "\n",
              "  .colab-df-quickchart:hover {\n",
              "    background-color: var(--hover-bg-color);\n",
              "    box-shadow: 0 1px 2px rgba(60, 64, 67, 0.3), 0 1px 3px 1px rgba(60, 64, 67, 0.15);\n",
              "    fill: var(--button-hover-fill-color);\n",
              "  }\n",
              "\n",
              "  .colab-df-quickchart-complete:disabled,\n",
              "  .colab-df-quickchart-complete:disabled:hover {\n",
              "    background-color: var(--disabled-bg-color);\n",
              "    fill: var(--disabled-fill-color);\n",
              "    box-shadow: none;\n",
              "  }\n",
              "\n",
              "  .colab-df-spinner {\n",
              "    border: 2px solid var(--fill-color);\n",
              "    border-color: transparent;\n",
              "    border-bottom-color: var(--fill-color);\n",
              "    animation:\n",
              "      spin 1s steps(1) infinite;\n",
              "  }\n",
              "\n",
              "  @keyframes spin {\n",
              "    0% {\n",
              "      border-color: transparent;\n",
              "      border-bottom-color: var(--fill-color);\n",
              "      border-left-color: var(--fill-color);\n",
              "    }\n",
              "    20% {\n",
              "      border-color: transparent;\n",
              "      border-left-color: var(--fill-color);\n",
              "      border-top-color: var(--fill-color);\n",
              "    }\n",
              "    30% {\n",
              "      border-color: transparent;\n",
              "      border-left-color: var(--fill-color);\n",
              "      border-top-color: var(--fill-color);\n",
              "      border-right-color: var(--fill-color);\n",
              "    }\n",
              "    40% {\n",
              "      border-color: transparent;\n",
              "      border-right-color: var(--fill-color);\n",
              "      border-top-color: var(--fill-color);\n",
              "    }\n",
              "    60% {\n",
              "      border-color: transparent;\n",
              "      border-right-color: var(--fill-color);\n",
              "    }\n",
              "    80% {\n",
              "      border-color: transparent;\n",
              "      border-right-color: var(--fill-color);\n",
              "      border-bottom-color: var(--fill-color);\n",
              "    }\n",
              "    90% {\n",
              "      border-color: transparent;\n",
              "      border-bottom-color: var(--fill-color);\n",
              "    }\n",
              "  }\n",
              "</style>\n",
              "\n",
              "  <script>\n",
              "    async function quickchart(key) {\n",
              "      const quickchartButtonEl =\n",
              "        document.querySelector('#' + key + ' button');\n",
              "      quickchartButtonEl.disabled = true;  // To prevent multiple clicks.\n",
              "      quickchartButtonEl.classList.add('colab-df-spinner');\n",
              "      try {\n",
              "        const charts = await google.colab.kernel.invokeFunction(\n",
              "            'suggestCharts', [key], {});\n",
              "      } catch (error) {\n",
              "        console.error('Error during call to suggestCharts:', error);\n",
              "      }\n",
              "      quickchartButtonEl.classList.remove('colab-df-spinner');\n",
              "      quickchartButtonEl.classList.add('colab-df-quickchart-complete');\n",
              "    }\n",
              "    (() => {\n",
              "      let quickchartButtonEl =\n",
              "        document.querySelector('#df-b25d375e-ea76-4c23-b5fa-8da1233f5ea6 button');\n",
              "      quickchartButtonEl.style.display =\n",
              "        google.colab.kernel.accessAllowed ? 'block' : 'none';\n",
              "    })();\n",
              "  </script>\n",
              "</div>\n",
              "\n",
              "  <div id=\"id_21c275ae-defe-4e0a-9666-001b4abff782\">\n",
              "    <style>\n",
              "      .colab-df-generate {\n",
              "        background-color: #E8F0FE;\n",
              "        border: none;\n",
              "        border-radius: 50%;\n",
              "        cursor: pointer;\n",
              "        display: none;\n",
              "        fill: #1967D2;\n",
              "        height: 32px;\n",
              "        padding: 0 0 0 0;\n",
              "        width: 32px;\n",
              "      }\n",
              "\n",
              "      .colab-df-generate:hover {\n",
              "        background-color: #E2EBFA;\n",
              "        box-shadow: 0px 1px 2px rgba(60, 64, 67, 0.3), 0px 1px 3px 1px rgba(60, 64, 67, 0.15);\n",
              "        fill: #174EA6;\n",
              "      }\n",
              "\n",
              "      [theme=dark] .colab-df-generate {\n",
              "        background-color: #3B4455;\n",
              "        fill: #D2E3FC;\n",
              "      }\n",
              "\n",
              "      [theme=dark] .colab-df-generate:hover {\n",
              "        background-color: #434B5C;\n",
              "        box-shadow: 0px 1px 3px 1px rgba(0, 0, 0, 0.15);\n",
              "        filter: drop-shadow(0px 1px 2px rgba(0, 0, 0, 0.3));\n",
              "        fill: #FFFFFF;\n",
              "      }\n",
              "    </style>\n",
              "    <button class=\"colab-df-generate\" onclick=\"generateWithVariable('data')\"\n",
              "            title=\"Generate code using this dataframe.\"\n",
              "            style=\"display:none;\">\n",
              "\n",
              "  <svg xmlns=\"http://www.w3.org/2000/svg\" height=\"24px\"viewBox=\"0 0 24 24\"\n",
              "       width=\"24px\">\n",
              "    <path d=\"M7,19H8.4L18.45,9,17,7.55,7,17.6ZM5,21V16.75L18.45,3.32a2,2,0,0,1,2.83,0l1.4,1.43a1.91,1.91,0,0,1,.58,1.4,1.91,1.91,0,0,1-.58,1.4L9.25,21ZM18.45,9,17,7.55Zm-12,3A5.31,5.31,0,0,0,4.9,8.1,5.31,5.31,0,0,0,1,6.5,5.31,5.31,0,0,0,4.9,4.9,5.31,5.31,0,0,0,6.5,1,5.31,5.31,0,0,0,8.1,4.9,5.31,5.31,0,0,0,12,6.5,5.46,5.46,0,0,0,6.5,12Z\"/>\n",
              "  </svg>\n",
              "    </button>\n",
              "    <script>\n",
              "      (() => {\n",
              "      const buttonEl =\n",
              "        document.querySelector('#id_21c275ae-defe-4e0a-9666-001b4abff782 button.colab-df-generate');\n",
              "      buttonEl.style.display =\n",
              "        google.colab.kernel.accessAllowed ? 'block' : 'none';\n",
              "\n",
              "      buttonEl.onclick = () => {\n",
              "        google.colab.notebook.generateWithVariable('data');\n",
              "      }\n",
              "      })();\n",
              "    </script>\n",
              "  </div>\n",
              "\n",
              "    </div>\n",
              "  </div>\n"
            ],
            "application/vnd.google.colaboratory.intrinsic+json": {
              "type": "dataframe",
              "variable_name": "data",
              "summary": "{\n  \"name\": \"data\",\n  \"rows\": 98401,\n  \"fields\": [\n    {\n      \"column\": \"headlines\",\n      \"properties\": {\n        \"dtype\": \"string\",\n        \"num_unique_values\": 98280,\n        \"samples\": [\n          \"Salman Khan asked to appear before court in Arms Act case\",\n          \"Man who beat Federer at Wimbledon once lost to AB de Villiers\",\n          \"Alwar lynching victim died of 'shock': Post-mortem report\"\n        ],\n        \"semantic_type\": \"\",\n        \"description\": \"\"\n      }\n    },\n    {\n      \"column\": \"text\",\n      \"properties\": {\n        \"dtype\": \"string\",\n        \"num_unique_values\": 98360,\n        \"samples\": [\n          \"Digital payments startup Paytm has raised $1.4 billion from SoftBank in India's largest funding round. This is also SoftBank's biggest investment in the Indian startup ecosystem till date. The latest investment by SoftBank will value Paytm at around $8 billion, up from its valuation of $4.8 billion in August 2016. \",\n          \"Oil companies on Thursday reduced the petrol price by \\u00c3\\u00a2\\u00c2\\u0082\\u00c2\\u00b91.12/litre and diesel by \\u00c3\\u00a2\\u00c2\\u0082\\u00c2\\u00b91.24/litre effective June 16. This is the first cut in prices following the decision to revise fuel prices daily and the revision shall be applicable from 6 AM to 6 AM the next day. Customers can know the revised prices through social media posts and 'Fuel@IOC' app.\",\n          \"The Indian Army has announced plans to deploy women officers for cyber warfare as they face cybersecurity threats from both state and non-state actors. In order to increase the number of female officers and provide them more opportunities, the Army is also planning to hire 850 of women in the military police branch and some in the language training branch.\"\n        ],\n        \"semantic_type\": \"\",\n        \"description\": \"\"\n      }\n    }\n  ]\n}"
            }
          },
          "metadata": {},
          "execution_count": 4
        }
      ]
    },
    {
      "cell_type": "code",
      "source": [
        "print('Text 열에서 중복을 배제한 유일한 샘플의 수 :', data['text'].nunique())\n",
        "print('Summary 열에서 중복을 배제한 유일한 샘플의 수 :', data['headlines'].nunique())"
      ],
      "metadata": {
        "colab": {
          "base_uri": "https://localhost:8080/"
        },
        "id": "S_RZLgl2xjZt",
        "outputId": "e42c3007-5e02-4eae-fc42-dfb9112c5935"
      },
      "execution_count": 6,
      "outputs": [
        {
          "output_type": "stream",
          "name": "stdout",
          "text": [
            "Text 열에서 중복을 배제한 유일한 샘플의 수 : 98360\n",
            "Summary 열에서 중복을 배제한 유일한 샘플의 수 : 98280\n"
          ]
        }
      ]
    },
    {
      "cell_type": "code",
      "source": [
        "# inplace=True 를 설정하면 DataFrame 타입 값을 return 하지 않고 data 내부를 직접적으로 바꿉니다\n",
        "data.drop_duplicates(subset = ['text'], inplace=True)\n",
        "print('전체 샘플수 :', (len(data)))"
      ],
      "metadata": {
        "colab": {
          "base_uri": "https://localhost:8080/"
        },
        "id": "RC1hVBQvxkkZ",
        "outputId": "1d7eb162-9071-4255-ce4b-a9c54598f5d4"
      },
      "execution_count": 7,
      "outputs": [
        {
          "output_type": "stream",
          "name": "stdout",
          "text": [
            "전체 샘플수 : 98360\n"
          ]
        }
      ]
    },
    {
      "cell_type": "code",
      "source": [
        "print(data.isnull().sum())"
      ],
      "metadata": {
        "colab": {
          "base_uri": "https://localhost:8080/"
        },
        "id": "SBy6kMYsxmKo",
        "outputId": "aa9d932e-e5fd-4291-a420-1b38a2b9e547"
      },
      "execution_count": 8,
      "outputs": [
        {
          "output_type": "stream",
          "name": "stdout",
          "text": [
            "headlines    0\n",
            "text         0\n",
            "dtype: int64\n"
          ]
        }
      ]
    },
    {
      "cell_type": "code",
      "source": [
        "contractions = {\"ain't\": \"is not\", \"aren't\": \"are not\",\"can't\": \"cannot\", \"'cause\": \"because\", \"could've\": \"could have\", \"couldn't\": \"could not\",\n",
        "                           \"didn't\": \"did not\",  \"doesn't\": \"does not\", \"don't\": \"do not\", \"hadn't\": \"had not\", \"hasn't\": \"has not\", \"haven't\": \"have not\",\n",
        "                           \"he'd\": \"he would\",\"he'll\": \"he will\", \"he's\": \"he is\", \"how'd\": \"how did\", \"how'd'y\": \"how do you\", \"how'll\": \"how will\", \"how's\": \"how is\",\n",
        "                           \"I'd\": \"I would\", \"I'd've\": \"I would have\", \"I'll\": \"I will\", \"I'll've\": \"I will have\",\"I'm\": \"I am\", \"I've\": \"I have\", \"i'd\": \"i would\",\n",
        "                           \"i'd've\": \"i would have\", \"i'll\": \"i will\",  \"i'll've\": \"i will have\",\"i'm\": \"i am\", \"i've\": \"i have\", \"isn't\": \"is not\", \"it'd\": \"it would\",\n",
        "                           \"it'd've\": \"it would have\", \"it'll\": \"it will\", \"it'll've\": \"it will have\",\"it's\": \"it is\", \"let's\": \"let us\", \"ma'am\": \"madam\",\n",
        "                           \"mayn't\": \"may not\", \"might've\": \"might have\",\"mightn't\": \"might not\",\"mightn't've\": \"might not have\", \"must've\": \"must have\",\n",
        "                           \"mustn't\": \"must not\", \"mustn't've\": \"must not have\", \"needn't\": \"need not\", \"needn't've\": \"need not have\",\"o'clock\": \"of the clock\",\n",
        "                           \"oughtn't\": \"ought not\", \"oughtn't've\": \"ought not have\", \"shan't\": \"shall not\", \"sha'n't\": \"shall not\", \"shan't've\": \"shall not have\",\n",
        "                           \"she'd\": \"she would\", \"she'd've\": \"she would have\", \"she'll\": \"she will\", \"she'll've\": \"she will have\", \"she's\": \"she is\",\n",
        "                           \"should've\": \"should have\", \"shouldn't\": \"should not\", \"shouldn't've\": \"should not have\", \"so've\": \"so have\",\"so's\": \"so as\",\n",
        "                           \"this's\": \"this is\",\"that'd\": \"that would\", \"that'd've\": \"that would have\", \"that's\": \"that is\", \"there'd\": \"there would\",\n",
        "                           \"there'd've\": \"there would have\", \"there's\": \"there is\", \"here's\": \"here is\",\"they'd\": \"they would\", \"they'd've\": \"they would have\",\n",
        "                           \"they'll\": \"they will\", \"they'll've\": \"they will have\", \"they're\": \"they are\", \"they've\": \"they have\", \"to've\": \"to have\",\n",
        "                           \"wasn't\": \"was not\", \"we'd\": \"we would\", \"we'd've\": \"we would have\", \"we'll\": \"we will\", \"we'll've\": \"we will have\", \"we're\": \"we are\",\n",
        "                           \"we've\": \"we have\", \"weren't\": \"were not\", \"what'll\": \"what will\", \"what'll've\": \"what will have\", \"what're\": \"what are\",\n",
        "                           \"what's\": \"what is\", \"what've\": \"what have\", \"when's\": \"when is\", \"when've\": \"when have\", \"where'd\": \"where did\", \"where's\": \"where is\",\n",
        "                           \"where've\": \"where have\", \"who'll\": \"who will\", \"who'll've\": \"who will have\", \"who's\": \"who is\", \"who've\": \"who have\",\n",
        "                           \"why's\": \"why is\", \"why've\": \"why have\", \"will've\": \"will have\", \"won't\": \"will not\", \"won't've\": \"will not have\",\n",
        "                           \"would've\": \"would have\", \"wouldn't\": \"would not\", \"wouldn't've\": \"would not have\", \"y'all\": \"you all\",\n",
        "                           \"y'all'd\": \"you all would\",\"y'all'd've\": \"you all would have\",\"y'all're\": \"you all are\",\"y'all've\": \"you all have\",\n",
        "                           \"you'd\": \"you would\", \"you'd've\": \"you would have\", \"you'll\": \"you will\", \"you'll've\": \"you will have\",\n",
        "                           \"you're\": \"you are\", \"you've\": \"you have\"}\n",
        "\n",
        "print(\"정규화 사전의 수: \", len(contractions))"
      ],
      "metadata": {
        "colab": {
          "base_uri": "https://localhost:8080/"
        },
        "id": "74Wax3B-xovI",
        "outputId": "b6fa15f4-94a1-4e64-a66b-e8cd9f95a79f"
      },
      "execution_count": 9,
      "outputs": [
        {
          "output_type": "stream",
          "name": "stdout",
          "text": [
            "정규화 사전의 수:  120\n"
          ]
        }
      ]
    },
    {
      "cell_type": "code",
      "source": [
        "print('불용어 개수 :', len(stopwords.words('english') ))\n",
        "print(stopwords.words('english'))"
      ],
      "metadata": {
        "colab": {
          "base_uri": "https://localhost:8080/"
        },
        "id": "wLTmPj4RN9Uv",
        "outputId": "2c7c49b2-bd2c-4f6e-bd18-ad072f62f77f"
      },
      "execution_count": 10,
      "outputs": [
        {
          "output_type": "stream",
          "name": "stdout",
          "text": [
            "불용어 개수 : 198\n",
            "['a', 'about', 'above', 'after', 'again', 'against', 'ain', 'all', 'am', 'an', 'and', 'any', 'are', 'aren', \"aren't\", 'as', 'at', 'be', 'because', 'been', 'before', 'being', 'below', 'between', 'both', 'but', 'by', 'can', 'couldn', \"couldn't\", 'd', 'did', 'didn', \"didn't\", 'do', 'does', 'doesn', \"doesn't\", 'doing', 'don', \"don't\", 'down', 'during', 'each', 'few', 'for', 'from', 'further', 'had', 'hadn', \"hadn't\", 'has', 'hasn', \"hasn't\", 'have', 'haven', \"haven't\", 'having', 'he', \"he'd\", \"he'll\", 'her', 'here', 'hers', 'herself', \"he's\", 'him', 'himself', 'his', 'how', 'i', \"i'd\", 'if', \"i'll\", \"i'm\", 'in', 'into', 'is', 'isn', \"isn't\", 'it', \"it'd\", \"it'll\", \"it's\", 'its', 'itself', \"i've\", 'just', 'll', 'm', 'ma', 'me', 'mightn', \"mightn't\", 'more', 'most', 'mustn', \"mustn't\", 'my', 'myself', 'needn', \"needn't\", 'no', 'nor', 'not', 'now', 'o', 'of', 'off', 'on', 'once', 'only', 'or', 'other', 'our', 'ours', 'ourselves', 'out', 'over', 'own', 're', 's', 'same', 'shan', \"shan't\", 'she', \"she'd\", \"she'll\", \"she's\", 'should', 'shouldn', \"shouldn't\", \"should've\", 'so', 'some', 'such', 't', 'than', 'that', \"that'll\", 'the', 'their', 'theirs', 'them', 'themselves', 'then', 'there', 'these', 'they', \"they'd\", \"they'll\", \"they're\", \"they've\", 'this', 'those', 'through', 'to', 'too', 'under', 'until', 'up', 've', 'very', 'was', 'wasn', \"wasn't\", 'we', \"we'd\", \"we'll\", \"we're\", 'were', 'weren', \"weren't\", \"we've\", 'what', 'when', 'where', 'which', 'while', 'who', 'whom', 'why', 'will', 'with', 'won', \"won't\", 'wouldn', \"wouldn't\", 'y', 'you', \"you'd\", \"you'll\", 'your', \"you're\", 'yours', 'yourself', 'yourselves', \"you've\"]\n"
          ]
        }
      ]
    },
    {
      "cell_type": "code",
      "source": [
        "data.reset_index(inplace=True,drop=True)"
      ],
      "metadata": {
        "id": "8Q6XbBspOEVi"
      },
      "execution_count": 11,
      "outputs": []
    },
    {
      "cell_type": "code",
      "source": [
        "data.iloc[0]['text']"
      ],
      "metadata": {
        "colab": {
          "base_uri": "https://localhost:8080/",
          "height": 70
        },
        "id": "0tUky8z1OL_C",
        "outputId": "55f0008e-e1e6-445c-8870-2cde438837ec"
      },
      "execution_count": null,
      "outputs": [
        {
          "output_type": "execute_result",
          "data": {
            "text/plain": [
              "\"Saurav Kant, an alumnus of upGrad and IIIT-B's PG Program in Machine learning and Artificial Intelligence, was a Sr Systems Engineer at Infosys with almost 5 years of work experience. The program and upGrad's 360-degree career support helped him transition to a Data Scientist at Tech Mahindra with 90% salary hike. upGrad's Online Power Learning has powered 3 lakh+ careers.\""
            ],
            "application/vnd.google.colaboratory.intrinsic+json": {
              "type": "string"
            }
          },
          "metadata": {},
          "execution_count": 11
        }
      ]
    },
    {
      "cell_type": "code",
      "source": [
        "# 데이터 전처리 함수\n",
        "def preprocess_sentence(sentence, remove_stopwords=True):\n",
        "    sentence = sentence.lower() # 텍스트 소문자화\n",
        "    sentence = BeautifulSoup(sentence, \"lxml\").text # <br />, <a href = ...> 등의 html 태그 제거, html아니면 그냥 text반환\n",
        "    sentence = re.sub(r'\\([^)]*\\)', '', sentence) # 괄호로 닫힌 문자열 (...) 제거 Ex) my husband (and myself!) for => my husband for\n",
        "    sentence = re.sub('\"','', sentence) # 쌍따옴표 \" 제거\n",
        "    sentence = ' '.join([contractions[t] if t in contractions else t for t in sentence.split(\" \")]) # 약어 정규화\n",
        "    sentence = re.sub(r\"'s\\b\",\"\", sentence) # 소유격 제거. Ex) roland's -> roland\n",
        "    # sentence = re.sub(r'(\\d+)([a-zA-Z]+)', r'\\1 \\2', sentence)# 숫자 분리\n",
        "    # sentence = re.sub(r'([a-zA-Z]+)(\\d+)', r'\\1 \\2', sentence)# 숫자 분리\n",
        "    sentence = re.sub(r'(\\d+)\\.\\d+', r'\\1', sentence) #float 정수로 바꾸기\n",
        "    sentence = re.sub(\"[^a-zA-Z0-9]\", \" \", sentence) # 영어 외 문자(숫자, 특수문자 등) 공백으로 변환, 숫자 살림\n",
        "    sentence = re.sub('[m]{2,}', 'mm', sentence) # m이 3개 이상이면 2개로 변경. Ex) ummmmmmm yeah -> umm yeah\n",
        "    sentence = re.sub(r'(?<=\\d) (\\d)', r'\\1', sentence) #숫자 붙이기\n",
        "    sentence = re.sub(r'(?<=\\d)[a-zA-Z]+', '', sentence)  # 숫자 뒤에 붙은 문자 삭제\n",
        "    sentence = re.sub(r'[a-zA-Z]+(?=\\d)', '', sentence)  # 숫자 앞에 붙은 문자 삭제\n",
        "    # 불용어 제거 (Text)\n",
        "    if remove_stopwords:\n",
        "        tokens = ' '.join(word for word in sentence.split() if not word in stopwords.words('english') if len(word) > 1)\n",
        "    # 불용어 미제거 (Summary)\n",
        "    else:\n",
        "        tokens = ' '.join(word for word in sentence.split() if len(word) > 1)\n",
        "    return tokens\n",
        "print('=3')"
      ],
      "metadata": {
        "colab": {
          "base_uri": "https://localhost:8080/"
        },
        "id": "SPLI6IKdxqwh",
        "outputId": "15bd8838-f24d-49ee-f8c8-3cc218cf2449"
      },
      "execution_count": 12,
      "outputs": [
        {
          "output_type": "stream",
          "name": "stdout",
          "text": [
            "=3\n"
          ]
        }
      ]
    },
    {
      "cell_type": "code",
      "source": [
        "# 전체 Text 데이터에 대한 전처리 : 10분 이상 시간이 걸릴 수 있습니다.\n",
        "clean_text = []\n",
        "\n",
        "for i in data['text']:\n",
        "    clean_text.append(preprocess_sentence(i))\n",
        "\n",
        "# 전처리 후 출력\n",
        "print(\"Text 전처리 후 결과: \", clean_text[:5])"
      ],
      "metadata": {
        "colab": {
          "base_uri": "https://localhost:8080/"
        },
        "id": "vb2bcALtxsbS",
        "outputId": "d8d22e68-4be3-4e2a-f860-6a7354ede866"
      },
      "execution_count": 13,
      "outputs": [
        {
          "output_type": "stream",
          "name": "stdout",
          "text": [
            "Text 전처리 후 결과:  ['saurav kant alumnus upgrad iiit pg program machine learning artificial intelligence sr systems engineer infosys almost years work experience program upgrad 360 degree career support helped transition data scientist tech mahindra 90 salary hike upgrad online power learning powered lakh careers', 'kunal shah credit card bill payment platform cred gave users chance win free food swiggy one year pranav kaushik delhi techie bagged reward spending 2000 cred coins users get one cred coin per rupee bill paid used avail rewards brands like ixigo bookmyshow ubereats cult fit', 'new zealand defeated india wickets fourth odi hamilton thursday win first match five match odi series india lost international match rohit sharma captaincy 12 consecutive victories dating back march 2018 match witnessed india getting 92 seventh lowest total odi cricket history', 'aegon life iterm insurance plan customers enjoy tax benefits premiums paid save 46800 taxes plan provides life cover age 100 years also customers options insure critical illnesses disability accidental death benefit rider life cover age 80 years', 'speaking sexual harassment allegations rajkumar hirani sonam kapoor said known hirani many years true metoo movement get derailed metoo movement always believe woman case need reserve judgment added hirani accused assistant worked sanju']\n"
          ]
        }
      ]
    },
    {
      "cell_type": "code",
      "source": [
        "data['text'][0]"
      ],
      "metadata": {
        "colab": {
          "base_uri": "https://localhost:8080/",
          "height": 70
        },
        "id": "_XHbwX7PBcIX",
        "outputId": "d7e0f540-6f3f-4d99-de1e-4fa790a71005"
      },
      "execution_count": null,
      "outputs": [
        {
          "output_type": "execute_result",
          "data": {
            "text/plain": [
              "\"Saurav Kant, an alumnus of upGrad and IIIT-B's PG Program in Machine learning and Artificial Intelligence, was a Sr Systems Engineer at Infosys with almost 5 years of work experience. The program and upGrad's 360-degree career support helped him transition to a Data Scientist at Tech Mahindra with 90% salary hike. upGrad's Online Power Learning has powered 3 lakh+ careers.\""
            ],
            "application/vnd.google.colaboratory.intrinsic+json": {
              "type": "string"
            }
          },
          "metadata": {},
          "execution_count": 18
        }
      ]
    },
    {
      "cell_type": "code",
      "source": [
        "# 전체 Summary 데이터에 대한 전처리 : 5분 이상 시간이 걸릴 수 있습니다.\n",
        "clean_summary = []\n",
        "\n",
        "for i in data['headlines']:\n",
        "    clean_summary.append(preprocess_sentence(i,remove_stopwords=False))\n",
        "\n",
        "print(\"Summary 전처리 후 결과: \", clean_summary[:5])"
      ],
      "metadata": {
        "colab": {
          "base_uri": "https://localhost:8080/"
        },
        "id": "TKGrHHjQxt0w",
        "outputId": "f77a45e5-b1fb-41a6-e6fe-0ba30b0cf2fd"
      },
      "execution_count": 14,
      "outputs": [
        {
          "output_type": "stream",
          "name": "stdout",
          "text": [
            "Summary 전처리 후 결과:  ['upgrad learner switches to career in ml al with 90 salary hike', 'delhi techie wins free food from swiggy for one year on cred', 'new zealand end rohit sharma led india 12 match winning streak', 'aegon life iterm insurance plan helps customers save tax', 'have known hirani for yrs what if metoo claims are not true sonam']\n"
          ]
        }
      ]
    },
    {
      "cell_type": "code",
      "source": [
        "data['headlines'][4]"
      ],
      "metadata": {
        "colab": {
          "base_uri": "https://localhost:8080/",
          "height": 35
        },
        "id": "S-nqMsEiNUJS",
        "outputId": "89cb0ff1-a29e-44d0-b491-e45e1f4a1d92"
      },
      "execution_count": null,
      "outputs": [
        {
          "output_type": "execute_result",
          "data": {
            "text/plain": [
              "'Have known Hirani for yrs, what if MeToo claims are not true: Sonam'"
            ],
            "application/vnd.google.colaboratory.intrinsic+json": {
              "type": "string"
            }
          },
          "metadata": {},
          "execution_count": 27
        }
      ]
    },
    {
      "cell_type": "code",
      "source": [
        "data['Text'] = clean_text\n",
        "data['Summary'] = clean_summary\n",
        "\n",
        "# 빈 값을 Null 값으로 변환\n",
        "data.replace('', np.nan, inplace=True)\n",
        "print('=3')"
      ],
      "metadata": {
        "colab": {
          "base_uri": "https://localhost:8080/"
        },
        "id": "9fSMD3uyxvCf",
        "outputId": "507fd1f3-5f2d-4fb4-f7b8-e1c05bb37ee9"
      },
      "execution_count": 15,
      "outputs": [
        {
          "output_type": "stream",
          "name": "stdout",
          "text": [
            "=3\n"
          ]
        }
      ]
    },
    {
      "cell_type": "code",
      "source": [
        "data.isnull().sum()"
      ],
      "metadata": {
        "colab": {
          "base_uri": "https://localhost:8080/",
          "height": 210
        },
        "id": "OFb4_iMFxw60",
        "outputId": "dbe8f09f-b700-4fe6-ba1f-15d28460f7f5"
      },
      "execution_count": 16,
      "outputs": [
        {
          "output_type": "execute_result",
          "data": {
            "text/plain": [
              "headlines    0\n",
              "text         0\n",
              "Text         0\n",
              "Summary      0\n",
              "dtype: int64"
            ],
            "text/html": [
              "<div>\n",
              "<style scoped>\n",
              "    .dataframe tbody tr th:only-of-type {\n",
              "        vertical-align: middle;\n",
              "    }\n",
              "\n",
              "    .dataframe tbody tr th {\n",
              "        vertical-align: top;\n",
              "    }\n",
              "\n",
              "    .dataframe thead th {\n",
              "        text-align: right;\n",
              "    }\n",
              "</style>\n",
              "<table border=\"1\" class=\"dataframe\">\n",
              "  <thead>\n",
              "    <tr style=\"text-align: right;\">\n",
              "      <th></th>\n",
              "      <th>0</th>\n",
              "    </tr>\n",
              "  </thead>\n",
              "  <tbody>\n",
              "    <tr>\n",
              "      <th>headlines</th>\n",
              "      <td>0</td>\n",
              "    </tr>\n",
              "    <tr>\n",
              "      <th>text</th>\n",
              "      <td>0</td>\n",
              "    </tr>\n",
              "    <tr>\n",
              "      <th>Text</th>\n",
              "      <td>0</td>\n",
              "    </tr>\n",
              "    <tr>\n",
              "      <th>Summary</th>\n",
              "      <td>0</td>\n",
              "    </tr>\n",
              "  </tbody>\n",
              "</table>\n",
              "</div><br><label><b>dtype:</b> int64</label>"
            ]
          },
          "metadata": {},
          "execution_count": 16
        }
      ]
    },
    {
      "cell_type": "code",
      "source": [
        "data2=data.copy()"
      ],
      "metadata": {
        "id": "gYddtgO9Ttgh"
      },
      "execution_count": 17,
      "outputs": []
    },
    {
      "cell_type": "code",
      "source": [
        "data2.drop_duplicates(subset = ['Text'], inplace=True)"
      ],
      "metadata": {
        "id": "-cgOsTlVTzY6"
      },
      "execution_count": 18,
      "outputs": []
    },
    {
      "cell_type": "code",
      "source": [
        "data_proc=data[['Text','Summary']].copy()"
      ],
      "metadata": {
        "id": "w1j-lbzUxwzg"
      },
      "execution_count": 19,
      "outputs": []
    },
    {
      "cell_type": "code",
      "source": [
        "data_proc.describe()"
      ],
      "metadata": {
        "colab": {
          "base_uri": "https://localhost:8080/",
          "height": 175
        },
        "id": "IJo3n97xWXTy",
        "outputId": "bfedf340-47ce-4c94-dc4e-9129f7b237d8"
      },
      "execution_count": 20,
      "outputs": [
        {
          "output_type": "execute_result",
          "data": {
            "text/plain": [
              "                                                     Text  \\\n",
              "count                                               98360   \n",
              "unique                                              98330   \n",
              "top     former indian cricketer sachin tendulkar score...   \n",
              "freq                                                    2   \n",
              "\n",
              "                                          Summary  \n",
              "count                                       98360  \n",
              "unique                                      98234  \n",
              "top     don bradman once scored 100 runs in overs  \n",
              "freq                                            3  "
            ],
            "text/html": [
              "\n",
              "  <div id=\"df-e3c0aa58-6c6b-4896-afe4-40c21336a437\" class=\"colab-df-container\">\n",
              "    <div>\n",
              "<style scoped>\n",
              "    .dataframe tbody tr th:only-of-type {\n",
              "        vertical-align: middle;\n",
              "    }\n",
              "\n",
              "    .dataframe tbody tr th {\n",
              "        vertical-align: top;\n",
              "    }\n",
              "\n",
              "    .dataframe thead th {\n",
              "        text-align: right;\n",
              "    }\n",
              "</style>\n",
              "<table border=\"1\" class=\"dataframe\">\n",
              "  <thead>\n",
              "    <tr style=\"text-align: right;\">\n",
              "      <th></th>\n",
              "      <th>Text</th>\n",
              "      <th>Summary</th>\n",
              "    </tr>\n",
              "  </thead>\n",
              "  <tbody>\n",
              "    <tr>\n",
              "      <th>count</th>\n",
              "      <td>98360</td>\n",
              "      <td>98360</td>\n",
              "    </tr>\n",
              "    <tr>\n",
              "      <th>unique</th>\n",
              "      <td>98330</td>\n",
              "      <td>98234</td>\n",
              "    </tr>\n",
              "    <tr>\n",
              "      <th>top</th>\n",
              "      <td>former indian cricketer sachin tendulkar score...</td>\n",
              "      <td>don bradman once scored 100 runs in overs</td>\n",
              "    </tr>\n",
              "    <tr>\n",
              "      <th>freq</th>\n",
              "      <td>2</td>\n",
              "      <td>3</td>\n",
              "    </tr>\n",
              "  </tbody>\n",
              "</table>\n",
              "</div>\n",
              "    <div class=\"colab-df-buttons\">\n",
              "\n",
              "  <div class=\"colab-df-container\">\n",
              "    <button class=\"colab-df-convert\" onclick=\"convertToInteractive('df-e3c0aa58-6c6b-4896-afe4-40c21336a437')\"\n",
              "            title=\"Convert this dataframe to an interactive table.\"\n",
              "            style=\"display:none;\">\n",
              "\n",
              "  <svg xmlns=\"http://www.w3.org/2000/svg\" height=\"24px\" viewBox=\"0 -960 960 960\">\n",
              "    <path d=\"M120-120v-720h720v720H120Zm60-500h600v-160H180v160Zm220 220h160v-160H400v160Zm0 220h160v-160H400v160ZM180-400h160v-160H180v160Zm440 0h160v-160H620v160ZM180-180h160v-160H180v160Zm440 0h160v-160H620v160Z\"/>\n",
              "  </svg>\n",
              "    </button>\n",
              "\n",
              "  <style>\n",
              "    .colab-df-container {\n",
              "      display:flex;\n",
              "      gap: 12px;\n",
              "    }\n",
              "\n",
              "    .colab-df-convert {\n",
              "      background-color: #E8F0FE;\n",
              "      border: none;\n",
              "      border-radius: 50%;\n",
              "      cursor: pointer;\n",
              "      display: none;\n",
              "      fill: #1967D2;\n",
              "      height: 32px;\n",
              "      padding: 0 0 0 0;\n",
              "      width: 32px;\n",
              "    }\n",
              "\n",
              "    .colab-df-convert:hover {\n",
              "      background-color: #E2EBFA;\n",
              "      box-shadow: 0px 1px 2px rgba(60, 64, 67, 0.3), 0px 1px 3px 1px rgba(60, 64, 67, 0.15);\n",
              "      fill: #174EA6;\n",
              "    }\n",
              "\n",
              "    .colab-df-buttons div {\n",
              "      margin-bottom: 4px;\n",
              "    }\n",
              "\n",
              "    [theme=dark] .colab-df-convert {\n",
              "      background-color: #3B4455;\n",
              "      fill: #D2E3FC;\n",
              "    }\n",
              "\n",
              "    [theme=dark] .colab-df-convert:hover {\n",
              "      background-color: #434B5C;\n",
              "      box-shadow: 0px 1px 3px 1px rgba(0, 0, 0, 0.15);\n",
              "      filter: drop-shadow(0px 1px 2px rgba(0, 0, 0, 0.3));\n",
              "      fill: #FFFFFF;\n",
              "    }\n",
              "  </style>\n",
              "\n",
              "    <script>\n",
              "      const buttonEl =\n",
              "        document.querySelector('#df-e3c0aa58-6c6b-4896-afe4-40c21336a437 button.colab-df-convert');\n",
              "      buttonEl.style.display =\n",
              "        google.colab.kernel.accessAllowed ? 'block' : 'none';\n",
              "\n",
              "      async function convertToInteractive(key) {\n",
              "        const element = document.querySelector('#df-e3c0aa58-6c6b-4896-afe4-40c21336a437');\n",
              "        const dataTable =\n",
              "          await google.colab.kernel.invokeFunction('convertToInteractive',\n",
              "                                                    [key], {});\n",
              "        if (!dataTable) return;\n",
              "\n",
              "        const docLinkHtml = 'Like what you see? Visit the ' +\n",
              "          '<a target=\"_blank\" href=https://colab.research.google.com/notebooks/data_table.ipynb>data table notebook</a>'\n",
              "          + ' to learn more about interactive tables.';\n",
              "        element.innerHTML = '';\n",
              "        dataTable['output_type'] = 'display_data';\n",
              "        await google.colab.output.renderOutput(dataTable, element);\n",
              "        const docLink = document.createElement('div');\n",
              "        docLink.innerHTML = docLinkHtml;\n",
              "        element.appendChild(docLink);\n",
              "      }\n",
              "    </script>\n",
              "  </div>\n",
              "\n",
              "\n",
              "<div id=\"df-0d2b0c34-20ca-42cb-bb58-328f10501393\">\n",
              "  <button class=\"colab-df-quickchart\" onclick=\"quickchart('df-0d2b0c34-20ca-42cb-bb58-328f10501393')\"\n",
              "            title=\"Suggest charts\"\n",
              "            style=\"display:none;\">\n",
              "\n",
              "<svg xmlns=\"http://www.w3.org/2000/svg\" height=\"24px\"viewBox=\"0 0 24 24\"\n",
              "     width=\"24px\">\n",
              "    <g>\n",
              "        <path d=\"M19 3H5c-1.1 0-2 .9-2 2v14c0 1.1.9 2 2 2h14c1.1 0 2-.9 2-2V5c0-1.1-.9-2-2-2zM9 17H7v-7h2v7zm4 0h-2V7h2v10zm4 0h-2v-4h2v4z\"/>\n",
              "    </g>\n",
              "</svg>\n",
              "  </button>\n",
              "\n",
              "<style>\n",
              "  .colab-df-quickchart {\n",
              "      --bg-color: #E8F0FE;\n",
              "      --fill-color: #1967D2;\n",
              "      --hover-bg-color: #E2EBFA;\n",
              "      --hover-fill-color: #174EA6;\n",
              "      --disabled-fill-color: #AAA;\n",
              "      --disabled-bg-color: #DDD;\n",
              "  }\n",
              "\n",
              "  [theme=dark] .colab-df-quickchart {\n",
              "      --bg-color: #3B4455;\n",
              "      --fill-color: #D2E3FC;\n",
              "      --hover-bg-color: #434B5C;\n",
              "      --hover-fill-color: #FFFFFF;\n",
              "      --disabled-bg-color: #3B4455;\n",
              "      --disabled-fill-color: #666;\n",
              "  }\n",
              "\n",
              "  .colab-df-quickchart {\n",
              "    background-color: var(--bg-color);\n",
              "    border: none;\n",
              "    border-radius: 50%;\n",
              "    cursor: pointer;\n",
              "    display: none;\n",
              "    fill: var(--fill-color);\n",
              "    height: 32px;\n",
              "    padding: 0;\n",
              "    width: 32px;\n",
              "  }\n",
              "\n",
              "  .colab-df-quickchart:hover {\n",
              "    background-color: var(--hover-bg-color);\n",
              "    box-shadow: 0 1px 2px rgba(60, 64, 67, 0.3), 0 1px 3px 1px rgba(60, 64, 67, 0.15);\n",
              "    fill: var(--button-hover-fill-color);\n",
              "  }\n",
              "\n",
              "  .colab-df-quickchart-complete:disabled,\n",
              "  .colab-df-quickchart-complete:disabled:hover {\n",
              "    background-color: var(--disabled-bg-color);\n",
              "    fill: var(--disabled-fill-color);\n",
              "    box-shadow: none;\n",
              "  }\n",
              "\n",
              "  .colab-df-spinner {\n",
              "    border: 2px solid var(--fill-color);\n",
              "    border-color: transparent;\n",
              "    border-bottom-color: var(--fill-color);\n",
              "    animation:\n",
              "      spin 1s steps(1) infinite;\n",
              "  }\n",
              "\n",
              "  @keyframes spin {\n",
              "    0% {\n",
              "      border-color: transparent;\n",
              "      border-bottom-color: var(--fill-color);\n",
              "      border-left-color: var(--fill-color);\n",
              "    }\n",
              "    20% {\n",
              "      border-color: transparent;\n",
              "      border-left-color: var(--fill-color);\n",
              "      border-top-color: var(--fill-color);\n",
              "    }\n",
              "    30% {\n",
              "      border-color: transparent;\n",
              "      border-left-color: var(--fill-color);\n",
              "      border-top-color: var(--fill-color);\n",
              "      border-right-color: var(--fill-color);\n",
              "    }\n",
              "    40% {\n",
              "      border-color: transparent;\n",
              "      border-right-color: var(--fill-color);\n",
              "      border-top-color: var(--fill-color);\n",
              "    }\n",
              "    60% {\n",
              "      border-color: transparent;\n",
              "      border-right-color: var(--fill-color);\n",
              "    }\n",
              "    80% {\n",
              "      border-color: transparent;\n",
              "      border-right-color: var(--fill-color);\n",
              "      border-bottom-color: var(--fill-color);\n",
              "    }\n",
              "    90% {\n",
              "      border-color: transparent;\n",
              "      border-bottom-color: var(--fill-color);\n",
              "    }\n",
              "  }\n",
              "</style>\n",
              "\n",
              "  <script>\n",
              "    async function quickchart(key) {\n",
              "      const quickchartButtonEl =\n",
              "        document.querySelector('#' + key + ' button');\n",
              "      quickchartButtonEl.disabled = true;  // To prevent multiple clicks.\n",
              "      quickchartButtonEl.classList.add('colab-df-spinner');\n",
              "      try {\n",
              "        const charts = await google.colab.kernel.invokeFunction(\n",
              "            'suggestCharts', [key], {});\n",
              "      } catch (error) {\n",
              "        console.error('Error during call to suggestCharts:', error);\n",
              "      }\n",
              "      quickchartButtonEl.classList.remove('colab-df-spinner');\n",
              "      quickchartButtonEl.classList.add('colab-df-quickchart-complete');\n",
              "    }\n",
              "    (() => {\n",
              "      let quickchartButtonEl =\n",
              "        document.querySelector('#df-0d2b0c34-20ca-42cb-bb58-328f10501393 button');\n",
              "      quickchartButtonEl.style.display =\n",
              "        google.colab.kernel.accessAllowed ? 'block' : 'none';\n",
              "    })();\n",
              "  </script>\n",
              "</div>\n",
              "\n",
              "    </div>\n",
              "  </div>\n"
            ],
            "application/vnd.google.colaboratory.intrinsic+json": {
              "type": "dataframe",
              "summary": "{\n  \"name\": \"data_proc\",\n  \"rows\": 4,\n  \"fields\": [\n    {\n      \"column\": \"Text\",\n      \"properties\": {\n        \"dtype\": \"string\",\n        \"num_unique_values\": 4,\n        \"samples\": [\n          98330,\n          \"2\",\n          \"98360\"\n        ],\n        \"semantic_type\": \"\",\n        \"description\": \"\"\n      }\n    },\n    {\n      \"column\": \"Summary\",\n      \"properties\": {\n        \"dtype\": \"string\",\n        \"num_unique_values\": 4,\n        \"samples\": [\n          98234,\n          \"3\",\n          \"98360\"\n        ],\n        \"semantic_type\": \"\",\n        \"description\": \"\"\n      }\n    }\n  ]\n}"
            }
          },
          "metadata": {},
          "execution_count": 20
        }
      ]
    },
    {
      "cell_type": "code",
      "source": [
        "data_proc.drop_duplicates(subset = ['Text'], inplace=True)\n",
        "data_proc.reset_index(inplace=True,drop=True)"
      ],
      "metadata": {
        "id": "0Vm8_bPWWlQD"
      },
      "execution_count": 21,
      "outputs": []
    },
    {
      "cell_type": "code",
      "source": [
        "# 길이 분포 출력\n",
        "import matplotlib.pyplot as plt\n",
        "\n",
        "text_len = [len(s.split()) for s in data['Text']]\n",
        "summary_len = [len(s.split()) for s in data['Summary']]\n",
        "\n",
        "print('텍스트의 최소 길이 : {}'.format(np.min(text_len)))\n",
        "print('텍스트의 최대 길이 : {}'.format(np.max(text_len)))\n",
        "print('텍스트의 평균 길이 : {}'.format(np.mean(text_len)))\n",
        "print('요약의 최소 길이 : {}'.format(np.min(summary_len)))\n",
        "print('요약의 최대 길이 : {}'.format(np.max(summary_len)))\n",
        "print('요약의 평균 길이 : {}'.format(np.mean(summary_len)))\n",
        "\n",
        "plt.subplot(1,2,1)\n",
        "plt.boxplot(text_len)\n",
        "plt.title('Text')\n",
        "plt.subplot(1,2,2)\n",
        "plt.boxplot(summary_len)\n",
        "plt.title('Summary')\n",
        "plt.tight_layout()\n",
        "plt.show()\n",
        "\n",
        "plt.title('Text')\n",
        "plt.hist(text_len, bins = 40)\n",
        "plt.xlabel('length of samples')\n",
        "plt.ylabel('number of samples')\n",
        "plt.show()\n",
        "\n",
        "plt.title('Summary')\n",
        "plt.hist(summary_len, bins = 40)\n",
        "plt.xlabel('length of samples')\n",
        "plt.ylabel('number of samples')\n",
        "plt.show()"
      ],
      "metadata": {
        "colab": {
          "base_uri": "https://localhost:8080/",
          "height": 1000
        },
        "collapsed": true,
        "id": "INi9REgSWOTJ",
        "outputId": "0b58967a-57e0-4182-9113-bc71d9861258"
      },
      "execution_count": null,
      "outputs": [
        {
          "output_type": "stream",
          "name": "stdout",
          "text": [
            "텍스트의 최소 길이 : 1\n",
            "텍스트의 최대 길이 : 60\n",
            "텍스트의 평균 길이 : 36.31033956893046\n",
            "요약의 최소 길이 : 1\n",
            "요약의 최대 길이 : 16\n",
            "요약의 평균 길이 : 9.525050833672225\n"
          ]
        },
        {
          "output_type": "display_data",
          "data": {
            "text/plain": [
              "<Figure size 640x480 with 2 Axes>"
            ],
            "image/png": "[encoded data removed]"
          },
          "metadata": {}
        },
        {
          "output_type": "display_data",
          "data": {
            "text/plain": [
              "<Figure size 640x480 with 1 Axes>"
            ],
            "image/png": "[encoded data removed]"
          },
          "metadata": {}
        },
        {
          "output_type": "display_data",
          "data": {
            "text/plain": [
              "<Figure size 640x480 with 1 Axes>"
            ],
            "image/png": "[encoded data removed]"
          },
          "metadata": {}
        }
      ]
    },
    {
      "cell_type": "code",
      "source": [
        "text_max_len=44\n",
        "summary_max_len=12"
      ],
      "metadata": {
        "id": "fHW4HxXnW4pR"
      },
      "execution_count": 22,
      "outputs": []
    },
    {
      "cell_type": "code",
      "source": [
        "def below_threshold_len(max_len, nested_list):\n",
        "  cnt = 0\n",
        "  for s in nested_list:\n",
        "    if(len(s.split()) <= max_len):\n",
        "        cnt = cnt + 1\n",
        "  print('전체 샘플 중 길이가 %s 이하인 샘플의 비율: %s'%(max_len, (cnt / len(nested_list))))\n",
        "print('=3')"
      ],
      "metadata": {
        "colab": {
          "base_uri": "https://localhost:8080/"
        },
        "id": "s7vGA0kwXCEE",
        "outputId": "173a441c-f23c-4a94-c9d0-b8f934e3333a"
      },
      "execution_count": null,
      "outputs": [
        {
          "output_type": "stream",
          "name": "stdout",
          "text": [
            "=3\n"
          ]
        }
      ]
    },
    {
      "cell_type": "code",
      "source": [
        "below_threshold_len(text_max_len, data['Text'])\n",
        "below_threshold_len(summary_max_len,  data['Summary'])"
      ],
      "metadata": {
        "colab": {
          "base_uri": "https://localhost:8080/"
        },
        "id": "RI8BqybwXA6M",
        "outputId": "dd58d426-093a-4d0c-8405-f0e2efef670f"
      },
      "execution_count": null,
      "outputs": [
        {
          "output_type": "stream",
          "name": "stdout",
          "text": [
            "전체 샘플 중 길이가 44 이하인 샘플의 비율: 0.9819845465636438\n",
            "전체 샘플 중 길이가 12 이하인 샘플의 비율: 0.9818828792191948\n"
          ]
        }
      ]
    },
    {
      "cell_type": "code",
      "source": [
        "data2['Text']=data2['Text'].apply(lambda x : x if len(x.split())<= text_max_len else np.nan)\n",
        "data2['Summary']=data2['Summary'].apply(lambda x : x if len(x.split())<= summary_max_len else np.nan)\n",
        "print(data2.isnull().sum())\n",
        "data2.dropna(axis=0, how='any', inplace=True)"
      ],
      "metadata": {
        "colab": {
          "base_uri": "https://localhost:8080/"
        },
        "id": "LtxaTdpiUI0H",
        "outputId": "23775b4d-6446-4a1d-8346-dd8c16e9a83e"
      },
      "execution_count": 23,
      "outputs": [
        {
          "output_type": "stream",
          "name": "stdout",
          "text": [
            "headlines       0\n",
            "text            0\n",
            "Text         1770\n",
            "Summary      1782\n",
            "dtype: int64\n"
          ]
        }
      ]
    },
    {
      "cell_type": "code",
      "source": [
        "data_proc['Text']=data_proc['Text'].apply(lambda x : x if len(x.split())<= text_max_len else np.nan)\n",
        "data_proc['Summary']=data_proc['Summary'].apply(lambda x : x if len(x.split())<= summary_max_len else np.nan)\n",
        "print(data_proc.isnull().sum())\n",
        "data_proc.dropna(axis=0, how='any', inplace=True)"
      ],
      "metadata": {
        "colab": {
          "base_uri": "https://localhost:8080/"
        },
        "id": "LHu5V6b6XN5p",
        "outputId": "7f0c48c6-e5eb-4f10-97ec-e7b153df2b7f"
      },
      "execution_count": 24,
      "outputs": [
        {
          "output_type": "stream",
          "name": "stdout",
          "text": [
            "Text       1770\n",
            "Summary    1782\n",
            "dtype: int64\n"
          ]
        }
      ]
    },
    {
      "cell_type": "code",
      "source": [
        "data_proc['decoder_input'] = data_proc['Summary'].apply(lambda x : 'sostoken '+ x)\n",
        "data_proc['decoder_target'] = data_proc['Summary'].apply(lambda x : x + ' eostoken')"
      ],
      "metadata": {
        "id": "sfSLpcEmXsBu"
      },
      "execution_count": 25,
      "outputs": []
    },
    {
      "cell_type": "code",
      "source": [
        "encoder_input = np.array(data_proc['Text']) # 인코더의 입력\n",
        "decoder_input = np.array(data_proc['decoder_input']) # 디코더의 입력\n",
        "decoder_target = np.array(data_proc['decoder_target']) # 디코더의 레이블"
      ],
      "metadata": {
        "id": "Ik_c1G4ZXzPq"
      },
      "execution_count": 26,
      "outputs": []
    },
    {
      "cell_type": "code",
      "source": [
        "indices = np.arange(encoder_input.shape[0])\n",
        "np.random.shuffle(indices)\n",
        "encoder_input = encoder_input[indices]\n",
        "decoder_input = decoder_input[indices]\n",
        "decoder_target = decoder_target[indices]"
      ],
      "metadata": {
        "id": "3V42Rb1aX439"
      },
      "execution_count": 27,
      "outputs": []
    },
    {
      "cell_type": "code",
      "source": [
        "summa_data=np.array(data2['text'])"
      ],
      "metadata": {
        "id": "gVWaxoumURJ8"
      },
      "execution_count": 28,
      "outputs": []
    },
    {
      "cell_type": "code",
      "source": [
        "summa_data=summa_data[indices]"
      ],
      "metadata": {
        "id": "sh_J6sy1UfuX"
      },
      "execution_count": 29,
      "outputs": []
    },
    {
      "cell_type": "code",
      "source": [
        "n_of_val = int(len(encoder_input)*0.2)\n",
        "encoder_input_train = encoder_input[:-n_of_val]\n",
        "decoder_input_train = decoder_input[:-n_of_val]\n",
        "decoder_target_train = decoder_target[:-n_of_val]\n",
        "\n",
        "encoder_input_test = encoder_input[-n_of_val:]\n",
        "decoder_input_test = decoder_input[-n_of_val:]\n",
        "decoder_target_test = decoder_target[-n_of_val:]\n",
        "\n",
        "print('훈련 데이터의 개수 :', len(encoder_input_train))\n",
        "print('훈련 레이블의 개수 :', len(decoder_input_train))\n",
        "print('테스트 데이터의 개수 :', len(encoder_input_test))\n",
        "print('테스트 레이블의 개수 :', len(decoder_input_test))"
      ],
      "metadata": {
        "colab": {
          "base_uri": "https://localhost:8080/"
        },
        "id": "poJa7tbdX51f",
        "outputId": "4931658c-1949-480c-f138-39b77df54d8b"
      },
      "execution_count": 30,
      "outputs": [
        {
          "output_type": "stream",
          "name": "stdout",
          "text": [
            "훈련 데이터의 개수 : 75858\n",
            "훈련 레이블의 개수 : 75858\n",
            "테스트 데이터의 개수 : 18964\n",
            "테스트 레이블의 개수 : 18964\n"
          ]
        }
      ]
    },
    {
      "cell_type": "code",
      "source": [
        "source_test=encoder_input[-n_of_val:]"
      ],
      "metadata": {
        "id": "cmQuTt8cP_ug"
      },
      "execution_count": 31,
      "outputs": []
    },
    {
      "cell_type": "code",
      "source": [
        "summa_test=summa_data[-n_of_val:]"
      ],
      "metadata": {
        "id": "unGzEydDUjmo"
      },
      "execution_count": 32,
      "outputs": []
    },
    {
      "cell_type": "markdown",
      "source": [
        "#2.vocab, 정수인코딩"
      ],
      "metadata": {
        "id": "0gfmyratYFGm"
      }
    },
    {
      "cell_type": "code",
      "source": [
        "src_tokenizer = Tokenizer() # 토크나이저 정의\n",
        "src_tokenizer.fit_on_texts(encoder_input_train) # 입력된 데이터로부터 단어 집합 생성"
      ],
      "metadata": {
        "id": "FLoABCDhZ4vv"
      },
      "execution_count": null,
      "outputs": []
    },
    {
      "cell_type": "code",
      "source": [
        "threshold = 10\n",
        "total_cnt = len(src_tokenizer.word_index) # 단어의 수\n",
        "rare_cnt = 0 # 등장 빈도수가 threshold보다 작은 단어의 개수를 카운트\n",
        "total_freq = 0 # 훈련 데이터의 전체 단어 빈도수 총 합\n",
        "rare_freq = 0 # 등장 빈도수가 threshold보다 작은 단어의 등장 빈도수의 총 합\n",
        "\n",
        "# 단어와 빈도수의 쌍(pair)을 key와 value로 받는다.\n",
        "for key, value in src_tokenizer.word_counts.items():\n",
        "    total_freq = total_freq + value\n",
        "\n",
        "    # 단어의 등장 빈도수가 threshold보다 작으면\n",
        "    if(value < threshold):\n",
        "        rare_cnt = rare_cnt + 1\n",
        "        rare_freq = rare_freq + value\n",
        "\n",
        "print('단어 집합(vocabulary)의 크기 :', total_cnt)\n",
        "print('등장 빈도가 %s번 이하인 희귀 단어의 수: %s'%(threshold - 1, rare_cnt))\n",
        "print('단어 집합에서 희귀 단어를 제외시킬 경우의 단어 집합의 크기 %s'%(total_cnt - rare_cnt))\n",
        "print(\"단어 집합에서 희귀 단어의 비율:\", (rare_cnt / total_cnt)*100)\n",
        "print(\"전체 등장 빈도에서 희귀 단어 등장 빈도 비율:\", (rare_freq / total_freq)*100)"
      ],
      "metadata": {
        "colab": {
          "base_uri": "https://localhost:8080/"
        },
        "id": "AWSqoRRNZ5r8",
        "outputId": "84727990-aed0-4094-dca4-1ba1dccd69e3"
      },
      "execution_count": null,
      "outputs": [
        {
          "output_type": "stream",
          "name": "stdout",
          "text": [
            "단어 집합(vocabulary)의 크기 : 72577\n",
            "등장 빈도가 9번 이하인 희귀 단어의 수: 53971\n",
            "단어 집합에서 희귀 단어를 제외시킬 경우의 단어 집합의 크기 18606\n",
            "단어 집합에서 희귀 단어의 비율: 74.36377915868664\n",
            "전체 등장 빈도에서 희귀 단어 등장 빈도 비율: 4.778622840971549\n"
          ]
        }
      ]
    },
    {
      "cell_type": "code",
      "source": [
        "src_vocab = 18000\n",
        "src_tokenizer = Tokenizer(num_words=src_vocab)\n",
        "src_tokenizer.fit_on_texts(encoder_input_train)"
      ],
      "metadata": {
        "id": "_py0emynadeQ"
      },
      "execution_count": 33,
      "outputs": []
    },
    {
      "cell_type": "code",
      "source": [
        "encoder_input_train = src_tokenizer.texts_to_sequences(encoder_input_train)\n",
        "encoder_input_test = src_tokenizer.texts_to_sequences(encoder_input_test)\n",
        "\n",
        "# 잘 진행되었는지 샘플 출력\n",
        "print(encoder_input_train[:3])"
      ],
      "metadata": {
        "colab": {
          "base_uri": "https://localhost:8080/"
        },
        "id": "N2pKOC1la54C",
        "outputId": "227eab24-35a2-411b-f9be-c8308d9d0b5d"
      },
      "execution_count": 34,
      "outputs": [
        {
          "output_type": "stream",
          "name": "stdout",
          "text": [
            "[[264, 7, 615, 1219, 1212, 4706, 2944, 1177, 3468, 1219, 101, 650, 139, 4050, 6521, 1103, 311, 284, 139, 3694, 638, 225, 969, 10540, 3139, 125, 149, 1219, 1250, 9025, 8732, 405, 7196, 6754, 1296, 12267], [1180, 268, 128, 16167, 4326, 2768, 285, 146, 2060, 4466, 243, 53, 285, 1591, 1050, 16167, 342, 797, 998, 53, 446, 175, 94, 23, 1791, 4358, 53, 2305, 1206], [188, 232, 14, 1491, 2119, 1017, 666, 188, 1402, 20, 46, 1402, 106, 2080, 1296, 7, 7399, 258, 3380, 370, 2745, 107, 7, 4817, 202, 2476, 18, 2659, 370, 804, 2745, 252, 2, 1017, 3]]\n"
          ]
        }
      ]
    },
    {
      "cell_type": "code",
      "source": [
        "tar_tokenizer = Tokenizer()\n",
        "tar_tokenizer.fit_on_texts(decoder_input_train)\n",
        "print('=3')"
      ],
      "metadata": {
        "colab": {
          "base_uri": "https://localhost:8080/"
        },
        "id": "ShbwlZVEbEj3",
        "outputId": "f8d4ae5a-b34b-43e9-9d6c-fafd1dcc4013"
      },
      "execution_count": 32,
      "outputs": [
        {
          "output_type": "stream",
          "name": "stdout",
          "text": [
            "=3\n"
          ]
        }
      ]
    },
    {
      "cell_type": "code",
      "source": [
        "threshold = 6\n",
        "total_cnt = len(tar_tokenizer.word_index) # 단어의 수\n",
        "rare_cnt = 0 # 등장 빈도수가 threshold보다 작은 단어의 개수를 카운트\n",
        "total_freq = 0 # 훈련 데이터의 전체 단어 빈도수 총 합\n",
        "rare_freq = 0 # 등장 빈도수가 threshold보다 작은 단어의 등장 빈도수의 총 합\n",
        "\n",
        "# 단어와 빈도수의 쌍(pair)을 key와 value로 받는다.\n",
        "for key, value in tar_tokenizer.word_counts.items():\n",
        "    total_freq = total_freq + value\n",
        "\n",
        "    # 단어의 등장 빈도수가 threshold보다 작으면\n",
        "    if(value < threshold):\n",
        "        rare_cnt = rare_cnt + 1\n",
        "        rare_freq = rare_freq + value\n",
        "\n",
        "print('단어 집합(vocabulary)의 크기 :', total_cnt)\n",
        "print('등장 빈도가 %s번 이하인 희귀 단어의 수: %s'%(threshold - 1, rare_cnt))\n",
        "print('단어 집합에서 희귀 단어를 제외시킬 경우의 단어 집합의 크기 %s'%(total_cnt - rare_cnt))\n",
        "print(\"단어 집합에서 희귀 단어의 비율:\", (rare_cnt / total_cnt)*100)\n",
        "print(\"전체 등장 빈도에서 희귀 단어 등장 빈도 비율:\", (rare_freq / total_freq)*100)"
      ],
      "metadata": {
        "id": "Lp0bkokkbGjC"
      },
      "execution_count": null,
      "outputs": []
    },
    {
      "cell_type": "code",
      "source": [
        "tar_vocab = 10000\n",
        "tar_tokenizer = Tokenizer(num_words=tar_vocab)\n",
        "tar_tokenizer.fit_on_texts(decoder_input_train)\n",
        "tar_tokenizer.fit_on_texts(decoder_target_train)\n",
        "\n",
        "# 텍스트 시퀀스를 정수 시퀀스로 변환\n",
        "decoder_input_train = tar_tokenizer.texts_to_sequences(decoder_input_train)\n",
        "decoder_target_train = tar_tokenizer.texts_to_sequences(decoder_target_train)\n",
        "decoder_input_test = tar_tokenizer.texts_to_sequences(decoder_input_test)\n",
        "decoder_target_test = tar_tokenizer.texts_to_sequences(decoder_target_test)\n",
        "\n",
        "# 잘 변환되었는지 확인\n",
        "print('input')\n",
        "print('input ',decoder_input_train[:5])\n",
        "print('target')\n",
        "print('decoder ',decoder_target_train[:5])"
      ],
      "metadata": {
        "colab": {
          "base_uri": "https://localhost:8080/"
        },
        "id": "FAfTjw33bjg-",
        "outputId": "8828b9f5-6aa0-4758-f138-912d242b0c9d"
      },
      "execution_count": 35,
      "outputs": [
        {
          "output_type": "stream",
          "name": "stdout",
          "text": [
            "input\n",
            "input  [[1, 284, 2003, 462, 3, 1281, 2585, 749, 2525], [1, 657, 3, 998, 378, 4, 244, 3916], [1, 1703, 3, 2256, 22, 3, 4579, 504, 2062], [1, 14, 123, 423, 114, 3, 156, 190, 15, 300, 98], [1, 5931, 463, 5482, 32, 283, 2187, 139, 632, 7, 324, 50]]\n",
            "target\n",
            "decoder  [[284, 2003, 462, 3, 1281, 2585, 749, 2525, 2], [657, 3, 998, 378, 4, 244, 3916, 2], [1703, 3, 2256, 22, 3, 4579, 504, 2062, 2], [14, 123, 423, 114, 3, 156, 190, 15, 300, 98, 2], [5931, 463, 5482, 32, 283, 2187, 139, 632, 7, 324, 50, 2]]\n"
          ]
        }
      ]
    },
    {
      "cell_type": "code",
      "source": [
        "tar_tokenizer.index_word[3]"
      ],
      "metadata": {
        "colab": {
          "base_uri": "https://localhost:8080/",
          "height": 35
        },
        "id": "sbThlB7Zoukz",
        "outputId": "bbaf0777-6cf6-4a97-dcf6-eced984a259c"
      },
      "execution_count": null,
      "outputs": [
        {
          "output_type": "execute_result",
          "data": {
            "text/plain": [
              "'eostoken'"
            ],
            "application/vnd.google.colaboratory.intrinsic+json": {
              "type": "string"
            }
          },
          "metadata": {},
          "execution_count": 50
        }
      ]
    },
    {
      "cell_type": "code",
      "source": [
        "special_tokens=['eostoken','sostoken']\n",
        "def is_useless(sentence):\n",
        "    actual_tokens = [token for token in sentence if token not in special_tokens]\n",
        "\n",
        "    if len(actual_tokens) == 0:\n",
        "        return True\n",
        "\n",
        "    return all(token == 1 for token in actual_tokens)"
      ],
      "metadata": {
        "id": "KoNCweQso8En"
      },
      "execution_count": null,
      "outputs": []
    },
    {
      "cell_type": "code",
      "source": [
        "drop_train = [index for index, sentence in enumerate(decoder_input_train) if len(sentence)==1]\n",
        "drop_test = [index for index, sentence in enumerate(decoder_input_test) if len(sentence)==1]\n",
        "\n",
        "print('삭제할 훈련 데이터의 개수 :', len(drop_train))\n",
        "print('삭제할 테스트 데이터의 개수 :', len(drop_test))\n",
        "\n",
        "encoder_input_train = [sentence for index, sentence in enumerate(encoder_input_train) if index not in drop_train]\n",
        "decoder_input_train = [sentence for index, sentence in enumerate(decoder_input_train) if index not in drop_train]\n",
        "decoder_target_train = [sentence for index, sentence in enumerate(decoder_target_train) if index not in drop_train]\n",
        "\n",
        "encoder_input_test = [sentence for index, sentence in enumerate(encoder_input_test) if index not in drop_test]\n",
        "decoder_input_test = [sentence for index, sentence in enumerate(decoder_input_test) if index not in drop_test]\n",
        "decoder_target_test = [sentence for index, sentence in enumerate(decoder_target_test) if index not in drop_test]\n",
        "\n",
        "print('훈련 데이터의 개수 :', len(encoder_input_train))\n",
        "print('훈련 레이블의 개수 :', len(decoder_input_train))\n",
        "print('테스트 데이터의 개수 :', len(encoder_input_test))\n",
        "print('테스트 레이블의 개수 :', len(decoder_input_test))"
      ],
      "metadata": {
        "colab": {
          "base_uri": "https://localhost:8080/"
        },
        "id": "ojrcZ8H6exok",
        "outputId": "3ecba3d7-4c6d-423c-f6e6-3be4982d2807"
      },
      "execution_count": 36,
      "outputs": [
        {
          "output_type": "stream",
          "name": "stdout",
          "text": [
            "삭제할 훈련 데이터의 개수 : 0\n",
            "삭제할 테스트 데이터의 개수 : 0\n",
            "훈련 데이터의 개수 : 75858\n",
            "훈련 레이블의 개수 : 75858\n",
            "테스트 데이터의 개수 : 18964\n",
            "테스트 레이블의 개수 : 18964\n"
          ]
        }
      ]
    },
    {
      "cell_type": "code",
      "source": [
        "encoder_input_train = pad_sequences(encoder_input_train, maxlen=text_max_len, padding='post')\n",
        "encoder_input_test = pad_sequences(encoder_input_test, maxlen=text_max_len, padding='post')\n",
        "decoder_input_train = pad_sequences(decoder_input_train, maxlen=summary_max_len, padding='post')\n",
        "decoder_target_train = pad_sequences(decoder_target_train, maxlen=summary_max_len, padding='post')\n",
        "decoder_input_test = pad_sequences(decoder_input_test, maxlen=summary_max_len, padding='post')\n",
        "decoder_target_test = pad_sequences(decoder_target_test, maxlen=summary_max_len, padding='post')\n",
        "print('=3')"
      ],
      "metadata": {
        "colab": {
          "base_uri": "https://localhost:8080/"
        },
        "id": "c8jndHTre80_",
        "outputId": "0f3f63e6-bb0d-469e-be4f-e0cfb02ace48"
      },
      "execution_count": 37,
      "outputs": [
        {
          "output_type": "stream",
          "name": "stdout",
          "text": [
            "=3\n"
          ]
        }
      ]
    },
    {
      "cell_type": "markdown",
      "source": [
        "#3.model"
      ],
      "metadata": {
        "id": "ku6aY8Pte_fx"
      }
    },
    {
      "cell_type": "code",
      "source": [
        "loss_object = tf.keras.losses.CategoricalCrossentropy(from_logits=True, reduction='none')\n",
        "\n",
        "def masked_loss(y_true, y_pred,label_smoothing=0.1):\n",
        "    num_classes = tf.shape(y_pred)[-1]\n",
        "    y_true_one_hot = tf.one_hot(tf.cast(y_true, tf.int32), num_classes)\n",
        "    y_true_smooth = y_true_one_hot * (1.0 - label_smoothing) + label_smoothing / tf.cast(num_classes, tf.float32)\n",
        "    loss = loss_object(y_true_smooth, y_pred)\n",
        "    mask = tf.cast(tf.not_equal(y_true, 0), dtype=loss.dtype)\n",
        "    loss = loss * mask\n",
        "    return tf.reduce_sum(loss) / tf.reduce_sum(mask)"
      ],
      "metadata": {
        "id": "zQq4VnxCDhd0"
      },
      "execution_count": 38,
      "outputs": []
    },
    {
      "cell_type": "code",
      "source": [
        "from tensorflow.keras.layers import Input, LSTM, Embedding, Dense, Concatenate, TimeDistributed, Lambda, Bidirectional,Dropout,Add,LayerNormalization\n",
        "from tensorflow.keras.models import Model\n",
        "from tensorflow.keras.callbacks import EarlyStopping, ModelCheckpoint\n",
        "\n",
        "# 인코더 설계 시작\n",
        "embedding_dim = 160\n",
        "hidden_size = 256\n",
        "\n",
        "# 인코더\n",
        "encoder_inputs = Input(shape=(text_max_len,))\n",
        "\n",
        "# 인코더의 임베딩 층\n",
        "enc_embed_layer = Embedding(src_vocab, embedding_dim, mask_zero=True)\n",
        "enc_emb=enc_embed_layer(encoder_inputs)\n",
        "#encoder_mask = Lambda(lambda x: tf.cast(x, tf.bool))(enc_embed_layer.compute_mask(encoder_inputs))\n",
        "enc_emb = Dropout(0.3)(enc_emb)\n",
        "\n",
        "# 인코더의 LSTM 1\n",
        "# encoder_lstm1 = LSTM(hidden_size, return_sequences=True, return_state=True ,dropout = 0.4, recurrent_dropout = 0.4)\n",
        "encoder_lstm1 = Bidirectional(LSTM(hidden_size, return_sequences=True, return_state=True ,dropout = 0.4, recurrent_dropout=0.4))\n",
        "encoder_output1, forward_h1, forward_c1, backward_h1, backward_c1 = encoder_lstm1(enc_emb)\n",
        "\n",
        "encoder_lstm2 = Bidirectional(LSTM(hidden_size, return_sequences=True, return_state=True, dropout=0.4,recurrent_dropout=0.4), merge_mode='sum') #information bottleneck\n",
        "encoder_output2, forward_h2, forward_c2, backward_h2, backward_c2 = encoder_lstm2(encoder_output1)\n",
        "\n",
        "encoder_lstm3 = Bidirectional(LSTM(hidden_size, return_sequences=True, return_state=True, dropout=0.4,recurrent_dropout=0.4),merge_mode='sum')\n",
        "encoder_output3_mask, forward_h, forward_c, backward_h, backward_c = encoder_lstm3(encoder_output2)\n",
        "\n",
        "state_h3 = Add()([forward_h, backward_h])\n",
        "state_c3 = Add()([forward_c, backward_c])\n",
        "\n",
        "layer_norm_layer=LayerNormalization(epsilon=1e-5)\n",
        "encoder_output3_res = layer_norm_layer(encoder_output3_mask+encoder_output2)\n",
        "encoder_output3 = Lambda(lambda x: x)(encoder_output3_res)"
      ],
      "metadata": {
        "id": "6k2pCvAWe9aX"
      },
      "execution_count": 39,
      "outputs": []
    },
    {
      "cell_type": "code",
      "source": [
        "# 디코더 설계\n",
        "decoder_inputs = Input(shape=(None,))\n",
        "\n",
        "# 디코더의 임베딩 층\n",
        "dec_emb_layer = Embedding(tar_vocab, embedding_dim,mask_zero=True)\n",
        "#decoder_mask = Lambda(lambda x: tf.cast(x, tf.bool))(dec_emb_layer.compute_mask(decoder_inputs))\n",
        "dec_emb = dec_emb_layer(decoder_inputs)\n",
        "dec_emb = Dropout(0.16)(dec_emb)\n",
        "\n",
        "# 디코더의 LSTM\n",
        "# decoder_lstm = LSTM(hidden_size, return_sequences=True, return_state=True, dropout=0.4, recurrent_dropout=0.2)\n",
        "decoder_lstm = LSTM(hidden_size, return_sequences=True, return_state=True, dropout=0.4, recurrent_dropout=0.2)\n",
        "decoder_outputs_mask, _, _ = decoder_lstm(dec_emb, initial_state=[state_h3, state_c3])\n",
        "decoder_outputs = Lambda(lambda x: x)(decoder_outputs_mask)"
      ],
      "metadata": {
        "colab": {
          "base_uri": "https://localhost:8080/"
        },
        "id": "sx0zc9DefPWU",
        "outputId": "5d9d4865-3258-4945-bdc6-ce147c18f468"
      },
      "execution_count": 40,
      "outputs": [
        {
          "output_type": "stream",
          "name": "stderr",
          "text": [
            "/usr/local/lib/python3.11/dist-packages/keras/src/layers/layer.py:938: UserWarning: Layer 'lambda_1' (of type Lambda) was passed an input with a mask attached to it. However, this layer does not support masking and will therefore destroy the mask information. Downstream layers will not see the mask.\n",
            "  warnings.warn(\n"
          ]
        }
      ]
    },
    {
      "cell_type": "code",
      "source": [
        "# 디코더의 출력층\n",
        "decoder_layer = Dense(embedding_dim)\n",
        "decoder_layer_outputs = decoder_layer(decoder_outputs)\n",
        "\n",
        "embedding_matrix = dec_emb_layer.embeddings\n",
        "logits = Lambda(lambda x: tf.matmul(x, embedding_matrix, transpose_b=True))(decoder_layer_outputs)  # (batch, time, vocab_size)\n",
        "decoder_softmax_outputs = Lambda(lambda x: tf.nn.softmax(x))(logits)\n",
        "\n",
        "# 모델 정의\n",
        "model = Model([encoder_inputs, decoder_inputs], decoder_softmax_outputs)\n",
        "model.summary()"
      ],
      "metadata": {
        "colab": {
          "base_uri": "https://localhost:8080/",
          "height": 1000
        },
        "collapsed": true,
        "id": "1cp9_I2ff_fo",
        "outputId": "eaff51c6-0422-43fe-c8d2-32f39b91337b"
      },
      "execution_count": 47,
      "outputs": [
        {
          "output_type": "display_data",
          "data": {
            "text/plain": [
              "\u001b[1mModel: \"functional_1\"\u001b[0m\n"
            ],
            "text/html": [
              "<pre style=\"white-space:pre;overflow-x:auto;line-height:normal;font-family:Menlo,'DejaVu Sans Mono',consolas,'Courier New',monospace\"><span style=\"font-weight: bold\">Model: \"functional_1\"</span>\n",
              "</pre>\n"
            ]
          },
          "metadata": {}
        },
        {
          "output_type": "display_data",
          "data": {
            "text/plain": [
              "┏━━━━━━━━━━━━━━━━━━━━━┳━━━━━━━━━━━━━━━━━━━┳━━━━━━━━━━━━┳━━━━━━━━━━━━━━━━━━━┓\n",
              "┃\u001b[1m \u001b[0m\u001b[1mLayer (type)       \u001b[0m\u001b[1m \u001b[0m┃\u001b[1m \u001b[0m\u001b[1mOutput Shape     \u001b[0m\u001b[1m \u001b[0m┃\u001b[1m \u001b[0m\u001b[1m   Param #\u001b[0m\u001b[1m \u001b[0m┃\u001b[1m \u001b[0m\u001b[1mConnected to     \u001b[0m\u001b[1m \u001b[0m┃\n",
              "┡━━━━━━━━━━━━━━━━━━━━━╇━━━━━━━━━━━━━━━━━━━╇━━━━━━━━━━━━╇━━━━━━━━━━━━━━━━━━━┩\n",
              "│ input_layer         │ (\u001b[38;5;45mNone\u001b[0m, \u001b[38;5;34m44\u001b[0m)        │          \u001b[38;5;34m0\u001b[0m │ -                 │\n",
              "│ (\u001b[38;5;33mInputLayer\u001b[0m)        │                   │            │                   │\n",
              "├─────────────────────┼───────────────────┼────────────┼───────────────────┤\n",
              "│ embedding           │ (\u001b[38;5;45mNone\u001b[0m, \u001b[38;5;34m44\u001b[0m, \u001b[38;5;34m160\u001b[0m)   │  \u001b[38;5;34m2,880,000\u001b[0m │ input_layer[\u001b[38;5;34m0\u001b[0m][\u001b[38;5;34m0\u001b[0m] │\n",
              "│ (\u001b[38;5;33mEmbedding\u001b[0m)         │                   │            │                   │\n",
              "├─────────────────────┼───────────────────┼────────────┼───────────────────┤\n",
              "│ dropout (\u001b[38;5;33mDropout\u001b[0m)   │ (\u001b[38;5;45mNone\u001b[0m, \u001b[38;5;34m44\u001b[0m, \u001b[38;5;34m160\u001b[0m)   │          \u001b[38;5;34m0\u001b[0m │ embedding[\u001b[38;5;34m0\u001b[0m][\u001b[38;5;34m0\u001b[0m]   │\n",
              "├─────────────────────┼───────────────────┼────────────┼───────────────────┤\n",
              "│ not_equal           │ (\u001b[38;5;45mNone\u001b[0m, \u001b[38;5;34m44\u001b[0m)        │          \u001b[38;5;34m0\u001b[0m │ input_layer[\u001b[38;5;34m0\u001b[0m][\u001b[38;5;34m0\u001b[0m] │\n",
              "│ (\u001b[38;5;33mNotEqual\u001b[0m)          │                   │            │                   │\n",
              "├─────────────────────┼───────────────────┼────────────┼───────────────────┤\n",
              "│ bidirectional       │ [(\u001b[38;5;45mNone\u001b[0m, \u001b[38;5;34m44\u001b[0m, \u001b[38;5;34m512\u001b[0m), │    \u001b[38;5;34m854,016\u001b[0m │ dropout[\u001b[38;5;34m0\u001b[0m][\u001b[38;5;34m0\u001b[0m],    │\n",
              "│ (\u001b[38;5;33mBidirectional\u001b[0m)     │ (\u001b[38;5;45mNone\u001b[0m, \u001b[38;5;34m256\u001b[0m),      │            │ not_equal[\u001b[38;5;34m0\u001b[0m][\u001b[38;5;34m0\u001b[0m]   │\n",
              "│                     │ (\u001b[38;5;45mNone\u001b[0m, \u001b[38;5;34m256\u001b[0m),      │            │                   │\n",
              "│                     │ (\u001b[38;5;45mNone\u001b[0m, \u001b[38;5;34m256\u001b[0m),      │            │                   │\n",
              "│                     │ (\u001b[38;5;45mNone\u001b[0m, \u001b[38;5;34m256\u001b[0m)]      │            │                   │\n",
              "├─────────────────────┼───────────────────┼────────────┼───────────────────┤\n",
              "│ bidirectional_1     │ [(\u001b[38;5;45mNone\u001b[0m, \u001b[38;5;34m44\u001b[0m, \u001b[38;5;34m512\u001b[0m), │  \u001b[38;5;34m1,574,912\u001b[0m │ bidirectional[\u001b[38;5;34m0\u001b[0m]… │\n",
              "│ (\u001b[38;5;33mBidirectional\u001b[0m)     │ (\u001b[38;5;45mNone\u001b[0m, \u001b[38;5;34m256\u001b[0m),      │            │ not_equal[\u001b[38;5;34m0\u001b[0m][\u001b[38;5;34m0\u001b[0m]   │\n",
              "│                     │ (\u001b[38;5;45mNone\u001b[0m, \u001b[38;5;34m256\u001b[0m),      │            │                   │\n",
              "│                     │ (\u001b[38;5;45mNone\u001b[0m, \u001b[38;5;34m256\u001b[0m),      │            │                   │\n",
              "│                     │ (\u001b[38;5;45mNone\u001b[0m, \u001b[38;5;34m256\u001b[0m)]      │            │                   │\n",
              "├─────────────────────┼───────────────────┼────────────┼───────────────────┤\n",
              "│ input_layer_1       │ (\u001b[38;5;45mNone\u001b[0m, \u001b[38;5;45mNone\u001b[0m)      │          \u001b[38;5;34m0\u001b[0m │ -                 │\n",
              "│ (\u001b[38;5;33mInputLayer\u001b[0m)        │                   │            │                   │\n",
              "├─────────────────────┼───────────────────┼────────────┼───────────────────┤\n",
              "│ bidirectional_2     │ [(\u001b[38;5;45mNone\u001b[0m, \u001b[38;5;34m44\u001b[0m, \u001b[38;5;34m256\u001b[0m), │  \u001b[38;5;34m1,574,912\u001b[0m │ bidirectional_1[\u001b[38;5;34m…\u001b[0m │\n",
              "│ (\u001b[38;5;33mBidirectional\u001b[0m)     │ (\u001b[38;5;45mNone\u001b[0m, \u001b[38;5;34m256\u001b[0m),      │            │ not_equal[\u001b[38;5;34m0\u001b[0m][\u001b[38;5;34m0\u001b[0m]   │\n",
              "│                     │ (\u001b[38;5;45mNone\u001b[0m, \u001b[38;5;34m256\u001b[0m),      │            │                   │\n",
              "│                     │ (\u001b[38;5;45mNone\u001b[0m, \u001b[38;5;34m256\u001b[0m),      │            │                   │\n",
              "│                     │ (\u001b[38;5;45mNone\u001b[0m, \u001b[38;5;34m256\u001b[0m)]      │            │                   │\n",
              "├─────────────────────┼───────────────────┼────────────┼───────────────────┤\n",
              "│ embedding_1         │ (\u001b[38;5;45mNone\u001b[0m, \u001b[38;5;45mNone\u001b[0m, \u001b[38;5;34m160\u001b[0m) │  \u001b[38;5;34m1,600,000\u001b[0m │ input_layer_1[\u001b[38;5;34m0\u001b[0m]… │\n",
              "│ (\u001b[38;5;33mEmbedding\u001b[0m)         │                   │            │                   │\n",
              "├─────────────────────┼───────────────────┼────────────┼───────────────────┤\n",
              "│ add (\u001b[38;5;33mAdd\u001b[0m)           │ (\u001b[38;5;45mNone\u001b[0m, \u001b[38;5;34m256\u001b[0m)       │          \u001b[38;5;34m0\u001b[0m │ bidirectional_2[\u001b[38;5;34m…\u001b[0m │\n",
              "│                     │                   │            │ bidirectional_2[\u001b[38;5;34m…\u001b[0m │\n",
              "├─────────────────────┼───────────────────┼────────────┼───────────────────┤\n",
              "│ add_1 (\u001b[38;5;33mAdd\u001b[0m)         │ (\u001b[38;5;45mNone\u001b[0m, \u001b[38;5;34m256\u001b[0m)       │          \u001b[38;5;34m0\u001b[0m │ bidirectional_2[\u001b[38;5;34m…\u001b[0m │\n",
              "│                     │                   │            │ bidirectional_2[\u001b[38;5;34m…\u001b[0m │\n",
              "├─────────────────────┼───────────────────┼────────────┼───────────────────┤\n",
              "│ lstm_3 (\u001b[38;5;33mLSTM\u001b[0m)       │ [(\u001b[38;5;45mNone\u001b[0m, \u001b[38;5;45mNone\u001b[0m,     │    \u001b[38;5;34m427,008\u001b[0m │ embedding_1[\u001b[38;5;34m0\u001b[0m][\u001b[38;5;34m0\u001b[0m… │\n",
              "│                     │ \u001b[38;5;34m256\u001b[0m), (\u001b[38;5;45mNone\u001b[0m,      │            │ add[\u001b[38;5;34m0\u001b[0m][\u001b[38;5;34m0\u001b[0m],        │\n",
              "│                     │ \u001b[38;5;34m256\u001b[0m), (\u001b[38;5;45mNone\u001b[0m,      │            │ add_1[\u001b[38;5;34m0\u001b[0m][\u001b[38;5;34m0\u001b[0m]       │\n",
              "│                     │ \u001b[38;5;34m256\u001b[0m)]             │            │                   │\n",
              "├─────────────────────┼───────────────────┼────────────┼───────────────────┤\n",
              "│ not_equal_1         │ (\u001b[38;5;45mNone\u001b[0m, \u001b[38;5;45mNone\u001b[0m)      │          \u001b[38;5;34m0\u001b[0m │ input_layer_1[\u001b[38;5;34m0\u001b[0m]… │\n",
              "│ (\u001b[38;5;33mNotEqual\u001b[0m)          │                   │            │                   │\n",
              "├─────────────────────┼───────────────────┼────────────┼───────────────────┤\n",
              "│ lambda_1 (\u001b[38;5;33mLambda\u001b[0m)   │ (\u001b[38;5;45mNone\u001b[0m, \u001b[38;5;45mNone\u001b[0m, \u001b[38;5;34m256\u001b[0m) │          \u001b[38;5;34m0\u001b[0m │ lstm_3[\u001b[38;5;34m0\u001b[0m][\u001b[38;5;34m0\u001b[0m],     │\n",
              "│                     │                   │            │ not_equal_1[\u001b[38;5;34m0\u001b[0m][\u001b[38;5;34m0\u001b[0m] │\n",
              "├─────────────────────┼───────────────────┼────────────┼───────────────────┤\n",
              "│ dense_1 (\u001b[38;5;33mDense\u001b[0m)     │ (\u001b[38;5;45mNone\u001b[0m, \u001b[38;5;45mNone\u001b[0m, \u001b[38;5;34m160\u001b[0m) │     \u001b[38;5;34m41,120\u001b[0m │ lambda_1[\u001b[38;5;34m0\u001b[0m][\u001b[38;5;34m0\u001b[0m]    │\n",
              "├─────────────────────┼───────────────────┼────────────┼───────────────────┤\n",
              "│ lambda_4 (\u001b[38;5;33mLambda\u001b[0m)   │ (\u001b[38;5;45mNone\u001b[0m, \u001b[38;5;45mNone\u001b[0m,      │          \u001b[38;5;34m0\u001b[0m │ dense_1[\u001b[38;5;34m0\u001b[0m][\u001b[38;5;34m0\u001b[0m]     │\n",
              "│                     │ \u001b[38;5;34m10000\u001b[0m)            │            │                   │\n",
              "├─────────────────────┼───────────────────┼────────────┼───────────────────┤\n",
              "│ input_layer_2       │ (\u001b[38;5;45mNone\u001b[0m, \u001b[38;5;34m44\u001b[0m)        │          \u001b[38;5;34m0\u001b[0m │ -                 │\n",
              "│ (\u001b[38;5;33mInputLayer\u001b[0m)        │                   │            │                   │\n",
              "├─────────────────────┼───────────────────┼────────────┼───────────────────┤\n",
              "│ lambda_5 (\u001b[38;5;33mLambda\u001b[0m)   │ (\u001b[38;5;45mNone\u001b[0m, \u001b[38;5;45mNone\u001b[0m,      │          \u001b[38;5;34m0\u001b[0m │ lambda_4[\u001b[38;5;34m0\u001b[0m][\u001b[38;5;34m0\u001b[0m]    │\n",
              "│                     │ \u001b[38;5;34m10000\u001b[0m)            │            │                   │\n",
              "└─────────────────────┴───────────────────┴────────────┴───────────────────┘\n"
            ],
            "text/html": [
              "<pre style=\"white-space:pre;overflow-x:auto;line-height:normal;font-family:Menlo,'DejaVu Sans Mono',consolas,'Courier New',monospace\">┏━━━━━━━━━━━━━━━━━━━━━┳━━━━━━━━━━━━━━━━━━━┳━━━━━━━━━━━━┳━━━━━━━━━━━━━━━━━━━┓\n",
              "┃<span style=\"font-weight: bold\"> Layer (type)        </span>┃<span style=\"font-weight: bold\"> Output Shape      </span>┃<span style=\"font-weight: bold\">    Param # </span>┃<span style=\"font-weight: bold\"> Connected to      </span>┃\n",
              "┡━━━━━━━━━━━━━━━━━━━━━╇━━━━━━━━━━━━━━━━━━━╇━━━━━━━━━━━━╇━━━━━━━━━━━━━━━━━━━┩\n",
              "│ input_layer         │ (<span style=\"color: #00d7ff; text-decoration-color: #00d7ff\">None</span>, <span style=\"color: #00af00; text-decoration-color: #00af00\">44</span>)        │          <span style=\"color: #00af00; text-decoration-color: #00af00\">0</span> │ -                 │\n",
              "│ (<span style=\"color: #0087ff; text-decoration-color: #0087ff\">InputLayer</span>)        │                   │            │                   │\n",
              "├─────────────────────┼───────────────────┼────────────┼───────────────────┤\n",
              "│ embedding           │ (<span style=\"color: #00d7ff; text-decoration-color: #00d7ff\">None</span>, <span style=\"color: #00af00; text-decoration-color: #00af00\">44</span>, <span style=\"color: #00af00; text-decoration-color: #00af00\">160</span>)   │  <span style=\"color: #00af00; text-decoration-color: #00af00\">2,880,000</span> │ input_layer[<span style=\"color: #00af00; text-decoration-color: #00af00\">0</span>][<span style=\"color: #00af00; text-decoration-color: #00af00\">0</span>] │\n",
              "│ (<span style=\"color: #0087ff; text-decoration-color: #0087ff\">Embedding</span>)         │                   │            │                   │\n",
              "├─────────────────────┼───────────────────┼────────────┼───────────────────┤\n",
              "│ dropout (<span style=\"color: #0087ff; text-decoration-color: #0087ff\">Dropout</span>)   │ (<span style=\"color: #00d7ff; text-decoration-color: #00d7ff\">None</span>, <span style=\"color: #00af00; text-decoration-color: #00af00\">44</span>, <span style=\"color: #00af00; text-decoration-color: #00af00\">160</span>)   │          <span style=\"color: #00af00; text-decoration-color: #00af00\">0</span> │ embedding[<span style=\"color: #00af00; text-decoration-color: #00af00\">0</span>][<span style=\"color: #00af00; text-decoration-color: #00af00\">0</span>]   │\n",
              "├─────────────────────┼───────────────────┼────────────┼───────────────────┤\n",
              "│ not_equal           │ (<span style=\"color: #00d7ff; text-decoration-color: #00d7ff\">None</span>, <span style=\"color: #00af00; text-decoration-color: #00af00\">44</span>)        │          <span style=\"color: #00af00; text-decoration-color: #00af00\">0</span> │ input_layer[<span style=\"color: #00af00; text-decoration-color: #00af00\">0</span>][<span style=\"color: #00af00; text-decoration-color: #00af00\">0</span>] │\n",
              "│ (<span style=\"color: #0087ff; text-decoration-color: #0087ff\">NotEqual</span>)          │                   │            │                   │\n",
              "├─────────────────────┼───────────────────┼────────────┼───────────────────┤\n",
              "│ bidirectional       │ [(<span style=\"color: #00d7ff; text-decoration-color: #00d7ff\">None</span>, <span style=\"color: #00af00; text-decoration-color: #00af00\">44</span>, <span style=\"color: #00af00; text-decoration-color: #00af00\">512</span>), │    <span style=\"color: #00af00; text-decoration-color: #00af00\">854,016</span> │ dropout[<span style=\"color: #00af00; text-decoration-color: #00af00\">0</span>][<span style=\"color: #00af00; text-decoration-color: #00af00\">0</span>],    │\n",
              "│ (<span style=\"color: #0087ff; text-decoration-color: #0087ff\">Bidirectional</span>)     │ (<span style=\"color: #00d7ff; text-decoration-color: #00d7ff\">None</span>, <span style=\"color: #00af00; text-decoration-color: #00af00\">256</span>),      │            │ not_equal[<span style=\"color: #00af00; text-decoration-color: #00af00\">0</span>][<span style=\"color: #00af00; text-decoration-color: #00af00\">0</span>]   │\n",
              "│                     │ (<span style=\"color: #00d7ff; text-decoration-color: #00d7ff\">None</span>, <span style=\"color: #00af00; text-decoration-color: #00af00\">256</span>),      │            │                   │\n",
              "│                     │ (<span style=\"color: #00d7ff; text-decoration-color: #00d7ff\">None</span>, <span style=\"color: #00af00; text-decoration-color: #00af00\">256</span>),      │            │                   │\n",
              "│                     │ (<span style=\"color: #00d7ff; text-decoration-color: #00d7ff\">None</span>, <span style=\"color: #00af00; text-decoration-color: #00af00\">256</span>)]      │            │                   │\n",
              "├─────────────────────┼───────────────────┼────────────┼───────────────────┤\n",
              "│ bidirectional_1     │ [(<span style=\"color: #00d7ff; text-decoration-color: #00d7ff\">None</span>, <span style=\"color: #00af00; text-decoration-color: #00af00\">44</span>, <span style=\"color: #00af00; text-decoration-color: #00af00\">512</span>), │  <span style=\"color: #00af00; text-decoration-color: #00af00\">1,574,912</span> │ bidirectional[<span style=\"color: #00af00; text-decoration-color: #00af00\">0</span>]… │\n",
              "│ (<span style=\"color: #0087ff; text-decoration-color: #0087ff\">Bidirectional</span>)     │ (<span style=\"color: #00d7ff; text-decoration-color: #00d7ff\">None</span>, <span style=\"color: #00af00; text-decoration-color: #00af00\">256</span>),      │            │ not_equal[<span style=\"color: #00af00; text-decoration-color: #00af00\">0</span>][<span style=\"color: #00af00; text-decoration-color: #00af00\">0</span>]   │\n",
              "│                     │ (<span style=\"color: #00d7ff; text-decoration-color: #00d7ff\">None</span>, <span style=\"color: #00af00; text-decoration-color: #00af00\">256</span>),      │            │                   │\n",
              "│                     │ (<span style=\"color: #00d7ff; text-decoration-color: #00d7ff\">None</span>, <span style=\"color: #00af00; text-decoration-color: #00af00\">256</span>),      │            │                   │\n",
              "│                     │ (<span style=\"color: #00d7ff; text-decoration-color: #00d7ff\">None</span>, <span style=\"color: #00af00; text-decoration-color: #00af00\">256</span>)]      │            │                   │\n",
              "├─────────────────────┼───────────────────┼────────────┼───────────────────┤\n",
              "│ input_layer_1       │ (<span style=\"color: #00d7ff; text-decoration-color: #00d7ff\">None</span>, <span style=\"color: #00d7ff; text-decoration-color: #00d7ff\">None</span>)      │          <span style=\"color: #00af00; text-decoration-color: #00af00\">0</span> │ -                 │\n",
              "│ (<span style=\"color: #0087ff; text-decoration-color: #0087ff\">InputLayer</span>)        │                   │            │                   │\n",
              "├─────────────────────┼───────────────────┼────────────┼───────────────────┤\n",
              "│ bidirectional_2     │ [(<span style=\"color: #00d7ff; text-decoration-color: #00d7ff\">None</span>, <span style=\"color: #00af00; text-decoration-color: #00af00\">44</span>, <span style=\"color: #00af00; text-decoration-color: #00af00\">256</span>), │  <span style=\"color: #00af00; text-decoration-color: #00af00\">1,574,912</span> │ bidirectional_1[<span style=\"color: #00af00; text-decoration-color: #00af00\">…</span> │\n",
              "│ (<span style=\"color: #0087ff; text-decoration-color: #0087ff\">Bidirectional</span>)     │ (<span style=\"color: #00d7ff; text-decoration-color: #00d7ff\">None</span>, <span style=\"color: #00af00; text-decoration-color: #00af00\">256</span>),      │            │ not_equal[<span style=\"color: #00af00; text-decoration-color: #00af00\">0</span>][<span style=\"color: #00af00; text-decoration-color: #00af00\">0</span>]   │\n",
              "│                     │ (<span style=\"color: #00d7ff; text-decoration-color: #00d7ff\">None</span>, <span style=\"color: #00af00; text-decoration-color: #00af00\">256</span>),      │            │                   │\n",
              "│                     │ (<span style=\"color: #00d7ff; text-decoration-color: #00d7ff\">None</span>, <span style=\"color: #00af00; text-decoration-color: #00af00\">256</span>),      │            │                   │\n",
              "│                     │ (<span style=\"color: #00d7ff; text-decoration-color: #00d7ff\">None</span>, <span style=\"color: #00af00; text-decoration-color: #00af00\">256</span>)]      │            │                   │\n",
              "├─────────────────────┼───────────────────┼────────────┼───────────────────┤\n",
              "│ embedding_1         │ (<span style=\"color: #00d7ff; text-decoration-color: #00d7ff\">None</span>, <span style=\"color: #00d7ff; text-decoration-color: #00d7ff\">None</span>, <span style=\"color: #00af00; text-decoration-color: #00af00\">160</span>) │  <span style=\"color: #00af00; text-decoration-color: #00af00\">1,600,000</span> │ input_layer_1[<span style=\"color: #00af00; text-decoration-color: #00af00\">0</span>]… │\n",
              "│ (<span style=\"color: #0087ff; text-decoration-color: #0087ff\">Embedding</span>)         │                   │            │                   │\n",
              "├─────────────────────┼───────────────────┼────────────┼───────────────────┤\n",
              "│ add (<span style=\"color: #0087ff; text-decoration-color: #0087ff\">Add</span>)           │ (<span style=\"color: #00d7ff; text-decoration-color: #00d7ff\">None</span>, <span style=\"color: #00af00; text-decoration-color: #00af00\">256</span>)       │          <span style=\"color: #00af00; text-decoration-color: #00af00\">0</span> │ bidirectional_2[<span style=\"color: #00af00; text-decoration-color: #00af00\">…</span> │\n",
              "│                     │                   │            │ bidirectional_2[<span style=\"color: #00af00; text-decoration-color: #00af00\">…</span> │\n",
              "├─────────────────────┼───────────────────┼────────────┼───────────────────┤\n",
              "│ add_1 (<span style=\"color: #0087ff; text-decoration-color: #0087ff\">Add</span>)         │ (<span style=\"color: #00d7ff; text-decoration-color: #00d7ff\">None</span>, <span style=\"color: #00af00; text-decoration-color: #00af00\">256</span>)       │          <span style=\"color: #00af00; text-decoration-color: #00af00\">0</span> │ bidirectional_2[<span style=\"color: #00af00; text-decoration-color: #00af00\">…</span> │\n",
              "│                     │                   │            │ bidirectional_2[<span style=\"color: #00af00; text-decoration-color: #00af00\">…</span> │\n",
              "├─────────────────────┼───────────────────┼────────────┼───────────────────┤\n",
              "│ lstm_3 (<span style=\"color: #0087ff; text-decoration-color: #0087ff\">LSTM</span>)       │ [(<span style=\"color: #00d7ff; text-decoration-color: #00d7ff\">None</span>, <span style=\"color: #00d7ff; text-decoration-color: #00d7ff\">None</span>,     │    <span style=\"color: #00af00; text-decoration-color: #00af00\">427,008</span> │ embedding_1[<span style=\"color: #00af00; text-decoration-color: #00af00\">0</span>][<span style=\"color: #00af00; text-decoration-color: #00af00\">0</span>… │\n",
              "│                     │ <span style=\"color: #00af00; text-decoration-color: #00af00\">256</span>), (<span style=\"color: #00d7ff; text-decoration-color: #00d7ff\">None</span>,      │            │ add[<span style=\"color: #00af00; text-decoration-color: #00af00\">0</span>][<span style=\"color: #00af00; text-decoration-color: #00af00\">0</span>],        │\n",
              "│                     │ <span style=\"color: #00af00; text-decoration-color: #00af00\">256</span>), (<span style=\"color: #00d7ff; text-decoration-color: #00d7ff\">None</span>,      │            │ add_1[<span style=\"color: #00af00; text-decoration-color: #00af00\">0</span>][<span style=\"color: #00af00; text-decoration-color: #00af00\">0</span>]       │\n",
              "│                     │ <span style=\"color: #00af00; text-decoration-color: #00af00\">256</span>)]             │            │                   │\n",
              "├─────────────────────┼───────────────────┼────────────┼───────────────────┤\n",
              "│ not_equal_1         │ (<span style=\"color: #00d7ff; text-decoration-color: #00d7ff\">None</span>, <span style=\"color: #00d7ff; text-decoration-color: #00d7ff\">None</span>)      │          <span style=\"color: #00af00; text-decoration-color: #00af00\">0</span> │ input_layer_1[<span style=\"color: #00af00; text-decoration-color: #00af00\">0</span>]… │\n",
              "│ (<span style=\"color: #0087ff; text-decoration-color: #0087ff\">NotEqual</span>)          │                   │            │                   │\n",
              "├─────────────────────┼───────────────────┼────────────┼───────────────────┤\n",
              "│ lambda_1 (<span style=\"color: #0087ff; text-decoration-color: #0087ff\">Lambda</span>)   │ (<span style=\"color: #00d7ff; text-decoration-color: #00d7ff\">None</span>, <span style=\"color: #00d7ff; text-decoration-color: #00d7ff\">None</span>, <span style=\"color: #00af00; text-decoration-color: #00af00\">256</span>) │          <span style=\"color: #00af00; text-decoration-color: #00af00\">0</span> │ lstm_3[<span style=\"color: #00af00; text-decoration-color: #00af00\">0</span>][<span style=\"color: #00af00; text-decoration-color: #00af00\">0</span>],     │\n",
              "│                     │                   │            │ not_equal_1[<span style=\"color: #00af00; text-decoration-color: #00af00\">0</span>][<span style=\"color: #00af00; text-decoration-color: #00af00\">0</span>] │\n",
              "├─────────────────────┼───────────────────┼────────────┼───────────────────┤\n",
              "│ dense_1 (<span style=\"color: #0087ff; text-decoration-color: #0087ff\">Dense</span>)     │ (<span style=\"color: #00d7ff; text-decoration-color: #00d7ff\">None</span>, <span style=\"color: #00d7ff; text-decoration-color: #00d7ff\">None</span>, <span style=\"color: #00af00; text-decoration-color: #00af00\">160</span>) │     <span style=\"color: #00af00; text-decoration-color: #00af00\">41,120</span> │ lambda_1[<span style=\"color: #00af00; text-decoration-color: #00af00\">0</span>][<span style=\"color: #00af00; text-decoration-color: #00af00\">0</span>]    │\n",
              "├─────────────────────┼───────────────────┼────────────┼───────────────────┤\n",
              "│ lambda_4 (<span style=\"color: #0087ff; text-decoration-color: #0087ff\">Lambda</span>)   │ (<span style=\"color: #00d7ff; text-decoration-color: #00d7ff\">None</span>, <span style=\"color: #00d7ff; text-decoration-color: #00d7ff\">None</span>,      │          <span style=\"color: #00af00; text-decoration-color: #00af00\">0</span> │ dense_1[<span style=\"color: #00af00; text-decoration-color: #00af00\">0</span>][<span style=\"color: #00af00; text-decoration-color: #00af00\">0</span>]     │\n",
              "│                     │ <span style=\"color: #00af00; text-decoration-color: #00af00\">10000</span>)            │            │                   │\n",
              "├─────────────────────┼───────────────────┼────────────┼───────────────────┤\n",
              "│ input_layer_2       │ (<span style=\"color: #00d7ff; text-decoration-color: #00d7ff\">None</span>, <span style=\"color: #00af00; text-decoration-color: #00af00\">44</span>)        │          <span style=\"color: #00af00; text-decoration-color: #00af00\">0</span> │ -                 │\n",
              "│ (<span style=\"color: #0087ff; text-decoration-color: #0087ff\">InputLayer</span>)        │                   │            │                   │\n",
              "├─────────────────────┼───────────────────┼────────────┼───────────────────┤\n",
              "│ lambda_5 (<span style=\"color: #0087ff; text-decoration-color: #0087ff\">Lambda</span>)   │ (<span style=\"color: #00d7ff; text-decoration-color: #00d7ff\">None</span>, <span style=\"color: #00d7ff; text-decoration-color: #00d7ff\">None</span>,      │          <span style=\"color: #00af00; text-decoration-color: #00af00\">0</span> │ lambda_4[<span style=\"color: #00af00; text-decoration-color: #00af00\">0</span>][<span style=\"color: #00af00; text-decoration-color: #00af00\">0</span>]    │\n",
              "│                     │ <span style=\"color: #00af00; text-decoration-color: #00af00\">10000</span>)            │            │                   │\n",
              "└─────────────────────┴───────────────────┴────────────┴───────────────────┘\n",
              "</pre>\n"
            ]
          },
          "metadata": {}
        },
        {
          "output_type": "display_data",
          "data": {
            "text/plain": [
              "\u001b[1m Total params: \u001b[0m\u001b[38;5;34m8,951,968\u001b[0m (34.15 MB)\n"
            ],
            "text/html": [
              "<pre style=\"white-space:pre;overflow-x:auto;line-height:normal;font-family:Menlo,'DejaVu Sans Mono',consolas,'Courier New',monospace\"><span style=\"font-weight: bold\"> Total params: </span><span style=\"color: #00af00; text-decoration-color: #00af00\">8,951,968</span> (34.15 MB)\n",
              "</pre>\n"
            ]
          },
          "metadata": {}
        },
        {
          "output_type": "display_data",
          "data": {
            "text/plain": [
              "\u001b[1m Trainable params: \u001b[0m\u001b[38;5;34m8,951,968\u001b[0m (34.15 MB)\n"
            ],
            "text/html": [
              "<pre style=\"white-space:pre;overflow-x:auto;line-height:normal;font-family:Menlo,'DejaVu Sans Mono',consolas,'Courier New',monospace\"><span style=\"font-weight: bold\"> Trainable params: </span><span style=\"color: #00af00; text-decoration-color: #00af00\">8,951,968</span> (34.15 MB)\n",
              "</pre>\n"
            ]
          },
          "metadata": {}
        },
        {
          "output_type": "display_data",
          "data": {
            "text/plain": [
              "\u001b[1m Non-trainable params: \u001b[0m\u001b[38;5;34m0\u001b[0m (0.00 B)\n"
            ],
            "text/html": [
              "<pre style=\"white-space:pre;overflow-x:auto;line-height:normal;font-family:Menlo,'DejaVu Sans Mono',consolas,'Courier New',monospace\"><span style=\"font-weight: bold\"> Non-trainable params: </span><span style=\"color: #00af00; text-decoration-color: #00af00\">0</span> (0.00 B)\n",
              "</pre>\n"
            ]
          },
          "metadata": {}
        }
      ]
    },
    {
      "cell_type": "code",
      "source": [
        "from tensorflow.keras.layers import AdditiveAttention\n",
        "\n",
        "# 어텐션 층(어텐션 함수)\n",
        "attn_layer = AdditiveAttention(name='attention_layer')\n",
        "\n",
        "# 인코더와 디코더의 모든 time step의 hidden state를 어텐션 층에 전달하고 결과를 리턴\n",
        "attn_out = attn_layer([decoder_outputs, encoder_output3], mask=None)\n",
        "\n",
        "# 어텐션의 결과와 디코더의 hidden state들을 연결\n",
        "decoder_concat_input = Concatenate(axis=-1, name='concat_layer')([decoder_outputs, attn_out])\n",
        "decoder_concat_input = Dropout(0.1)(decoder_concat_input)\n",
        "decoder_layer = Dense(embedding_dim)\n",
        "decoder_layer_outputs = decoder_layer(decoder_concat_input)\n",
        "\n",
        "\n",
        "embedding_matrix = dec_emb_layer.embeddings\n",
        "logits = Lambda(lambda x: tf.matmul(x, embedding_matrix, transpose_b=True))(decoder_layer_outputs)  # (batch, time, vocab_size)\n",
        "#decoder_softmax_outputs = Lambda(lambda x: tf.nn.softmax(x))(logits)\n",
        "\n",
        "# 모델 정의\n",
        "model = Model([encoder_inputs, decoder_inputs], logits)\n",
        "model.summary()"
      ],
      "metadata": {
        "colab": {
          "base_uri": "https://localhost:8080/",
          "height": 1000
        },
        "id": "qoK8hYniiFwF",
        "outputId": "3da508f7-7f3c-4c8a-a9fe-9a27c0e1c98e"
      },
      "execution_count": 41,
      "outputs": [
        {
          "output_type": "display_data",
          "data": {
            "text/plain": [
              "\u001b[1mModel: \"functional\"\u001b[0m\n"
            ],
            "text/html": [
              "<pre style=\"white-space:pre;overflow-x:auto;line-height:normal;font-family:Menlo,'DejaVu Sans Mono',consolas,'Courier New',monospace\"><span style=\"font-weight: bold\">Model: \"functional\"</span>\n",
              "</pre>\n"
            ]
          },
          "metadata": {}
        },
        {
          "output_type": "display_data",
          "data": {
            "text/plain": [
              "┏━━━━━━━━━━━━━━━━━━━━━┳━━━━━━━━━━━━━━━━━━━┳━━━━━━━━━━━━┳━━━━━━━━━━━━━━━━━━━┓\n",
              "┃\u001b[1m \u001b[0m\u001b[1mLayer (type)       \u001b[0m\u001b[1m \u001b[0m┃\u001b[1m \u001b[0m\u001b[1mOutput Shape     \u001b[0m\u001b[1m \u001b[0m┃\u001b[1m \u001b[0m\u001b[1m   Param #\u001b[0m\u001b[1m \u001b[0m┃\u001b[1m \u001b[0m\u001b[1mConnected to     \u001b[0m\u001b[1m \u001b[0m┃\n",
              "┡━━━━━━━━━━━━━━━━━━━━━╇━━━━━━━━━━━━━━━━━━━╇━━━━━━━━━━━━╇━━━━━━━━━━━━━━━━━━━┩\n",
              "│ input_layer         │ (\u001b[38;5;45mNone\u001b[0m, \u001b[38;5;34m44\u001b[0m)        │          \u001b[38;5;34m0\u001b[0m │ -                 │\n",
              "│ (\u001b[38;5;33mInputLayer\u001b[0m)        │                   │            │                   │\n",
              "├─────────────────────┼───────────────────┼────────────┼───────────────────┤\n",
              "│ embedding           │ (\u001b[38;5;45mNone\u001b[0m, \u001b[38;5;34m44\u001b[0m, \u001b[38;5;34m160\u001b[0m)   │  \u001b[38;5;34m2,880,000\u001b[0m │ input_layer[\u001b[38;5;34m0\u001b[0m][\u001b[38;5;34m0\u001b[0m] │\n",
              "│ (\u001b[38;5;33mEmbedding\u001b[0m)         │                   │            │                   │\n",
              "├─────────────────────┼───────────────────┼────────────┼───────────────────┤\n",
              "│ dropout (\u001b[38;5;33mDropout\u001b[0m)   │ (\u001b[38;5;45mNone\u001b[0m, \u001b[38;5;34m44\u001b[0m, \u001b[38;5;34m160\u001b[0m)   │          \u001b[38;5;34m0\u001b[0m │ embedding[\u001b[38;5;34m0\u001b[0m][\u001b[38;5;34m0\u001b[0m]   │\n",
              "├─────────────────────┼───────────────────┼────────────┼───────────────────┤\n",
              "│ not_equal           │ (\u001b[38;5;45mNone\u001b[0m, \u001b[38;5;34m44\u001b[0m)        │          \u001b[38;5;34m0\u001b[0m │ input_layer[\u001b[38;5;34m0\u001b[0m][\u001b[38;5;34m0\u001b[0m] │\n",
              "│ (\u001b[38;5;33mNotEqual\u001b[0m)          │                   │            │                   │\n",
              "├─────────────────────┼───────────────────┼────────────┼───────────────────┤\n",
              "│ bidirectional       │ [(\u001b[38;5;45mNone\u001b[0m, \u001b[38;5;34m44\u001b[0m, \u001b[38;5;34m512\u001b[0m), │    \u001b[38;5;34m854,016\u001b[0m │ dropout[\u001b[38;5;34m0\u001b[0m][\u001b[38;5;34m0\u001b[0m],    │\n",
              "│ (\u001b[38;5;33mBidirectional\u001b[0m)     │ (\u001b[38;5;45mNone\u001b[0m, \u001b[38;5;34m256\u001b[0m),      │            │ not_equal[\u001b[38;5;34m0\u001b[0m][\u001b[38;5;34m0\u001b[0m]   │\n",
              "│                     │ (\u001b[38;5;45mNone\u001b[0m, \u001b[38;5;34m256\u001b[0m),      │            │                   │\n",
              "│                     │ (\u001b[38;5;45mNone\u001b[0m, \u001b[38;5;34m256\u001b[0m),      │            │                   │\n",
              "│                     │ (\u001b[38;5;45mNone\u001b[0m, \u001b[38;5;34m256\u001b[0m)]      │            │                   │\n",
              "├─────────────────────┼───────────────────┼────────────┼───────────────────┤\n",
              "│ input_layer_1       │ (\u001b[38;5;45mNone\u001b[0m, \u001b[38;5;45mNone\u001b[0m)      │          \u001b[38;5;34m0\u001b[0m │ -                 │\n",
              "│ (\u001b[38;5;33mInputLayer\u001b[0m)        │                   │            │                   │\n",
              "├─────────────────────┼───────────────────┼────────────┼───────────────────┤\n",
              "│ bidirectional_1     │ [(\u001b[38;5;45mNone\u001b[0m, \u001b[38;5;34m44\u001b[0m, \u001b[38;5;34m256\u001b[0m), │  \u001b[38;5;34m1,574,912\u001b[0m │ bidirectional[\u001b[38;5;34m0\u001b[0m]… │\n",
              "│ (\u001b[38;5;33mBidirectional\u001b[0m)     │ (\u001b[38;5;45mNone\u001b[0m, \u001b[38;5;34m256\u001b[0m),      │            │ not_equal[\u001b[38;5;34m0\u001b[0m][\u001b[38;5;34m0\u001b[0m]   │\n",
              "│                     │ (\u001b[38;5;45mNone\u001b[0m, \u001b[38;5;34m256\u001b[0m),      │            │                   │\n",
              "│                     │ (\u001b[38;5;45mNone\u001b[0m, \u001b[38;5;34m256\u001b[0m),      │            │                   │\n",
              "│                     │ (\u001b[38;5;45mNone\u001b[0m, \u001b[38;5;34m256\u001b[0m)]      │            │                   │\n",
              "├─────────────────────┼───────────────────┼────────────┼───────────────────┤\n",
              "│ embedding_1         │ (\u001b[38;5;45mNone\u001b[0m, \u001b[38;5;45mNone\u001b[0m, \u001b[38;5;34m160\u001b[0m) │  \u001b[38;5;34m1,600,000\u001b[0m │ input_layer_1[\u001b[38;5;34m0\u001b[0m]… │\n",
              "│ (\u001b[38;5;33mEmbedding\u001b[0m)         │                   │            │                   │\n",
              "├─────────────────────┼───────────────────┼────────────┼───────────────────┤\n",
              "│ bidirectional_2     │ [(\u001b[38;5;45mNone\u001b[0m, \u001b[38;5;34m44\u001b[0m, \u001b[38;5;34m256\u001b[0m), │  \u001b[38;5;34m1,050,624\u001b[0m │ bidirectional_1[\u001b[38;5;34m…\u001b[0m │\n",
              "│ (\u001b[38;5;33mBidirectional\u001b[0m)     │ (\u001b[38;5;45mNone\u001b[0m, \u001b[38;5;34m256\u001b[0m),      │            │ not_equal[\u001b[38;5;34m0\u001b[0m][\u001b[38;5;34m0\u001b[0m]   │\n",
              "│                     │ (\u001b[38;5;45mNone\u001b[0m, \u001b[38;5;34m256\u001b[0m),      │            │                   │\n",
              "│                     │ (\u001b[38;5;45mNone\u001b[0m, \u001b[38;5;34m256\u001b[0m),      │            │                   │\n",
              "│                     │ (\u001b[38;5;45mNone\u001b[0m, \u001b[38;5;34m256\u001b[0m)]      │            │                   │\n",
              "├─────────────────────┼───────────────────┼────────────┼───────────────────┤\n",
              "│ dropout_1 (\u001b[38;5;33mDropout\u001b[0m) │ (\u001b[38;5;45mNone\u001b[0m, \u001b[38;5;45mNone\u001b[0m, \u001b[38;5;34m160\u001b[0m) │          \u001b[38;5;34m0\u001b[0m │ embedding_1[\u001b[38;5;34m0\u001b[0m][\u001b[38;5;34m0\u001b[0m] │\n",
              "├─────────────────────┼───────────────────┼────────────┼───────────────────┤\n",
              "│ add (\u001b[38;5;33mAdd\u001b[0m)           │ (\u001b[38;5;45mNone\u001b[0m, \u001b[38;5;34m256\u001b[0m)       │          \u001b[38;5;34m0\u001b[0m │ bidirectional_2[\u001b[38;5;34m…\u001b[0m │\n",
              "│                     │                   │            │ bidirectional_2[\u001b[38;5;34m…\u001b[0m │\n",
              "├─────────────────────┼───────────────────┼────────────┼───────────────────┤\n",
              "│ add_1 (\u001b[38;5;33mAdd\u001b[0m)         │ (\u001b[38;5;45mNone\u001b[0m, \u001b[38;5;34m256\u001b[0m)       │          \u001b[38;5;34m0\u001b[0m │ bidirectional_2[\u001b[38;5;34m…\u001b[0m │\n",
              "│                     │                   │            │ bidirectional_2[\u001b[38;5;34m…\u001b[0m │\n",
              "├─────────────────────┼───────────────────┼────────────┼───────────────────┤\n",
              "│ add_2 (\u001b[38;5;33mAdd\u001b[0m)         │ (\u001b[38;5;45mNone\u001b[0m, \u001b[38;5;34m44\u001b[0m, \u001b[38;5;34m256\u001b[0m)   │          \u001b[38;5;34m0\u001b[0m │ bidirectional_2[\u001b[38;5;34m…\u001b[0m │\n",
              "│                     │                   │            │ bidirectional_1[\u001b[38;5;34m…\u001b[0m │\n",
              "├─────────────────────┼───────────────────┼────────────┼───────────────────┤\n",
              "│ lstm_3 (\u001b[38;5;33mLSTM\u001b[0m)       │ [(\u001b[38;5;45mNone\u001b[0m, \u001b[38;5;45mNone\u001b[0m,     │    \u001b[38;5;34m427,008\u001b[0m │ dropout_1[\u001b[38;5;34m0\u001b[0m][\u001b[38;5;34m0\u001b[0m],  │\n",
              "│                     │ \u001b[38;5;34m256\u001b[0m), (\u001b[38;5;45mNone\u001b[0m,      │            │ add[\u001b[38;5;34m0\u001b[0m][\u001b[38;5;34m0\u001b[0m],        │\n",
              "│                     │ \u001b[38;5;34m256\u001b[0m), (\u001b[38;5;45mNone\u001b[0m,      │            │ add_1[\u001b[38;5;34m0\u001b[0m][\u001b[38;5;34m0\u001b[0m]       │\n",
              "│                     │ \u001b[38;5;34m256\u001b[0m)]             │            │                   │\n",
              "├─────────────────────┼───────────────────┼────────────┼───────────────────┤\n",
              "│ not_equal_1         │ (\u001b[38;5;45mNone\u001b[0m, \u001b[38;5;45mNone\u001b[0m)      │          \u001b[38;5;34m0\u001b[0m │ input_layer_1[\u001b[38;5;34m0\u001b[0m]… │\n",
              "│ (\u001b[38;5;33mNotEqual\u001b[0m)          │                   │            │                   │\n",
              "├─────────────────────┼───────────────────┼────────────┼───────────────────┤\n",
              "│ layer_normalization │ (\u001b[38;5;45mNone\u001b[0m, \u001b[38;5;34m44\u001b[0m, \u001b[38;5;34m256\u001b[0m)   │        \u001b[38;5;34m512\u001b[0m │ add_2[\u001b[38;5;34m0\u001b[0m][\u001b[38;5;34m0\u001b[0m]       │\n",
              "│ (\u001b[38;5;33mLayerNormalizatio…\u001b[0m │                   │            │                   │\n",
              "├─────────────────────┼───────────────────┼────────────┼───────────────────┤\n",
              "│ lambda_1 (\u001b[38;5;33mLambda\u001b[0m)   │ (\u001b[38;5;45mNone\u001b[0m, \u001b[38;5;45mNone\u001b[0m, \u001b[38;5;34m256\u001b[0m) │          \u001b[38;5;34m0\u001b[0m │ lstm_3[\u001b[38;5;34m0\u001b[0m][\u001b[38;5;34m0\u001b[0m],     │\n",
              "│                     │                   │            │ not_equal_1[\u001b[38;5;34m0\u001b[0m][\u001b[38;5;34m0\u001b[0m] │\n",
              "├─────────────────────┼───────────────────┼────────────┼───────────────────┤\n",
              "│ lambda (\u001b[38;5;33mLambda\u001b[0m)     │ (\u001b[38;5;45mNone\u001b[0m, \u001b[38;5;34m44\u001b[0m, \u001b[38;5;34m256\u001b[0m)   │          \u001b[38;5;34m0\u001b[0m │ layer_normalizat… │\n",
              "├─────────────────────┼───────────────────┼────────────┼───────────────────┤\n",
              "│ attention_layer     │ (\u001b[38;5;45mNone\u001b[0m, \u001b[38;5;45mNone\u001b[0m, \u001b[38;5;34m256\u001b[0m) │        \u001b[38;5;34m256\u001b[0m │ lambda_1[\u001b[38;5;34m0\u001b[0m][\u001b[38;5;34m0\u001b[0m],   │\n",
              "│ (\u001b[38;5;33mAdditiveAttention\u001b[0m) │                   │            │ lambda[\u001b[38;5;34m0\u001b[0m][\u001b[38;5;34m0\u001b[0m]      │\n",
              "├─────────────────────┼───────────────────┼────────────┼───────────────────┤\n",
              "│ concat_layer        │ (\u001b[38;5;45mNone\u001b[0m, \u001b[38;5;45mNone\u001b[0m, \u001b[38;5;34m512\u001b[0m) │          \u001b[38;5;34m0\u001b[0m │ lambda_1[\u001b[38;5;34m0\u001b[0m][\u001b[38;5;34m0\u001b[0m],   │\n",
              "│ (\u001b[38;5;33mConcatenate\u001b[0m)       │                   │            │ attention_layer[\u001b[38;5;34m…\u001b[0m │\n",
              "├─────────────────────┼───────────────────┼────────────┼───────────────────┤\n",
              "│ dropout_2 (\u001b[38;5;33mDropout\u001b[0m) │ (\u001b[38;5;45mNone\u001b[0m, \u001b[38;5;45mNone\u001b[0m, \u001b[38;5;34m512\u001b[0m) │          \u001b[38;5;34m0\u001b[0m │ concat_layer[\u001b[38;5;34m0\u001b[0m][\u001b[38;5;34m…\u001b[0m │\n",
              "├─────────────────────┼───────────────────┼────────────┼───────────────────┤\n",
              "│ dense (\u001b[38;5;33mDense\u001b[0m)       │ (\u001b[38;5;45mNone\u001b[0m, \u001b[38;5;45mNone\u001b[0m, \u001b[38;5;34m160\u001b[0m) │     \u001b[38;5;34m82,080\u001b[0m │ dropout_2[\u001b[38;5;34m0\u001b[0m][\u001b[38;5;34m0\u001b[0m]   │\n",
              "├─────────────────────┼───────────────────┼────────────┼───────────────────┤\n",
              "│ lambda_2 (\u001b[38;5;33mLambda\u001b[0m)   │ (\u001b[38;5;45mNone\u001b[0m, \u001b[38;5;45mNone\u001b[0m,      │          \u001b[38;5;34m0\u001b[0m │ dense[\u001b[38;5;34m0\u001b[0m][\u001b[38;5;34m0\u001b[0m]       │\n",
              "│                     │ \u001b[38;5;34m10000\u001b[0m)            │            │                   │\n",
              "└─────────────────────┴───────────────────┴────────────┴───────────────────┘\n"
            ],
            "text/html": [
              "<pre style=\"white-space:pre;overflow-x:auto;line-height:normal;font-family:Menlo,'DejaVu Sans Mono',consolas,'Courier New',monospace\">┏━━━━━━━━━━━━━━━━━━━━━┳━━━━━━━━━━━━━━━━━━━┳━━━━━━━━━━━━┳━━━━━━━━━━━━━━━━━━━┓\n",
              "┃<span style=\"font-weight: bold\"> Layer (type)        </span>┃<span style=\"font-weight: bold\"> Output Shape      </span>┃<span style=\"font-weight: bold\">    Param # </span>┃<span style=\"font-weight: bold\"> Connected to      </span>┃\n",
              "┡━━━━━━━━━━━━━━━━━━━━━╇━━━━━━━━━━━━━━━━━━━╇━━━━━━━━━━━━╇━━━━━━━━━━━━━━━━━━━┩\n",
              "│ input_layer         │ (<span style=\"color: #00d7ff; text-decoration-color: #00d7ff\">None</span>, <span style=\"color: #00af00; text-decoration-color: #00af00\">44</span>)        │          <span style=\"color: #00af00; text-decoration-color: #00af00\">0</span> │ -                 │\n",
              "│ (<span style=\"color: #0087ff; text-decoration-color: #0087ff\">InputLayer</span>)        │                   │            │                   │\n",
              "├─────────────────────┼───────────────────┼────────────┼───────────────────┤\n",
              "│ embedding           │ (<span style=\"color: #00d7ff; text-decoration-color: #00d7ff\">None</span>, <span style=\"color: #00af00; text-decoration-color: #00af00\">44</span>, <span style=\"color: #00af00; text-decoration-color: #00af00\">160</span>)   │  <span style=\"color: #00af00; text-decoration-color: #00af00\">2,880,000</span> │ input_layer[<span style=\"color: #00af00; text-decoration-color: #00af00\">0</span>][<span style=\"color: #00af00; text-decoration-color: #00af00\">0</span>] │\n",
              "│ (<span style=\"color: #0087ff; text-decoration-color: #0087ff\">Embedding</span>)         │                   │            │                   │\n",
              "├─────────────────────┼───────────────────┼────────────┼───────────────────┤\n",
              "│ dropout (<span style=\"color: #0087ff; text-decoration-color: #0087ff\">Dropout</span>)   │ (<span style=\"color: #00d7ff; text-decoration-color: #00d7ff\">None</span>, <span style=\"color: #00af00; text-decoration-color: #00af00\">44</span>, <span style=\"color: #00af00; text-decoration-color: #00af00\">160</span>)   │          <span style=\"color: #00af00; text-decoration-color: #00af00\">0</span> │ embedding[<span style=\"color: #00af00; text-decoration-color: #00af00\">0</span>][<span style=\"color: #00af00; text-decoration-color: #00af00\">0</span>]   │\n",
              "├─────────────────────┼───────────────────┼────────────┼───────────────────┤\n",
              "│ not_equal           │ (<span style=\"color: #00d7ff; text-decoration-color: #00d7ff\">None</span>, <span style=\"color: #00af00; text-decoration-color: #00af00\">44</span>)        │          <span style=\"color: #00af00; text-decoration-color: #00af00\">0</span> │ input_layer[<span style=\"color: #00af00; text-decoration-color: #00af00\">0</span>][<span style=\"color: #00af00; text-decoration-color: #00af00\">0</span>] │\n",
              "│ (<span style=\"color: #0087ff; text-decoration-color: #0087ff\">NotEqual</span>)          │                   │            │                   │\n",
              "├─────────────────────┼───────────────────┼────────────┼───────────────────┤\n",
              "│ bidirectional       │ [(<span style=\"color: #00d7ff; text-decoration-color: #00d7ff\">None</span>, <span style=\"color: #00af00; text-decoration-color: #00af00\">44</span>, <span style=\"color: #00af00; text-decoration-color: #00af00\">512</span>), │    <span style=\"color: #00af00; text-decoration-color: #00af00\">854,016</span> │ dropout[<span style=\"color: #00af00; text-decoration-color: #00af00\">0</span>][<span style=\"color: #00af00; text-decoration-color: #00af00\">0</span>],    │\n",
              "│ (<span style=\"color: #0087ff; text-decoration-color: #0087ff\">Bidirectional</span>)     │ (<span style=\"color: #00d7ff; text-decoration-color: #00d7ff\">None</span>, <span style=\"color: #00af00; text-decoration-color: #00af00\">256</span>),      │            │ not_equal[<span style=\"color: #00af00; text-decoration-color: #00af00\">0</span>][<span style=\"color: #00af00; text-decoration-color: #00af00\">0</span>]   │\n",
              "│                     │ (<span style=\"color: #00d7ff; text-decoration-color: #00d7ff\">None</span>, <span style=\"color: #00af00; text-decoration-color: #00af00\">256</span>),      │            │                   │\n",
              "│                     │ (<span style=\"color: #00d7ff; text-decoration-color: #00d7ff\">None</span>, <span style=\"color: #00af00; text-decoration-color: #00af00\">256</span>),      │            │                   │\n",
              "│                     │ (<span style=\"color: #00d7ff; text-decoration-color: #00d7ff\">None</span>, <span style=\"color: #00af00; text-decoration-color: #00af00\">256</span>)]      │            │                   │\n",
              "├─────────────────────┼───────────────────┼────────────┼───────────────────┤\n",
              "│ input_layer_1       │ (<span style=\"color: #00d7ff; text-decoration-color: #00d7ff\">None</span>, <span style=\"color: #00d7ff; text-decoration-color: #00d7ff\">None</span>)      │          <span style=\"color: #00af00; text-decoration-color: #00af00\">0</span> │ -                 │\n",
              "│ (<span style=\"color: #0087ff; text-decoration-color: #0087ff\">InputLayer</span>)        │                   │            │                   │\n",
              "├─────────────────────┼───────────────────┼────────────┼───────────────────┤\n",
              "│ bidirectional_1     │ [(<span style=\"color: #00d7ff; text-decoration-color: #00d7ff\">None</span>, <span style=\"color: #00af00; text-decoration-color: #00af00\">44</span>, <span style=\"color: #00af00; text-decoration-color: #00af00\">256</span>), │  <span style=\"color: #00af00; text-decoration-color: #00af00\">1,574,912</span> │ bidirectional[<span style=\"color: #00af00; text-decoration-color: #00af00\">0</span>]… │\n",
              "│ (<span style=\"color: #0087ff; text-decoration-color: #0087ff\">Bidirectional</span>)     │ (<span style=\"color: #00d7ff; text-decoration-color: #00d7ff\">None</span>, <span style=\"color: #00af00; text-decoration-color: #00af00\">256</span>),      │            │ not_equal[<span style=\"color: #00af00; text-decoration-color: #00af00\">0</span>][<span style=\"color: #00af00; text-decoration-color: #00af00\">0</span>]   │\n",
              "│                     │ (<span style=\"color: #00d7ff; text-decoration-color: #00d7ff\">None</span>, <span style=\"color: #00af00; text-decoration-color: #00af00\">256</span>),      │            │                   │\n",
              "│                     │ (<span style=\"color: #00d7ff; text-decoration-color: #00d7ff\">None</span>, <span style=\"color: #00af00; text-decoration-color: #00af00\">256</span>),      │            │                   │\n",
              "│                     │ (<span style=\"color: #00d7ff; text-decoration-color: #00d7ff\">None</span>, <span style=\"color: #00af00; text-decoration-color: #00af00\">256</span>)]      │            │                   │\n",
              "├─────────────────────┼───────────────────┼────────────┼───────────────────┤\n",
              "│ embedding_1         │ (<span style=\"color: #00d7ff; text-decoration-color: #00d7ff\">None</span>, <span style=\"color: #00d7ff; text-decoration-color: #00d7ff\">None</span>, <span style=\"color: #00af00; text-decoration-color: #00af00\">160</span>) │  <span style=\"color: #00af00; text-decoration-color: #00af00\">1,600,000</span> │ input_layer_1[<span style=\"color: #00af00; text-decoration-color: #00af00\">0</span>]… │\n",
              "│ (<span style=\"color: #0087ff; text-decoration-color: #0087ff\">Embedding</span>)         │                   │            │                   │\n",
              "├─────────────────────┼───────────────────┼────────────┼───────────────────┤\n",
              "│ bidirectional_2     │ [(<span style=\"color: #00d7ff; text-decoration-color: #00d7ff\">None</span>, <span style=\"color: #00af00; text-decoration-color: #00af00\">44</span>, <span style=\"color: #00af00; text-decoration-color: #00af00\">256</span>), │  <span style=\"color: #00af00; text-decoration-color: #00af00\">1,050,624</span> │ bidirectional_1[<span style=\"color: #00af00; text-decoration-color: #00af00\">…</span> │\n",
              "│ (<span style=\"color: #0087ff; text-decoration-color: #0087ff\">Bidirectional</span>)     │ (<span style=\"color: #00d7ff; text-decoration-color: #00d7ff\">None</span>, <span style=\"color: #00af00; text-decoration-color: #00af00\">256</span>),      │            │ not_equal[<span style=\"color: #00af00; text-decoration-color: #00af00\">0</span>][<span style=\"color: #00af00; text-decoration-color: #00af00\">0</span>]   │\n",
              "│                     │ (<span style=\"color: #00d7ff; text-decoration-color: #00d7ff\">None</span>, <span style=\"color: #00af00; text-decoration-color: #00af00\">256</span>),      │            │                   │\n",
              "│                     │ (<span style=\"color: #00d7ff; text-decoration-color: #00d7ff\">None</span>, <span style=\"color: #00af00; text-decoration-color: #00af00\">256</span>),      │            │                   │\n",
              "│                     │ (<span style=\"color: #00d7ff; text-decoration-color: #00d7ff\">None</span>, <span style=\"color: #00af00; text-decoration-color: #00af00\">256</span>)]      │            │                   │\n",
              "├─────────────────────┼───────────────────┼────────────┼───────────────────┤\n",
              "│ dropout_1 (<span style=\"color: #0087ff; text-decoration-color: #0087ff\">Dropout</span>) │ (<span style=\"color: #00d7ff; text-decoration-color: #00d7ff\">None</span>, <span style=\"color: #00d7ff; text-decoration-color: #00d7ff\">None</span>, <span style=\"color: #00af00; text-decoration-color: #00af00\">160</span>) │          <span style=\"color: #00af00; text-decoration-color: #00af00\">0</span> │ embedding_1[<span style=\"color: #00af00; text-decoration-color: #00af00\">0</span>][<span style=\"color: #00af00; text-decoration-color: #00af00\">0</span>] │\n",
              "├─────────────────────┼───────────────────┼────────────┼───────────────────┤\n",
              "│ add (<span style=\"color: #0087ff; text-decoration-color: #0087ff\">Add</span>)           │ (<span style=\"color: #00d7ff; text-decoration-color: #00d7ff\">None</span>, <span style=\"color: #00af00; text-decoration-color: #00af00\">256</span>)       │          <span style=\"color: #00af00; text-decoration-color: #00af00\">0</span> │ bidirectional_2[<span style=\"color: #00af00; text-decoration-color: #00af00\">…</span> │\n",
              "│                     │                   │            │ bidirectional_2[<span style=\"color: #00af00; text-decoration-color: #00af00\">…</span> │\n",
              "├─────────────────────┼───────────────────┼────────────┼───────────────────┤\n",
              "│ add_1 (<span style=\"color: #0087ff; text-decoration-color: #0087ff\">Add</span>)         │ (<span style=\"color: #00d7ff; text-decoration-color: #00d7ff\">None</span>, <span style=\"color: #00af00; text-decoration-color: #00af00\">256</span>)       │          <span style=\"color: #00af00; text-decoration-color: #00af00\">0</span> │ bidirectional_2[<span style=\"color: #00af00; text-decoration-color: #00af00\">…</span> │\n",
              "│                     │                   │            │ bidirectional_2[<span style=\"color: #00af00; text-decoration-color: #00af00\">…</span> │\n",
              "├─────────────────────┼───────────────────┼────────────┼───────────────────┤\n",
              "│ add_2 (<span style=\"color: #0087ff; text-decoration-color: #0087ff\">Add</span>)         │ (<span style=\"color: #00d7ff; text-decoration-color: #00d7ff\">None</span>, <span style=\"color: #00af00; text-decoration-color: #00af00\">44</span>, <span style=\"color: #00af00; text-decoration-color: #00af00\">256</span>)   │          <span style=\"color: #00af00; text-decoration-color: #00af00\">0</span> │ bidirectional_2[<span style=\"color: #00af00; text-decoration-color: #00af00\">…</span> │\n",
              "│                     │                   │            │ bidirectional_1[<span style=\"color: #00af00; text-decoration-color: #00af00\">…</span> │\n",
              "├─────────────────────┼───────────────────┼────────────┼───────────────────┤\n",
              "│ lstm_3 (<span style=\"color: #0087ff; text-decoration-color: #0087ff\">LSTM</span>)       │ [(<span style=\"color: #00d7ff; text-decoration-color: #00d7ff\">None</span>, <span style=\"color: #00d7ff; text-decoration-color: #00d7ff\">None</span>,     │    <span style=\"color: #00af00; text-decoration-color: #00af00\">427,008</span> │ dropout_1[<span style=\"color: #00af00; text-decoration-color: #00af00\">0</span>][<span style=\"color: #00af00; text-decoration-color: #00af00\">0</span>],  │\n",
              "│                     │ <span style=\"color: #00af00; text-decoration-color: #00af00\">256</span>), (<span style=\"color: #00d7ff; text-decoration-color: #00d7ff\">None</span>,      │            │ add[<span style=\"color: #00af00; text-decoration-color: #00af00\">0</span>][<span style=\"color: #00af00; text-decoration-color: #00af00\">0</span>],        │\n",
              "│                     │ <span style=\"color: #00af00; text-decoration-color: #00af00\">256</span>), (<span style=\"color: #00d7ff; text-decoration-color: #00d7ff\">None</span>,      │            │ add_1[<span style=\"color: #00af00; text-decoration-color: #00af00\">0</span>][<span style=\"color: #00af00; text-decoration-color: #00af00\">0</span>]       │\n",
              "│                     │ <span style=\"color: #00af00; text-decoration-color: #00af00\">256</span>)]             │            │                   │\n",
              "├─────────────────────┼───────────────────┼────────────┼───────────────────┤\n",
              "│ not_equal_1         │ (<span style=\"color: #00d7ff; text-decoration-color: #00d7ff\">None</span>, <span style=\"color: #00d7ff; text-decoration-color: #00d7ff\">None</span>)      │          <span style=\"color: #00af00; text-decoration-color: #00af00\">0</span> │ input_layer_1[<span style=\"color: #00af00; text-decoration-color: #00af00\">0</span>]… │\n",
              "│ (<span style=\"color: #0087ff; text-decoration-color: #0087ff\">NotEqual</span>)          │                   │            │                   │\n",
              "├─────────────────────┼───────────────────┼────────────┼───────────────────┤\n",
              "│ layer_normalization │ (<span style=\"color: #00d7ff; text-decoration-color: #00d7ff\">None</span>, <span style=\"color: #00af00; text-decoration-color: #00af00\">44</span>, <span style=\"color: #00af00; text-decoration-color: #00af00\">256</span>)   │        <span style=\"color: #00af00; text-decoration-color: #00af00\">512</span> │ add_2[<span style=\"color: #00af00; text-decoration-color: #00af00\">0</span>][<span style=\"color: #00af00; text-decoration-color: #00af00\">0</span>]       │\n",
              "│ (<span style=\"color: #0087ff; text-decoration-color: #0087ff\">LayerNormalizatio…</span> │                   │            │                   │\n",
              "├─────────────────────┼───────────────────┼────────────┼───────────────────┤\n",
              "│ lambda_1 (<span style=\"color: #0087ff; text-decoration-color: #0087ff\">Lambda</span>)   │ (<span style=\"color: #00d7ff; text-decoration-color: #00d7ff\">None</span>, <span style=\"color: #00d7ff; text-decoration-color: #00d7ff\">None</span>, <span style=\"color: #00af00; text-decoration-color: #00af00\">256</span>) │          <span style=\"color: #00af00; text-decoration-color: #00af00\">0</span> │ lstm_3[<span style=\"color: #00af00; text-decoration-color: #00af00\">0</span>][<span style=\"color: #00af00; text-decoration-color: #00af00\">0</span>],     │\n",
              "│                     │                   │            │ not_equal_1[<span style=\"color: #00af00; text-decoration-color: #00af00\">0</span>][<span style=\"color: #00af00; text-decoration-color: #00af00\">0</span>] │\n",
              "├─────────────────────┼───────────────────┼────────────┼───────────────────┤\n",
              "│ lambda (<span style=\"color: #0087ff; text-decoration-color: #0087ff\">Lambda</span>)     │ (<span style=\"color: #00d7ff; text-decoration-color: #00d7ff\">None</span>, <span style=\"color: #00af00; text-decoration-color: #00af00\">44</span>, <span style=\"color: #00af00; text-decoration-color: #00af00\">256</span>)   │          <span style=\"color: #00af00; text-decoration-color: #00af00\">0</span> │ layer_normalizat… │\n",
              "├─────────────────────┼───────────────────┼────────────┼───────────────────┤\n",
              "│ attention_layer     │ (<span style=\"color: #00d7ff; text-decoration-color: #00d7ff\">None</span>, <span style=\"color: #00d7ff; text-decoration-color: #00d7ff\">None</span>, <span style=\"color: #00af00; text-decoration-color: #00af00\">256</span>) │        <span style=\"color: #00af00; text-decoration-color: #00af00\">256</span> │ lambda_1[<span style=\"color: #00af00; text-decoration-color: #00af00\">0</span>][<span style=\"color: #00af00; text-decoration-color: #00af00\">0</span>],   │\n",
              "│ (<span style=\"color: #0087ff; text-decoration-color: #0087ff\">AdditiveAttention</span>) │                   │            │ lambda[<span style=\"color: #00af00; text-decoration-color: #00af00\">0</span>][<span style=\"color: #00af00; text-decoration-color: #00af00\">0</span>]      │\n",
              "├─────────────────────┼───────────────────┼────────────┼───────────────────┤\n",
              "│ concat_layer        │ (<span style=\"color: #00d7ff; text-decoration-color: #00d7ff\">None</span>, <span style=\"color: #00d7ff; text-decoration-color: #00d7ff\">None</span>, <span style=\"color: #00af00; text-decoration-color: #00af00\">512</span>) │          <span style=\"color: #00af00; text-decoration-color: #00af00\">0</span> │ lambda_1[<span style=\"color: #00af00; text-decoration-color: #00af00\">0</span>][<span style=\"color: #00af00; text-decoration-color: #00af00\">0</span>],   │\n",
              "│ (<span style=\"color: #0087ff; text-decoration-color: #0087ff\">Concatenate</span>)       │                   │            │ attention_layer[<span style=\"color: #00af00; text-decoration-color: #00af00\">…</span> │\n",
              "├─────────────────────┼───────────────────┼────────────┼───────────────────┤\n",
              "│ dropout_2 (<span style=\"color: #0087ff; text-decoration-color: #0087ff\">Dropout</span>) │ (<span style=\"color: #00d7ff; text-decoration-color: #00d7ff\">None</span>, <span style=\"color: #00d7ff; text-decoration-color: #00d7ff\">None</span>, <span style=\"color: #00af00; text-decoration-color: #00af00\">512</span>) │          <span style=\"color: #00af00; text-decoration-color: #00af00\">0</span> │ concat_layer[<span style=\"color: #00af00; text-decoration-color: #00af00\">0</span>][<span style=\"color: #00af00; text-decoration-color: #00af00\">…</span> │\n",
              "├─────────────────────┼───────────────────┼────────────┼───────────────────┤\n",
              "│ dense (<span style=\"color: #0087ff; text-decoration-color: #0087ff\">Dense</span>)       │ (<span style=\"color: #00d7ff; text-decoration-color: #00d7ff\">None</span>, <span style=\"color: #00d7ff; text-decoration-color: #00d7ff\">None</span>, <span style=\"color: #00af00; text-decoration-color: #00af00\">160</span>) │     <span style=\"color: #00af00; text-decoration-color: #00af00\">82,080</span> │ dropout_2[<span style=\"color: #00af00; text-decoration-color: #00af00\">0</span>][<span style=\"color: #00af00; text-decoration-color: #00af00\">0</span>]   │\n",
              "├─────────────────────┼───────────────────┼────────────┼───────────────────┤\n",
              "│ lambda_2 (<span style=\"color: #0087ff; text-decoration-color: #0087ff\">Lambda</span>)   │ (<span style=\"color: #00d7ff; text-decoration-color: #00d7ff\">None</span>, <span style=\"color: #00d7ff; text-decoration-color: #00d7ff\">None</span>,      │          <span style=\"color: #00af00; text-decoration-color: #00af00\">0</span> │ dense[<span style=\"color: #00af00; text-decoration-color: #00af00\">0</span>][<span style=\"color: #00af00; text-decoration-color: #00af00\">0</span>]       │\n",
              "│                     │ <span style=\"color: #00af00; text-decoration-color: #00af00\">10000</span>)            │            │                   │\n",
              "└─────────────────────┴───────────────────┴────────────┴───────────────────┘\n",
              "</pre>\n"
            ]
          },
          "metadata": {}
        },
        {
          "output_type": "display_data",
          "data": {
            "text/plain": [
              "\u001b[1m Total params: \u001b[0m\u001b[38;5;34m8,469,408\u001b[0m (32.31 MB)\n"
            ],
            "text/html": [
              "<pre style=\"white-space:pre;overflow-x:auto;line-height:normal;font-family:Menlo,'DejaVu Sans Mono',consolas,'Courier New',monospace\"><span style=\"font-weight: bold\"> Total params: </span><span style=\"color: #00af00; text-decoration-color: #00af00\">8,469,408</span> (32.31 MB)\n",
              "</pre>\n"
            ]
          },
          "metadata": {}
        },
        {
          "output_type": "display_data",
          "data": {
            "text/plain": [
              "\u001b[1m Trainable params: \u001b[0m\u001b[38;5;34m8,469,408\u001b[0m (32.31 MB)\n"
            ],
            "text/html": [
              "<pre style=\"white-space:pre;overflow-x:auto;line-height:normal;font-family:Menlo,'DejaVu Sans Mono',consolas,'Courier New',monospace\"><span style=\"font-weight: bold\"> Trainable params: </span><span style=\"color: #00af00; text-decoration-color: #00af00\">8,469,408</span> (32.31 MB)\n",
              "</pre>\n"
            ]
          },
          "metadata": {}
        },
        {
          "output_type": "display_data",
          "data": {
            "text/plain": [
              "\u001b[1m Non-trainable params: \u001b[0m\u001b[38;5;34m0\u001b[0m (0.00 B)\n"
            ],
            "text/html": [
              "<pre style=\"white-space:pre;overflow-x:auto;line-height:normal;font-family:Menlo,'DejaVu Sans Mono',consolas,'Courier New',monospace\"><span style=\"font-weight: bold\"> Non-trainable params: </span><span style=\"color: #00af00; text-decoration-color: #00af00\">0</span> (0.00 B)\n",
              "</pre>\n"
            ]
          },
          "metadata": {}
        }
      ]
    },
    {
      "cell_type": "markdown",
      "source": [
        "#3.학습"
      ],
      "metadata": {
        "id": "59gcNHsTjsLJ"
      }
    },
    {
      "cell_type": "code",
      "source": [
        "from tensorflow.keras.callbacks import ReduceLROnPlateau\n",
        "from tensorflow.keras.optimizers import Adam\n",
        "optimizer = Adam(learning_rate=5e-4)"
      ],
      "metadata": {
        "id": "w-ls02k-tbOi"
      },
      "execution_count": 42,
      "outputs": []
    },
    {
      "cell_type": "code",
      "source": [
        "model.compile(optimizer=optimizer, loss=masked_loss)\n",
        "es = EarlyStopping(monitor='val_loss', patience=8, verbose=1,restore_best_weights=True)\n",
        "reduce_lr = ReduceLROnPlateau(monitor='val_loss', factor=0.5, patience=2, min_lr=1e-6)\n",
        "history = model.fit(x=[encoder_input_train, decoder_input_train], y=decoder_target_train, \\\n",
        "          validation_data=([encoder_input_test, decoder_input_test], decoder_target_test), \\\n",
        "          batch_size=128, callbacks=[es,reduce_lr], epochs=200)"
      ],
      "metadata": {
        "colab": {
          "base_uri": "https://localhost:8080/"
        },
        "id": "QNxLe-dbjqW1",
        "outputId": "09b20bda-b64b-4984-a1a5-6891e9e5197e"
      },
      "execution_count": 43,
      "outputs": [
        {
          "metadata": {
            "tags": null
          },
          "name": "stdout",
          "output_type": "stream",
          "text": [
            "Epoch 1/200\n"
          ]
        },
        {
          "metadata": {
            "tags": null
          },
          "name": "stderr",
          "output_type": "stream",
          "text": [
            "/usr/local/lib/python3.11/dist-packages/keras/src/layers/layer.py:938: UserWarning: Layer 'lambda_2' (of type Lambda) was passed an input with a mask attached to it. However, this layer does not support masking and will therefore destroy the mask information. Downstream layers will not see the mask.\n",
            "  warnings.warn(\n"
          ]
        },
        {
          "output_type": "stream",
          "name": "stdout",
          "text": [
            "\u001b[1m593/593\u001b[0m \u001b[32m━━━━━━━━━━━━━━━━━━━━\u001b[0m\u001b[37m\u001b[0m \u001b[1m437s\u001b[0m 694ms/step - loss: 7.5363 - val_loss: 7.0144 - learning_rate: 5.0000e-04\n",
            "Epoch 2/200\n",
            "\u001b[1m593/593\u001b[0m \u001b[32m━━━━━━━━━━━━━━━━━━━━\u001b[0m\u001b[37m\u001b[0m \u001b[1m408s\u001b[0m 688ms/step - loss: 6.8546 - val_loss: 6.4156 - learning_rate: 5.0000e-04\n",
            "Epoch 3/200\n",
            "\u001b[1m593/593\u001b[0m \u001b[32m━━━━━━━━━━━━━━━━━━━━\u001b[0m\u001b[37m\u001b[0m \u001b[1m408s\u001b[0m 687ms/step - loss: 6.3390 - val_loss: 6.0651 - learning_rate: 5.0000e-04\n",
            "Epoch 4/200\n",
            "\u001b[1m593/593\u001b[0m \u001b[32m━━━━━━━━━━━━━━━━━━━━\u001b[0m\u001b[37m\u001b[0m \u001b[1m407s\u001b[0m 686ms/step - loss: 6.0004 - val_loss: 5.8330 - learning_rate: 5.0000e-04\n",
            "Epoch 5/200\n",
            "\u001b[1m593/593\u001b[0m \u001b[32m━━━━━━━━━━━━━━━━━━━━\u001b[0m\u001b[37m\u001b[0m \u001b[1m408s\u001b[0m 687ms/step - loss: 5.7467 - val_loss: 5.6561 - learning_rate: 5.0000e-04\n",
            "Epoch 6/200\n",
            "\u001b[1m593/593\u001b[0m \u001b[32m━━━━━━━━━━━━━━━━━━━━\u001b[0m\u001b[37m\u001b[0m \u001b[1m409s\u001b[0m 690ms/step - loss: 5.5553 - val_loss: 5.5123 - learning_rate: 5.0000e-04\n",
            "Epoch 7/200\n",
            "\u001b[1m593/593\u001b[0m \u001b[32m━━━━━━━━━━━━━━━━━━━━\u001b[0m\u001b[37m\u001b[0m \u001b[1m412s\u001b[0m 694ms/step - loss: 5.3868 - val_loss: 5.3817 - learning_rate: 5.0000e-04\n",
            "Epoch 8/200\n",
            "\u001b[1m593/593\u001b[0m \u001b[32m━━━━━━━━━━━━━━━━━━━━\u001b[0m\u001b[37m\u001b[0m \u001b[1m413s\u001b[0m 697ms/step - loss: 5.2280 - val_loss: 5.2690 - learning_rate: 5.0000e-04\n",
            "Epoch 9/200\n",
            "\u001b[1m593/593\u001b[0m \u001b[32m━━━━━━━━━━━━━━━━━━━━\u001b[0m\u001b[37m\u001b[0m \u001b[1m415s\u001b[0m 701ms/step - loss: 5.0952 - val_loss: 5.1722 - learning_rate: 5.0000e-04\n",
            "Epoch 10/200\n",
            "\u001b[1m593/593\u001b[0m \u001b[32m━━━━━━━━━━━━━━━━━━━━\u001b[0m\u001b[37m\u001b[0m \u001b[1m413s\u001b[0m 697ms/step - loss: 4.9645 - val_loss: 5.0845 - learning_rate: 5.0000e-04\n",
            "Epoch 11/200\n",
            "\u001b[1m593/593\u001b[0m \u001b[32m━━━━━━━━━━━━━━━━━━━━\u001b[0m\u001b[37m\u001b[0m \u001b[1m415s\u001b[0m 699ms/step - loss: 4.8479 - val_loss: 5.0079 - learning_rate: 5.0000e-04\n",
            "Epoch 12/200\n",
            "\u001b[1m593/593\u001b[0m \u001b[32m━━━━━━━━━━━━━━━━━━━━\u001b[0m\u001b[37m\u001b[0m \u001b[1m414s\u001b[0m 698ms/step - loss: 4.7425 - val_loss: 4.9415 - learning_rate: 5.0000e-04\n",
            "Epoch 13/200\n",
            "\u001b[1m593/593\u001b[0m \u001b[32m━━━━━━━━━━━━━━━━━━━━\u001b[0m\u001b[37m\u001b[0m \u001b[1m413s\u001b[0m 696ms/step - loss: 4.6477 - val_loss: 4.8888 - learning_rate: 5.0000e-04\n",
            "Epoch 14/200\n",
            "\u001b[1m593/593\u001b[0m \u001b[32m━━━━━━━━━━━━━━━━━━━━\u001b[0m\u001b[37m\u001b[0m \u001b[1m414s\u001b[0m 698ms/step - loss: 4.5620 - val_loss: 4.8365 - learning_rate: 5.0000e-04\n",
            "Epoch 15/200\n",
            "\u001b[1m593/593\u001b[0m \u001b[32m━━━━━━━━━━━━━━━━━━━━\u001b[0m\u001b[37m\u001b[0m \u001b[1m411s\u001b[0m 693ms/step - loss: 4.4777 - val_loss: 4.7784 - learning_rate: 5.0000e-04\n",
            "Epoch 16/200\n",
            "\u001b[1m593/593\u001b[0m \u001b[32m━━━━━━━━━━━━━━━━━━━━\u001b[0m\u001b[37m\u001b[0m \u001b[1m413s\u001b[0m 696ms/step - loss: 4.4019 - val_loss: 4.7326 - learning_rate: 5.0000e-04\n",
            "Epoch 17/200\n",
            "\u001b[1m593/593\u001b[0m \u001b[32m━━━━━━━━━━━━━━━━━━━━\u001b[0m\u001b[37m\u001b[0m \u001b[1m417s\u001b[0m 703ms/step - loss: 4.3308 - val_loss: 4.6975 - learning_rate: 5.0000e-04\n",
            "Epoch 18/200\n",
            "\u001b[1m593/593\u001b[0m \u001b[32m━━━━━━━━━━━━━━━━━━━━\u001b[0m\u001b[37m\u001b[0m \u001b[1m410s\u001b[0m 691ms/step - loss: 4.2661 - val_loss: 4.6645 - learning_rate: 5.0000e-04\n",
            "Epoch 19/200\n",
            "\u001b[1m593/593\u001b[0m \u001b[32m━━━━━━━━━━━━━━━━━━━━\u001b[0m\u001b[37m\u001b[0m \u001b[1m411s\u001b[0m 694ms/step - loss: 4.2046 - val_loss: 4.6373 - learning_rate: 5.0000e-04\n",
            "Epoch 20/200\n",
            "\u001b[1m593/593\u001b[0m \u001b[32m━━━━━━━━━━━━━━━━━━━━\u001b[0m\u001b[37m\u001b[0m \u001b[1m414s\u001b[0m 699ms/step - loss: 4.1479 - val_loss: 4.6072 - learning_rate: 5.0000e-04\n",
            "Epoch 21/200\n",
            "\u001b[1m593/593\u001b[0m \u001b[32m━━━━━━━━━━━━━━━━━━━━\u001b[0m\u001b[37m\u001b[0m \u001b[1m414s\u001b[0m 698ms/step - loss: 4.0934 - val_loss: 4.5818 - learning_rate: 5.0000e-04\n",
            "Epoch 22/200\n",
            "\u001b[1m593/593\u001b[0m \u001b[32m━━━━━━━━━━━━━━━━━━━━\u001b[0m\u001b[37m\u001b[0m \u001b[1m412s\u001b[0m 696ms/step - loss: 4.0520 - val_loss: 4.5659 - learning_rate: 5.0000e-04\n",
            "Epoch 23/200\n",
            "\u001b[1m593/593\u001b[0m \u001b[32m━━━━━━━━━━━━━━━━━━━━\u001b[0m\u001b[37m\u001b[0m \u001b[1m412s\u001b[0m 695ms/step - loss: 4.0104 - val_loss: 4.5547 - learning_rate: 5.0000e-04\n",
            "Epoch 24/200\n",
            "\u001b[1m593/593\u001b[0m \u001b[32m━━━━━━━━━━━━━━━━━━━━\u001b[0m\u001b[37m\u001b[0m \u001b[1m412s\u001b[0m 694ms/step - loss: 3.9701 - val_loss: 4.5254 - learning_rate: 5.0000e-04\n",
            "Epoch 25/200\n",
            "\u001b[1m593/593\u001b[0m \u001b[32m━━━━━━━━━━━━━━━━━━━━\u001b[0m\u001b[37m\u001b[0m \u001b[1m412s\u001b[0m 695ms/step - loss: 3.9298 - val_loss: 4.5200 - learning_rate: 5.0000e-04\n",
            "Epoch 26/200\n",
            "\u001b[1m593/593\u001b[0m \u001b[32m━━━━━━━━━━━━━━━━━━━━\u001b[0m\u001b[37m\u001b[0m \u001b[1m414s\u001b[0m 697ms/step - loss: 3.8938 - val_loss: 4.4988 - learning_rate: 5.0000e-04\n",
            "Epoch 27/200\n",
            "\u001b[1m593/593\u001b[0m \u001b[32m━━━━━━━━━━━━━━━━━━━━\u001b[0m\u001b[37m\u001b[0m \u001b[1m414s\u001b[0m 697ms/step - loss: 3.8604 - val_loss: 4.4920 - learning_rate: 5.0000e-04\n",
            "Epoch 28/200\n",
            "\u001b[1m593/593\u001b[0m \u001b[32m━━━━━━━━━━━━━━━━━━━━\u001b[0m\u001b[37m\u001b[0m \u001b[1m413s\u001b[0m 696ms/step - loss: 3.8323 - val_loss: 4.4822 - learning_rate: 5.0000e-04\n",
            "Epoch 29/200\n",
            "\u001b[1m593/593\u001b[0m \u001b[32m━━━━━━━━━━━━━━━━━━━━\u001b[0m\u001b[37m\u001b[0m \u001b[1m412s\u001b[0m 694ms/step - loss: 3.8012 - val_loss: 4.4784 - learning_rate: 5.0000e-04\n",
            "Epoch 30/200\n",
            "\u001b[1m593/593\u001b[0m \u001b[32m━━━━━━━━━━━━━━━━━━━━\u001b[0m\u001b[37m\u001b[0m \u001b[1m410s\u001b[0m 692ms/step - loss: 3.7693 - val_loss: 4.4725 - learning_rate: 5.0000e-04\n",
            "Epoch 31/200\n",
            "\u001b[1m593/593\u001b[0m \u001b[32m━━━━━━━━━━━━━━━━━━━━\u001b[0m\u001b[37m\u001b[0m \u001b[1m411s\u001b[0m 694ms/step - loss: 3.7472 - val_loss: 4.4634 - learning_rate: 5.0000e-04\n",
            "Epoch 32/200\n",
            "\u001b[1m593/593\u001b[0m \u001b[32m━━━━━━━━━━━━━━━━━━━━\u001b[0m\u001b[37m\u001b[0m \u001b[1m410s\u001b[0m 691ms/step - loss: 3.7274 - val_loss: 4.4517 - learning_rate: 5.0000e-04\n",
            "Epoch 33/200\n",
            "\u001b[1m593/593\u001b[0m \u001b[32m━━━━━━━━━━━━━━━━━━━━\u001b[0m\u001b[37m\u001b[0m \u001b[1m410s\u001b[0m 691ms/step - loss: 3.7023 - val_loss: 4.4513 - learning_rate: 5.0000e-04\n",
            "Epoch 34/200\n",
            "\u001b[1m593/593\u001b[0m \u001b[32m━━━━━━━━━━━━━━━━━━━━\u001b[0m\u001b[37m\u001b[0m \u001b[1m410s\u001b[0m 691ms/step - loss: 3.6800 - val_loss: 4.4434 - learning_rate: 5.0000e-04\n",
            "Epoch 35/200\n",
            "\u001b[1m593/593\u001b[0m \u001b[32m━━━━━━━━━━━━━━━━━━━━\u001b[0m\u001b[37m\u001b[0m \u001b[1m410s\u001b[0m 691ms/step - loss: 3.6580 - val_loss: 4.4459 - learning_rate: 5.0000e-04\n",
            "Epoch 36/200\n",
            "\u001b[1m593/593\u001b[0m \u001b[32m━━━━━━━━━━━━━━━━━━━━\u001b[0m\u001b[37m\u001b[0m \u001b[1m410s\u001b[0m 692ms/step - loss: 3.6362 - val_loss: 4.4349 - learning_rate: 5.0000e-04\n",
            "Epoch 37/200\n",
            "\u001b[1m593/593\u001b[0m \u001b[32m━━━━━━━━━━━━━━━━━━━━\u001b[0m\u001b[37m\u001b[0m \u001b[1m412s\u001b[0m 694ms/step - loss: 3.6196 - val_loss: 4.4436 - learning_rate: 5.0000e-04\n",
            "Epoch 38/200\n",
            "\u001b[1m593/593\u001b[0m \u001b[32m━━━━━━━━━━━━━━━━━━━━\u001b[0m\u001b[37m\u001b[0m \u001b[1m411s\u001b[0m 693ms/step - loss: 3.6018 - val_loss: 4.4261 - learning_rate: 5.0000e-04\n",
            "Epoch 39/200\n",
            "\u001b[1m593/593\u001b[0m \u001b[32m━━━━━━━━━━━━━━━━━━━━\u001b[0m\u001b[37m\u001b[0m \u001b[1m412s\u001b[0m 694ms/step - loss: 3.5828 - val_loss: 4.4335 - learning_rate: 5.0000e-04\n",
            "Epoch 40/200\n",
            "\u001b[1m593/593\u001b[0m \u001b[32m━━━━━━━━━━━━━━━━━━━━\u001b[0m\u001b[37m\u001b[0m \u001b[1m411s\u001b[0m 693ms/step - loss: 3.5705 - val_loss: 4.4320 - learning_rate: 5.0000e-04\n",
            "Epoch 41/200\n",
            "\u001b[1m593/593\u001b[0m \u001b[32m━━━━━━━━━━━━━━━━━━━━\u001b[0m\u001b[37m\u001b[0m \u001b[1m411s\u001b[0m 693ms/step - loss: 3.5182 - val_loss: 4.4173 - learning_rate: 2.5000e-04\n",
            "Epoch 42/200\n",
            "\u001b[1m593/593\u001b[0m \u001b[32m━━━━━━━━━━━━━━━━━━━━\u001b[0m\u001b[37m\u001b[0m \u001b[1m410s\u001b[0m 691ms/step - loss: 3.4985 - val_loss: 4.4274 - learning_rate: 2.5000e-04\n",
            "Epoch 43/200\n",
            "\u001b[1m593/593\u001b[0m \u001b[32m━━━━━━━━━━━━━━━━━━━━\u001b[0m\u001b[37m\u001b[0m \u001b[1m412s\u001b[0m 694ms/step - loss: 3.4789 - val_loss: 4.4192 - learning_rate: 2.5000e-04\n",
            "Epoch 44/200\n",
            "\u001b[1m593/593\u001b[0m \u001b[32m━━━━━━━━━━━━━━━━━━━━\u001b[0m\u001b[37m\u001b[0m \u001b[1m409s\u001b[0m 690ms/step - loss: 3.4535 - val_loss: 4.4185 - learning_rate: 1.2500e-04\n",
            "Epoch 45/200\n",
            "\u001b[1m593/593\u001b[0m \u001b[32m━━━━━━━━━━━━━━━━━━━━\u001b[0m\u001b[37m\u001b[0m \u001b[1m410s\u001b[0m 691ms/step - loss: 3.4378 - val_loss: 4.4169 - learning_rate: 1.2500e-04\n",
            "Epoch 46/200\n",
            "\u001b[1m593/593\u001b[0m \u001b[32m━━━━━━━━━━━━━━━━━━━━\u001b[0m\u001b[37m\u001b[0m \u001b[1m410s\u001b[0m 691ms/step - loss: 3.4348 - val_loss: 4.4239 - learning_rate: 1.2500e-04\n",
            "Epoch 47/200\n",
            "\u001b[1m593/593\u001b[0m \u001b[32m━━━━━━━━━━━━━━━━━━━━\u001b[0m\u001b[37m\u001b[0m \u001b[1m408s\u001b[0m 687ms/step - loss: 3.4340 - val_loss: 4.4214 - learning_rate: 1.2500e-04\n",
            "Epoch 48/200\n",
            "\u001b[1m593/593\u001b[0m \u001b[32m━━━━━━━━━━━━━━━━━━━━\u001b[0m\u001b[37m\u001b[0m \u001b[1m407s\u001b[0m 687ms/step - loss: 3.4190 - val_loss: 4.4196 - learning_rate: 6.2500e-05\n",
            "Epoch 49/200\n",
            "\u001b[1m593/593\u001b[0m \u001b[32m━━━━━━━━━━━━━━━━━━━━\u001b[0m\u001b[37m\u001b[0m \u001b[1m407s\u001b[0m 686ms/step - loss: 3.4120 - val_loss: 4.4144 - learning_rate: 6.2500e-05\n",
            "Epoch 50/200\n",
            "\u001b[1m593/593\u001b[0m \u001b[32m━━━━━━━━━━━━━━━━━━━━\u001b[0m\u001b[37m\u001b[0m \u001b[1m406s\u001b[0m 684ms/step - loss: 3.4078 - val_loss: 4.4219 - learning_rate: 6.2500e-05\n",
            "Epoch 51/200\n",
            "\u001b[1m593/593\u001b[0m \u001b[32m━━━━━━━━━━━━━━━━━━━━\u001b[0m\u001b[37m\u001b[0m \u001b[1m406s\u001b[0m 685ms/step - loss: 3.4097 - val_loss: 4.4194 - learning_rate: 6.2500e-05\n",
            "Epoch 52/200\n",
            "\u001b[1m593/593\u001b[0m \u001b[32m━━━━━━━━━━━━━━━━━━━━\u001b[0m\u001b[37m\u001b[0m \u001b[1m407s\u001b[0m 686ms/step - loss: 3.4015 - val_loss: 4.4172 - learning_rate: 3.1250e-05\n",
            "Epoch 53/200\n",
            "\u001b[1m593/593\u001b[0m \u001b[32m━━━━━━━━━━━━━━━━━━━━\u001b[0m\u001b[37m\u001b[0m \u001b[1m408s\u001b[0m 689ms/step - loss: 3.3978 - val_loss: 4.4226 - learning_rate: 3.1250e-05\n",
            "Epoch 54/200\n",
            "\u001b[1m593/593\u001b[0m \u001b[32m━━━━━━━━━━━━━━━━━━━━\u001b[0m\u001b[37m\u001b[0m \u001b[1m410s\u001b[0m 692ms/step - loss: 3.3897 - val_loss: 4.4224 - learning_rate: 1.5625e-05\n",
            "Epoch 55/200\n",
            "\u001b[1m593/593\u001b[0m \u001b[32m━━━━━━━━━━━━━━━━━━━━\u001b[0m\u001b[37m\u001b[0m \u001b[1m410s\u001b[0m 692ms/step - loss: 3.3926 - val_loss: 4.4201 - learning_rate: 1.5625e-05\n",
            "Epoch 56/200\n",
            "\u001b[1m593/593\u001b[0m \u001b[32m━━━━━━━━━━━━━━━━━━━━\u001b[0m\u001b[37m\u001b[0m \u001b[1m409s\u001b[0m 690ms/step - loss: 3.3954 - val_loss: 4.4210 - learning_rate: 7.8125e-06\n",
            "Epoch 57/200\n",
            "\u001b[1m593/593\u001b[0m \u001b[32m━━━━━━━━━━━━━━━━━━━━\u001b[0m\u001b[37m\u001b[0m \u001b[1m410s\u001b[0m 692ms/step - loss: 3.3939 - val_loss: 4.4203 - learning_rate: 7.8125e-06\n",
            "Epoch 57: early stopping\n",
            "Restoring model weights from the end of the best epoch: 49.\n"
          ]
        }
      ]
    },
    {
      "cell_type": "code",
      "source": [
        "plt.plot(history.history['loss'], label='train')\n",
        "plt.plot(history.history['val_loss'], label='test')\n",
        "plt.legend()\n",
        "plt.show()"
      ],
      "metadata": {
        "colab": {
          "base_uri": "https://localhost:8080/",
          "height": 434
        },
        "id": "lzQyzHU7j_5D",
        "outputId": "73e22344-cbc5-4718-dba7-ea83e008490a"
      },
      "execution_count": 44,
      "outputs": [
        {
          "output_type": "display_data",
          "data": {
            "text/plain": [
              "<Figure size 640x480 with 1 Axes>"
            ],
            "image/png": "[encoded data removed]"
          },
          "metadata": {}
        }
      ]
    },
    {
      "cell_type": "markdown",
      "source": [
        "#4.inference"
      ],
      "metadata": {
        "id": "1ZEJ-EcEqSOi"
      }
    },
    {
      "cell_type": "code",
      "source": [
        "src_index_to_word = src_tokenizer.index_word # 원문 단어 집합에서 정수 -> 단어를 얻음\n",
        "tar_word_to_index = tar_tokenizer.word_index # 요약 단어 집합에서 단어 -> 정수를 얻음\n",
        "tar_index_to_word = tar_tokenizer.index_word # 요약 단어 집합에서 정수 -> 단어를 얻음"
      ],
      "metadata": {
        "id": "U9HRXYrFqXkB"
      },
      "execution_count": 45,
      "outputs": []
    },
    {
      "cell_type": "code",
      "source": [
        "# 인코더 설계\n",
        "encoder_model = Model(inputs=encoder_inputs, outputs=[encoder_output3, state_h3, state_c3])\n",
        "\n",
        "# 이전 시점의 상태들을 저장하는 텐서\n",
        "decoder_state_input_h = Input(shape=(hidden_size,))\n",
        "decoder_state_input_c = Input(shape=(hidden_size,))\n",
        "\n",
        "dec_emb2_mask = dec_emb_layer(decoder_inputs)\n",
        "dec_emb2 = Lambda(lambda x: x)(dec_emb2_mask)\n",
        "# 문장의 다음 단어를 예측하기 위해서 초기 상태(initial_state)를 이전 시점의 상태로 사용. 이는 뒤의 함수 decode_sequence()에 구현\n",
        "# 훈련 과정에서와 달리 LSTM의 리턴하는 은닉 상태와 셀 상태인 state_h와 state_c를 버리지 않음.\n",
        "decoder_outputs2, state_h2, state_c2 = decoder_lstm(dec_emb2, initial_state=[decoder_state_input_h, decoder_state_input_c])\n",
        "\n",
        "print('=3')"
      ],
      "metadata": {
        "colab": {
          "base_uri": "https://localhost:8080/"
        },
        "id": "Lt82_ucVqcct",
        "outputId": "9bf71988-53da-443f-c682-14a0d8dce66f"
      },
      "execution_count": 46,
      "outputs": [
        {
          "output_type": "stream",
          "name": "stdout",
          "text": [
            "=3\n"
          ]
        },
        {
          "output_type": "stream",
          "name": "stderr",
          "text": [
            "/usr/local/lib/python3.11/dist-packages/keras/src/layers/layer.py:938: UserWarning: Layer 'lambda_3' (of type Lambda) was passed an input with a mask attached to it. However, this layer does not support masking and will therefore destroy the mask information. Downstream layers will not see the mask.\n",
            "  warnings.warn(\n"
          ]
        }
      ]
    },
    {
      "cell_type": "code",
      "source": [
        "# 어텐션 함수\n",
        "decoder_hidden_state_input = Input(shape=(text_max_len, hidden_size))\n",
        "attn_out_inf = attn_layer([decoder_outputs2, decoder_hidden_state_input])\n",
        "decoder_inf_concat = Concatenate(axis=-1, name='concat')([decoder_outputs2, attn_out_inf])\n",
        "\n",
        "# 디코더의 출력층\n",
        "decoder_layer_outputs_inf = decoder_layer(decoder_inf_concat)\n",
        "\n",
        "embedding_matrix_if = dec_emb_layer.embeddings\n",
        "logits_inf = Lambda(lambda x: tf.matmul(x, embedding_matrix_if, transpose_b=True),output_shape=())(decoder_layer_outputs_inf)  # (batch, time, vocab_size)\n",
        "decoder_softmax_outputs = Lambda(lambda x: tf.nn.softmax(x))(logits_inf)\n",
        "\n",
        "# 최종 디코더 모델\n",
        "decoder_model = Model(\n",
        "    [decoder_inputs] + [decoder_hidden_state_input,decoder_state_input_h, decoder_state_input_c],\n",
        "    [decoder_softmax_outputs] + [state_h2, state_c2])\n",
        "\n",
        "print('=3')"
      ],
      "metadata": {
        "colab": {
          "base_uri": "https://localhost:8080/"
        },
        "id": "RtcOnwTzUwyr",
        "outputId": "d313990a-1609-4469-f0f1-dc9ab1988962"
      },
      "execution_count": 47,
      "outputs": [
        {
          "output_type": "stream",
          "name": "stdout",
          "text": [
            "=3\n"
          ]
        }
      ]
    },
    {
      "cell_type": "code",
      "source": [
        "def extract_numbers(text):\n",
        "    numbers = re.findall(r'\\d+\\.?\\d*', text)\n",
        "    return [int(num) for num in numbers]\n",
        "\n",
        "def find_nearest_number(predicted_number, source_numbers):\n",
        "    predicted_number = int(predicted_number)\n",
        "    if not source_numbers:\n",
        "        return predicted_number\n",
        "    nearest = min(source_numbers, key=lambda x: abs(x - predicted_number))\n",
        "    return nearest\n",
        "\n",
        "def recover_numbers(decoded_sentence, source_text):\n",
        "    source_numbers = extract_numbers(source_text)\n",
        "    words = decoded_sentence.split()\n",
        "    recovered_words = []\n",
        "\n",
        "    for word in words:\n",
        "        if word.isdigit():\n",
        "            nearest_number = find_nearest_number(word, source_numbers)\n",
        "            recovered_words.append(str(nearest_number))\n",
        "        else:\n",
        "            recovered_words.append(word)\n",
        "\n",
        "    return ' '.join(recovered_words)"
      ],
      "metadata": {
        "id": "6b8AggGNOxW3"
      },
      "execution_count": 48,
      "outputs": []
    },
    {
      "cell_type": "code",
      "source": [
        "def decode_sequence(input_seq, input_sentence,beam_size=5, alpha=0.7):\n",
        "  # 입력으로부터 인코더의 상태를 얻음\n",
        "  e_out, e_h, e_c = encoder_model.predict(input_seq)\n",
        "  start_token = tar_word_to_index['sostoken']\n",
        "  end_token = tar_word_to_index['eostoken']\n",
        "\n",
        "    # <SOS>에 해당하는 토큰 생성\n",
        "  target_seq = np.zeros((1,1))\n",
        "  target_seq[0, 0] = tar_word_to_index['sostoken']\n",
        "\n",
        "  stop_condition = False\n",
        "  decoded_sentence = ''\n",
        "  while not stop_condition: # stop_condition이 True가 될 때까지 루프 반복\n",
        "\n",
        "    output_tokens, h, c = decoder_model.predict([target_seq] + [e_out, e_h, e_c])\n",
        "    sampled_token_index = np.argmax(output_tokens[0, -1, :])\n",
        "    if sampled_token_index == 0 :\n",
        "      stop_condition = True\n",
        "      break\n",
        "    sampled_token = tar_index_to_word[sampled_token_index]\n",
        "    if (sampled_token!='eostoken'):\n",
        "      decoded_sentence += ' '+sampled_token\n",
        "\n",
        "    #  <eos>에 도달하거나 최대 길이를 넘으면 중단.\n",
        "    if (sampled_token == 'eostoken'  or len(decoded_sentence.split()) >= (summary_max_len-1)):\n",
        "      stop_condition = True\n",
        "\n",
        "    # 길이가 1인 타겟 시퀀스를 업데이트\n",
        "    target_seq = np.zeros((1,1))\n",
        "    target_seq[0, 0] = sampled_token_index\n",
        "\n",
        "    # 상태를 업데이트 합니다.\n",
        "    e_h, e_c = h, c\n",
        "\n",
        "  decoded_sentence = recover_numbers(decoded_sentence, input_sentence)\n",
        "\n",
        "  return decoded_sentence\n",
        "print('=3')"
      ],
      "metadata": {
        "colab": {
          "base_uri": "https://localhost:8080/"
        },
        "id": "8CFLurulsavK",
        "outputId": "08298643-bf32-4f9b-8c81-5196a8d9c336"
      },
      "execution_count": 49,
      "outputs": [
        {
          "output_type": "stream",
          "name": "stdout",
          "text": [
            "=3\n"
          ]
        }
      ]
    },
    {
      "cell_type": "code",
      "source": [
        "from summa.summarizer import summarize\n",
        "\n",
        "def extractive_summary(text, word=summary_max_len-1):\n",
        "    try:\n",
        "        summary = summarize(text, words=word)\n",
        "        if not summary:\n",
        "            return 'extractive fail'\n",
        "        return summary\n",
        "    except:\n",
        "        return 'extractive fail'"
      ],
      "metadata": {
        "id": "YJl942izRs6q"
      },
      "execution_count": 50,
      "outputs": []
    },
    {
      "cell_type": "code",
      "source": [
        "def decode_sequence2(input_seq, input_sentence, raw_sentence,beam_size=5, alpha=0.6):\n",
        "  # 입력으로부터 인코더의 상태를 얻음\n",
        "  e_out, e_h, e_c = encoder_model.predict(input_seq)\n",
        "  start_token = tar_word_to_index['sostoken']\n",
        "  end_token = tar_word_to_index['eostoken']\n",
        "\n",
        "  # 초기 beam: [(시퀀스, 누적 log prob, (h, c))]\n",
        "  beams = [([start_token], 0.0, (e_h, e_c))]\n",
        "  stop_beams = []\n",
        "\n",
        "  while beams:\n",
        "    new_beams = []\n",
        "\n",
        "    for seq, score, (h, c) in beams:\n",
        "      target_seq = np.zeros((1,1))\n",
        "      target_seq[0,0] = seq[-1]\n",
        "\n",
        "      output_tokens, next_h, next_c = decoder_model.predict([target_seq] + [e_out, h, c],verbose=0)\n",
        "\n",
        "      # 상위 beam_size개 후보를 고른다\n",
        "      top_indices = output_tokens[0, -1, :].argsort()[-beam_size:][::-1]\n",
        "\n",
        "      for idx in top_indices:\n",
        "        token_prob = output_tokens[0, -1, idx]\n",
        "        token_log_prob = np.log(token_prob + 1e-9)\n",
        "        new_seq = seq + [idx]\n",
        "        new_score = score + token_log_prob\n",
        "\n",
        "        if idx == seq[-1]:\n",
        "          continue\n",
        "        if idx==0 or idx == end_token or len(new_seq) >= summary_max_len:\n",
        "          stop_beams.append((new_seq, new_score))\n",
        "        else:\n",
        "          new_beams.append((new_seq, new_score, (next_h, next_c)))\n",
        "\n",
        "    beams = sorted(new_beams, key=lambda x: x[1]/(len(x[0])**alpha), reverse=True)[:beam_size]\n",
        "\n",
        "  best_seq, best_score = sorted(stop_beams, key=lambda x: x[1]/(len(x[0])**alpha), reverse=True)[0]\n",
        "  decoded_sentence = ' '.join([tar_index_to_word[idx] for idx in best_seq if idx!=0 and idx != start_token and idx != end_token])\n",
        "  print(best_score)\n",
        "  decoded_sentence = recover_numbers(decoded_sentence, input_sentence)\n",
        "  print(\"추출 요약 :\",extractive_summary(raw_sentence))\n",
        "  return decoded_sentence\n",
        "print('=3')"
      ],
      "metadata": {
        "colab": {
          "base_uri": "https://localhost:8080/"
        },
        "id": "fmnLnEiubpp0",
        "outputId": "c69f182a-c5ea-41be-b884-4c2a1924de1e"
      },
      "execution_count": 51,
      "outputs": [
        {
          "output_type": "stream",
          "name": "stdout",
          "text": [
            "=3\n"
          ]
        }
      ]
    },
    {
      "cell_type": "code",
      "source": [
        "# 원문의 정수 시퀀스를 텍스트 시퀀스로 변환\n",
        "def seq2text(input_seq):\n",
        "    temp=''\n",
        "    for i in input_seq:\n",
        "        if (i!=0):\n",
        "            temp = temp + src_index_to_word[i]+' '\n",
        "    return temp\n",
        "\n",
        "# 요약문의 정수 시퀀스를 텍스트 시퀀스로 변환\n",
        "def seq2summary(input_seq):\n",
        "    temp=''\n",
        "    for i in input_seq:\n",
        "        if (i!=0) and (i!=1) and (i!=2):\n",
        "            temp = temp + tar_index_to_word[i]+' '\n",
        "    return temp\n",
        "\n",
        "print('=3')"
      ],
      "metadata": {
        "colab": {
          "base_uri": "https://localhost:8080/"
        },
        "id": "PAPlk5PSsmMV",
        "outputId": "f29181a6-38b1-48d1-e836-b60d76a70959"
      },
      "execution_count": 52,
      "outputs": [
        {
          "metadata": {
            "tags": null
          },
          "name": "stdout",
          "output_type": "stream",
          "text": [
            "=3\n"
          ]
        }
      ]
    },
    {
      "cell_type": "code",
      "source": [
        "def clean_for_summa(text):\n",
        "    text = re.sub(r'\\s+', ' ', text)  # 여러 공백 하나로\n",
        "    text = text.replace('\\n', ' ')    # 개행 제거\n",
        "    text = re.sub(r'[^\\w\\s\\.\\,\\?\\!\\(\\)]', '', text)  # 문자/공백/문장부호만 살림\n",
        "    return text.strip()"
      ],
      "metadata": {
        "id": "KtWzlP2hS2Gs"
      },
      "execution_count": 53,
      "outputs": []
    },
    {
      "cell_type": "code",
      "source": [
        "clean_summa=[]\n",
        "for i in summa_test:\n",
        "  clean_summa.append(clean_for_summa(i))"
      ],
      "metadata": {
        "id": "S_-QVIwYVNT_"
      },
      "execution_count": 54,
      "outputs": []
    },
    {
      "cell_type": "code",
      "source": [
        "clean_summa[3]"
      ],
      "metadata": {
        "colab": {
          "base_uri": "https://localhost:8080/",
          "height": 70
        },
        "id": "4fBn3cgAWeOP",
        "outputId": "b00b6581-d718-44e5-b39f-5c74a5e577a8"
      },
      "execution_count": null,
      "outputs": [
        {
          "output_type": "execute_result",
          "data": {
            "text/plain": [
              "'Amazon has become the first foreign ecommerce firm to start its own food retail venture in India called Amazon Retail, piloting its services in Pune. It will reportedly be available on Amazon India platform and sell locally made and packaged food to the consumers directly. Amazon also has Amazon Now app, which connects retailers with customers for sale of groceries.'"
            ],
            "application/vnd.google.colaboratory.intrinsic+json": {
              "type": "string"
            }
          },
          "metadata": {},
          "execution_count": 222
        }
      ]
    },
    {
      "cell_type": "code",
      "source": [
        "for i in range(50, 150):\n",
        "    print(\"원문 :\", seq2text(encoder_input_test[i]))\n",
        "    print(\"실제 요약 :\", seq2summary(decoder_input_test[i]))\n",
        "    print(\"예측 요약 :\", decode_sequence2(encoder_input_test[i].reshape(1, text_max_len),source_test[i],clean_summa[i]))\n",
        "    print(\"\\n\")"
      ],
      "metadata": {
        "colab": {
          "base_uri": "https://localhost:8080/"
        },
        "collapsed": true,
        "id": "V8Sa7EIOsnmL",
        "outputId": "6d2acf00-e80d-4ba6-8a80-45143feaeeb0"
      },
      "execution_count": 55,
      "outputs": [
        {
          "output_type": "stream",
          "name": "stdout",
          "text": [
            "원문 : uighur muslims xinjiang must upheld promote religious harmony senior chinese official said infiltration religious extremism must head ruling communist party united front work department ethnic religious affairs added refers non chinese societies forced chinese culture \n",
            "실제 요약 : of muslims must go on chinese official \n",
            "\u001b[1m1/1\u001b[0m \u001b[32m━━━━━━━━━━━━━━━━━━━━\u001b[0m\u001b[37m\u001b[0m \u001b[1m2s\u001b[0m 2s/step\n"
          ]
        },
        {
          "output_type": "stream",
          "name": "stderr",
          "text": [
            "/usr/local/lib/python3.11/dist-packages/keras/src/layers/layer.py:938: UserWarning: Layer 'lambda_4' (of type Lambda) was passed an input with a mask attached to it. However, this layer does not support masking and will therefore destroy the mask information. Downstream layers will not see the mask.\n",
            "  warnings.warn(\n"
          ]
        },
        {
          "output_type": "stream",
          "name": "stdout",
          "text": [
            "-8.152207\n",
            "추출 요약 : The sinicisation of Uighur Muslims in Xinjiang must be upheld to promote religious harmony, a senior Chinese official has said.\n",
            "예측 요약 : muslims must be allowed to promote religious extremism\n",
            "\n",
            "\n",
            "원문 : sri lankan cricket fan managed get past security disrupted india practice session take selfie ms dhoni fan reportedly first went rohit sharma mistaking dhoni pointed towards area dhoni practicing fan took selfie escorted area indian support staff \n",
            "실제 요약 : sl fan disrupts dhoni net session to take selfie with him \n",
            "\u001b[1m1/1\u001b[0m \u001b[32m━━━━━━━━━━━━━━━━━━━━\u001b[0m\u001b[37m\u001b[0m \u001b[1m0s\u001b[0m 117ms/step\n",
            "-9.340851\n",
            "추출 요약 : The fan reportedly first went to Rohit Sharma, mistaking him for Dhoni and was pointed towards the area where Dhoni was practicing.\n",
            "예측 요약 : sl fan gets past security halts selfie with dhoni fan\n",
            "\n",
            "\n",
            "원문 : dangal actress sanya malhotra made ramp walk debut lakm fashion week winter festive 2017 brand project sanya wore black skirt flower shirt featured doodle collection little heart designs collection inspired children stick figures \n",
            "실제 요약 : dangal actress sanya makes her debut at lakm fashion week \n",
            "\u001b[1m1/1\u001b[0m \u001b[32m━━━━━━━━━━━━━━━━━━━━\u001b[0m\u001b[37m\u001b[0m \u001b[1m0s\u001b[0m 119ms/step\n",
            "-4.486509\n",
            "추출 요약 : Sanya wore a black skirt with flower appliques and a shirt that featured doodle patchwork, from the collection The Little Heart.\n",
            "예측 요약 : dangal actress sanya made ramp walk at lakm fashion week\n",
            "\n",
            "\n",
            "원문 : supreme court friday deferred ayodhya land dispute case january 10 hearing lasted 60 seconds see arguments either side apex court decide upon setting bench hear petitions 2010 allahabad hc judgment regarding partition acre disputed land among three parties \n",
            "실제 요약 : in 60 second hearing sc ayodhya case to jan 10 \n",
            "\u001b[1m1/1\u001b[0m \u001b[32m━━━━━━━━━━━━━━━━━━━━\u001b[0m\u001b[37m\u001b[0m \u001b[1m0s\u001b[0m 120ms/step\n",
            "-4.954645\n",
            "추출 요약 : extractive fail\n",
            "예측 요약 : sc defers ayodhya dispute case against 60 seconds\n",
            "\n",
            "\n",
            "원문 : 26 year old man allegedly murdered second wife order live first wife delhi police said accused hid corpse bed residence reportedly planning escape nepal arrested thursday married women within 15 days police added \n",
            "실제 요약 : man kills second wife to live with first hides body in bed \n",
            "\u001b[1m1/1\u001b[0m \u001b[32m━━━━━━━━━━━━━━━━━━━━\u001b[0m\u001b[37m\u001b[0m \u001b[1m0s\u001b[0m 119ms/step\n",
            "-8.459127\n",
            "추출 요약 : A 26yearold man allegedly murdered his second wife in order to live with the first wife in Delhis Tughlakabad, police said.\n",
            "예측 요약 : man kills wife for live wife in delhi police\n",
            "\n",
            "\n",
            "원문 : delhi government monday directed delhi schools complete police verification non teaching staff within three weeks install cctv cameras premises comes amid increased concerns safety school children murder seven year old boy gurugram school alleged rape five year old girl delhi school \n",
            "실제 요약 : delhi govt asks schools to get staff within weeks \n",
            "\u001b[1m1/1\u001b[0m \u001b[32m━━━━━━━━━━━━━━━━━━━━\u001b[0m\u001b[37m\u001b[0m \u001b[1m0s\u001b[0m 122ms/step\n",
            "-5.861926\n",
            "추출 요약 : extractive fail\n",
            "예측 요약 : delhi schools ordered to complete cctv cameras\n",
            "\n",
            "\n",
            "원문 : letter cm yogi adityanath uttar pradesh shia central waqf board said gift 10 silver arrows proposed lord ram statue ayodhya token terming construction statue matter pride board chairman waseem rizvi said put uttar pradesh world map \n",
            "실제 요약 : shia board to gift 10 silver for ayodhya ram statue \n",
            "\u001b[1m1/1\u001b[0m \u001b[32m━━━━━━━━━━━━━━━━━━━━\u001b[0m\u001b[37m\u001b[0m \u001b[1m0s\u001b[0m 117ms/step\n",
            "-8.923823\n",
            "추출 요약 : extractive fail\n",
            "예측 요약 : gift for lord ram statue to be built up shia board\n",
            "\n",
            "\n",
            "원문 : amid diplomatic standoff india pakistan kulbhushan jadhav death sentence pakistan army violated ceasefire along loc monday jammu kashmir rajouri district indian troops responded strongly effectively unprovoked firing officials said meanwhile indian army foiled two infiltration bids across border past 24 hours \n",
            "실제 요약 : pak violates ceasefire in india \n",
            "\u001b[1m1/1\u001b[0m \u001b[32m━━━━━━━━━━━━━━━━━━━━\u001b[0m\u001b[37m\u001b[0m \u001b[1m0s\u001b[0m 121ms/step\n",
            "-8.205605\n",
            "추출 요약 : Meanwhile, the Indian army foiled two infiltration bids from across the border in the past 24 hours.\n",
            "예측 요약 : kulbhushan jadhav violates ceasefire in pakistan\n",
            "\n",
            "\n",
            "원문 : india largest telecom operator bharti airtel reportedly considering sale stake tower unit bharti infratel institutional share sale shares worth 350 million based tuesday closing price sale considered cut airtel debt stood crore end june \n",
            "실제 요약 : airtel considering sale of crore stake in tower unit \n",
            "\u001b[1m1/1\u001b[0m \u001b[32m━━━━━━━━━━━━━━━━━━━━\u001b[0m\u001b[37m\u001b[0m \u001b[1m0s\u001b[0m 118ms/step\n",
            "-9.106189\n",
            "추출 요약 : The sale is being considered to cut Airtels debt, which stood at ÃÂÂ¹87,840 crore at the end of June.\n",
            "예측 요약 : airtel may sell stake in unit to sell shares sale\n",
            "\n",
            "\n",
            "원문 : reliance industries chairman mukesh ambani address india mobile congress wednesday referred bharti airtel chairman sunil mittal good friend response mittal called ambani dear friend enhancing digital experience collaborative partnership friend mr mittal ambani said speech \n",
            "실제 요약 : mukesh ambani calls airtel sunil mittal good friend \n",
            "\u001b[1m1/1\u001b[0m \u001b[32m━━━━━━━━━━━━━━━━━━━━\u001b[0m\u001b[37m\u001b[0m \u001b[1m0s\u001b[0m 121ms/step\n",
            "-7.6611285\n",
            "추출 요약 : In response, Mittal too called Ambani a dear friend.\n",
            "예측 요약 : mukesh ambani to address india mobile friend\n",
            "\n",
            "\n",
            "원문 : black panther actor chadwick paid tribute marvel comics co creator stan lee video seen playing set way send home celebrate said post stan lee co created comic strip superhero black panther marvel comics 1966 \n",
            "실제 요약 : black panther star plays in tribute to stan lee \n",
            "\u001b[1m1/1\u001b[0m \u001b[32m━━━━━━━━━━━━━━━━━━━━\u001b[0m\u001b[37m\u001b[0m \u001b[1m0s\u001b[0m 119ms/step\n",
            "-1.6672624\n",
            "추출 요약 : extractive fail\n",
            "예측 요약 : black panther actor pays tribute to marvel stan lee\n",
            "\n",
            "\n",
            "원문 : picture egg become liked photo instagram 20 million likes beating previous record 18 million held kylie jenner picture daughter responding kylie shared video shows cracking egg road take little egg captioned video \n",
            "실제 요약 : pic of egg beats kylie jenner record of most liked instagram pic \n",
            "\u001b[1m1/1\u001b[0m \u001b[32m━━━━━━━━━━━━━━━━━━━━\u001b[0m\u001b[37m\u001b[0m \u001b[1m0s\u001b[0m 114ms/step\n",
            "-7.4158587\n",
            "추출 요약 : Responding to this, Kylie has shared a video which shows her cracking an egg on a road.\n",
            "예측 요약 : picture of egg picture becomes 20 million followers\n",
            "\n",
            "\n",
            "원문 : salman khan paid 44 crore become bollywood highest advance tax 201617 kapil sharma submitted advance tax 23 crore compared crore 201516 however income tax department declined give advance tax figures shah rukh khan amitabh bachchan aishwarya rai investigation panama papers case \n",
            "실제 요약 : salman pays 44 cr as bollywood highest advance tax \n",
            "\u001b[1m1/1\u001b[0m \u001b[32m━━━━━━━━━━━━━━━━━━━━\u001b[0m\u001b[37m\u001b[0m \u001b[1m0s\u001b[0m 120ms/step\n",
            "-9.201175\n",
            "추출 요약 : Salman Khan has paid ÃÂÂ¹44.5 crore to become Bollywoods highest advance tax payer for 201617.\n",
            "예측 요약 : salman khan paid cr to become bollywood tax in 201617\n",
            "\n",
            "\n",
            "원문 : ball girl side san diego took leaping catch baseball match minnesota twins wednesday twins escobar hit sinking drive right field line seated ball girl leapt took catch twins impressed ball girl catch \n",
            "실제 요약 : ball girl takes leaping catch in baseball game \n",
            "\u001b[1m1/1\u001b[0m \u001b[32m━━━━━━━━━━━━━━━━━━━━\u001b[0m\u001b[37m\u001b[0m \u001b[1m0s\u001b[0m 122ms/step\n",
            "-9.689029\n",
            "추출 요약 : extractive fail\n",
            "예측 요약 : ball takes leaping catch into baseball match\n",
            "\n",
            "\n",
            "원문 : snapdeal co founders rohit bansal kunal bahl pushing sale commerce startup smaller rival infibeam flipkart according report however snapdeal largest investor softbank continues push sale bigger rival flipkart report added infibeam reportedly offered buy snapdeal 700 million last week \n",
            "실제 요약 : snapdeal founders pushing for sale to infibeam not flipkart \n",
            "\u001b[1m1/1\u001b[0m \u001b[32m━━━━━━━━━━━━━━━━━━━━\u001b[0m\u001b[37m\u001b[0m \u001b[1m0s\u001b[0m 120ms/step\n",
            "-5.9637265\n",
            "추출 요약 : extractive fail\n",
            "예측 요약 : snapdeal founders pushing flipkart to buy flipkart reports\n",
            "\n",
            "\n",
            "원문 : department personnel training reportedly taken action civil servants including 24 indian administrative service officers non performance illegal activities around 124 officers prematurely retired government 21 deemed resigned department said strict measures send message bureaucrats either perform \n",
            "실제 요약 : civil servants punished for non performance \n",
            "\u001b[1m1/1\u001b[0m \u001b[32m━━━━━━━━━━━━━━━━━━━━\u001b[0m\u001b[37m\u001b[0m \u001b[1m0s\u001b[0m 120ms/step\n",
            "-8.376101\n",
            "추출 요약 : extractive fail\n",
            "예측 요약 : govt officers taken action against illegal servants\n",
            "\n",
            "\n",
            "원문 : haryana police arrested serial killer named sinha confessed killing seven eight people murdering victims recite kali mantra 108 times save cursed murdered people faridabad palwal kurukshetra punjab sinha said front reporters also admitted robberies per police \n",
            "실제 요약 : kali 108 times before murder man admits killing \n",
            "\u001b[1m1/1\u001b[0m \u001b[32m━━━━━━━━━━━━━━━━━━━━\u001b[0m\u001b[37m\u001b[0m \u001b[1m0s\u001b[0m 121ms/step\n",
            "-10.510637\n",
            "추출 요약 : The Haryana Police has arrested a serial killer named Jagtar Sinha, who confessed to killing seveneight people.\n",
            "예측 요약 : killer of killing victims killed in punjab\n",
            "\n",
            "\n",
            "원문 : 69 republic day parade thursday saw first ever india radio income tax department parade also saw women bsf biker squad performing 16 varieties stunts ministry external affairs showcased depicting india asean relations gujarat himachal pradesh assam punjab maharashtra states participated \n",
            "실제 요약 : in pictures 69 republic day parade \n",
            "\u001b[1m1/1\u001b[0m \u001b[32m━━━━━━━━━━━━━━━━━━━━\u001b[0m\u001b[37m\u001b[0m \u001b[1m0s\u001b[0m 119ms/step\n",
            "-8.144701\n",
            "추출 요약 : The 69th Republic Day parade on Thursday saw the firstever tableau by All India Radio and Income Tax Department.\n",
            "예측 요약 : 69 of india radio day parade in parade\n",
            "\n",
            "\n",
            "원문 : supreme court wednesday ordered mining companies odisha operating without environmental clearance pay 100 penalty price illegally extracted iron effect court directed setting expert panel identify lapses enabled illegal mining state \n",
            "실제 요약 : sc imposes 100 penalty on firms mining illegally in odisha \n",
            "\u001b[1m1/1\u001b[0m \u001b[32m━━━━━━━━━━━━━━━━━━━━\u001b[0m\u001b[37m\u001b[0m \u001b[1m0s\u001b[0m 125ms/step\n",
            "-5.8061337\n",
            "추출 요약 : extractive fail\n",
            "예측 요약 : sc orders mining firms in odisha to pay 100 crore\n",
            "\n",
            "\n",
            "원문 : nitin seth former chief operations officer flipkart sent legal notice commerce giant month fired startup seth believes illegally ousted hence decided take legal action flipkart reports said seth asked leave could fit flipkart work culture \n",
            "실제 요약 : ex coo nitin seth sends flipkart legal notice on his firing \n",
            "\u001b[1m1/1\u001b[0m \u001b[32m━━━━━━━━━━━━━━━━━━━━\u001b[0m\u001b[37m\u001b[0m \u001b[1m0s\u001b[0m 115ms/step\n",
            "-6.5707498\n",
            "추출 요약 : Seth believes that he was illegally ousted and hence decided to take legal action against Flipkart.\n",
            "예측 요약 : nitin seth sends legal notice to flipkart\n",
            "\n",
            "\n",
            "원문 : 57 year old man retired indian navy around nine years ago allegedly committed suicide friday jumping yamuna river delhi noida direct mentioned names people allegedly harassing unpaid loan suicide note \n",
            "실제 요약 : man commits suicide by jumping into yamuna after harassment \n",
            "\u001b[1m1/1\u001b[0m \u001b[32m━━━━━━━━━━━━━━━━━━━━\u001b[0m\u001b[37m\u001b[0m \u001b[1m0s\u001b[0m 118ms/step\n",
            "-8.737058\n",
            "추출 요약 : extractive fail\n",
            "예측 요약 : indian navy footballer commits suicide blames yamuna in noida\n",
            "\n",
            "\n",
            "원문 : understand dynamics electrical circuit created contacts another animal us based kenneth developed used arm experiment found electrical current delivered 4050 discovered leaping might help effectively target shock \n",
            "실제 요약 : dips hand into tank to measure electric shocks \n",
            "\u001b[1m1/1\u001b[0m \u001b[32m━━━━━━━━━━━━━━━━━━━━\u001b[0m\u001b[37m\u001b[0m \u001b[1m0s\u001b[0m 120ms/step\n",
            "-10.458532\n",
            "추출 요약 : Catania found the electrical current delivered by the eel peaked at 4050 milliamps.\n",
            "예측 요약 : us researchers create its first animal\n",
            "\n",
            "\n",
            "원문 : afghanistan ordered 20 day suspension instant messaging services whatsapp telegram resolve technical problems officials said far state owned salaam network internet provider obey order move backlash social media users describing assault right free speech \n",
            "실제 요약 : afghanistan orders 20 day suspension of whatsapp telegram \n",
            "\u001b[1m1/1\u001b[0m \u001b[32m━━━━━━━━━━━━━━━━━━━━\u001b[0m\u001b[37m\u001b[0m \u001b[1m0s\u001b[0m 123ms/step\n",
            "-5.036376\n",
            "추출 요약 : Afghanistan has ordered a 20day suspension of instant messaging services WhatsApp and Telegram to resolve technical problems, officials have said.\n",
            "예측 요약 : afghanistan orders 20 day suspension for whatsapp telegram\n",
            "\n",
            "\n",
            "원문 : belgian prime minister charles michel said mistake nation help vote saudi arabia onto un women rights committee arguing country respect gender equality michel told parliament last week vote came diplomat forced decision without proper consultations government \n",
            "실제 요약 : helping saudi get on un rights panel mistake belgian pm \n",
            "\u001b[1m1/1\u001b[0m \u001b[32m━━━━━━━━━━━━━━━━━━━━\u001b[0m\u001b[37m\u001b[0m \u001b[1m0s\u001b[0m 117ms/step\n",
            "-10.331104\n",
            "추출 요약 : extractive fail\n",
            "예측 요약 : mistake to nation to vote on saudi arabia\n",
            "\n",
            "\n",
            "원문 : tcs displaced accenture world largest pure play firm banking financial services insurance sector tcs got billion business sector july september period compared accenture billion june august period tcs ended september quarter billion revenue accenture ended 10 billion august quarter \n",
            "실제 요약 : tcs as largest it firm banks \n",
            "\u001b[1m1/1\u001b[0m \u001b[32m━━━━━━━━━━━━━━━━━━━━\u001b[0m\u001b[37m\u001b[0m \u001b[1m0s\u001b[0m 117ms/step\n",
            "-12.6659\n",
            "추출 요약 : TCS ended September quarter with 5.21 billion in revenue while Accenture ended with 10.1 billion in August quarter.\n",
            "예측 요약 : tcs gets billion in cash at financial services\n",
            "\n",
            "\n",
            "원문 : vote cast pm candidate imran khan elections pakistan might cancelled tv channel filmed casting vote election commission going examine video violates rules secrecy ballot pakistan tehreek insaf party leader faces months jail pakistani rupee 1000 fine violating ballot secrecy \n",
            "실제 요약 : pak pm candidate imran vote may be cancelled over voting video \n",
            "\u001b[1m1/1\u001b[0m \u001b[32m━━━━━━━━━━━━━━━━━━━━\u001b[0m\u001b[37m\u001b[0m \u001b[1m0s\u001b[0m 135ms/step\n",
            "-11.590146\n",
            "추출 요약 : The Election Commission is going to examine if the video violates rules on the secrecy of ballot.\n",
            "예측 요약 : pak refuses to cancel tv channel after election vote\n",
            "\n",
            "\n",
            "원문 : rr sanju samson pulled diving catch dismiss mi hardik pandya ipl 2018 sunday pandya ben stokes delivery towards deep midwicket samson put full length dive covering considerable distance catch samson tumbled ground managed hold ball \n",
            "실제 요약 : sanju samson to his right to pull off diving catch \n",
            "\u001b[1m1/1\u001b[0m \u001b[32m━━━━━━━━━━━━━━━━━━━━\u001b[0m\u001b[37m\u001b[0m \u001b[1m0s\u001b[0m 113ms/step\n",
            "-5.6047835\n",
            "추출 요약 : RRs Sanju Samson pulled off a diving catch to dismiss MIs Hardik Pandya in the IPL 2018 on Sunday.\n",
            "예측 요약 : samson pulls off diving catch to dismiss pandya\n",
            "\n",
            "\n",
            "원문 : paying tribute former president dr apj abdul kalam third death anniversary friday twitter user wrote cannot scale contributions field science millions minds teachings thoughts another user wrote user said still inspiration many people india around world \n",
            "실제 요약 : twitter pays tribute to dr kalam on death anniversary \n",
            "\u001b[1m1/1\u001b[0m \u001b[32m━━━━━━━━━━━━━━━━━━━━\u001b[0m\u001b[37m\u001b[0m \u001b[1m0s\u001b[0m 124ms/step\n",
            "-3.5888474\n",
            "추출 요약 : He has ignited millions of minds with his teachings and thoughts, another user wrote.\n",
            "예측 요약 : twitter users pay tribute to abdul kalam death anniversary\n",
            "\n",
            "\n",
            "원문 : taiwan based brand released collection sheet masks resemble different emojis emoji matched focus instance covered emoji treats sensitivity meanwhile printed sunglasses emoji packed \n",
            "실제 요약 : taiwan based brand makes emoji \n",
            "\u001b[1m1/1\u001b[0m \u001b[32m━━━━━━━━━━━━━━━━━━━━\u001b[0m\u001b[37m\u001b[0m \u001b[1m0s\u001b[0m 118ms/step\n",
            "-8.192936\n",
            "추출 요약 : The Chilling Masque, meanwhile, is printed with the sunglasses emoji, and it is packed with cucumber and aloe.\n",
            "예측 요약 : taiwan based on display\n",
            "\n",
            "\n",
            "원문 : late apple co founder steve jobs sports car may sell 400000 auction united states according reports bmw convertible car go auction december production date april 2000 reports added oracle ceo larry ellison jobs buy car \n",
            "실제 요약 : steve jobs car may sell for up to crore at an auction \n",
            "\u001b[1m1/1\u001b[0m \u001b[32m━━━━━━━━━━━━━━━━━━━━\u001b[0m\u001b[37m\u001b[0m \u001b[1m0s\u001b[0m 119ms/step\n",
            "-7.1874614\n",
            "추출 요약 : extractive fail\n",
            "예측 요약 : apple co founder steve jobs may sell crore in us report\n",
            "\n",
            "\n",
            "원문 : former apple ceo john said upcoming iphone better battery increasing number features phone battery life becomes big issue said features expected iphone led screens wireless charging also praised apple current ceo tim cook calling company extremely well led \n",
            "실제 요약 : battery life of iphone becomes big issue says ex apple ceo \n",
            "\u001b[1m1/1\u001b[0m \u001b[32m━━━━━━━━━━━━━━━━━━━━\u001b[0m\u001b[37m\u001b[0m \u001b[1m0s\u001b[0m 118ms/step\n",
            "-7.03728\n",
            "추출 요약 : extractive fail\n",
            "예측 요약 : iphone battery more than battery than life ex apple ceo\n",
            "\n",
            "\n",
            "원문 : students class 100 haryana government schools carry bags books school every day july part government learning programme arrangements made schools keeping students books take home 15 days show parents \n",
            "실제 요약 : class students in haryana need not carry bags books \n",
            "\u001b[1m1/1\u001b[0m \u001b[32m━━━━━━━━━━━━━━━━━━━━\u001b[0m\u001b[37m\u001b[0m \u001b[1m0s\u001b[0m 123ms/step\n",
            "-7.0678573\n",
            "추출 요약 : extractive fail\n",
            "예측 요약 : students to carry bags books on school every day\n",
            "\n",
            "\n",
            "원문 : us based retail giant walmart proposed deal indian commerce firm flipkart reportedly include provision set chain retail stores across country earlier reports also suggested walmart might invest 10 billion substantial stake flipkart 20 billion valuation comes rival amazon launched food retail service india \n",
            "실제 요약 : walmart flipkart deal will include retail chain report \n",
            "\u001b[1m1/1\u001b[0m \u001b[32m━━━━━━━━━━━━━━━━━━━━\u001b[0m\u001b[37m\u001b[0m \u001b[1m0s\u001b[0m 118ms/step\n",
            "-6.0109663\n",
            "추출 요약 : extractive fail\n",
            "예측 요약 : walmart may buy flipkart stake in flipkart report\n",
            "\n",
            "\n",
            "원문 : president ram nath kovind wednesday approved imposition governor rule jammu kashmir immediate effect comes bjp pulled alliance pdp state tuesday bjp general secretary ram madhav cited rising violence discrimination people belonging jammu reasons end alliance \n",
            "실제 요약 : president approves governor rule in with immediate effect \n",
            "\u001b[1m1/1\u001b[0m \u001b[32m━━━━━━━━━━━━━━━━━━━━\u001b[0m\u001b[37m\u001b[0m \u001b[1m0s\u001b[0m 117ms/step\n",
            "-5.086824\n",
            "추출 요약 : BJP General Secretary Ram Madhav had cited rising violence and discrimination against people belonging to Jammu as reasons to end the alliance.\n",
            "예측 요약 : prez kovind approves governor rule in jammu kashmir\n",
            "\n",
            "\n",
            "원문 : us president donald trump said japan shoot north korea missiles sky purchases enough arms us calling north korea threat world trump added japan shot missiles fired territory buying arms would boost us economy japan security \n",
            "실제 요약 : japan can shoot down korea missiles with us arms trump \n",
            "\u001b[1m1/1\u001b[0m \u001b[32m━━━━━━━━━━━━━━━━━━━━\u001b[0m\u001b[37m\u001b[0m \u001b[1m0s\u001b[0m 129ms/step\n",
            "-11.785293\n",
            "추출 요약 : extractive fail\n",
            "예측 요약 : japan shoot out of north korea missiles trump\n",
            "\n",
            "\n",
            "원문 : actor jake reportedly playing role villain upcoming sequel superhero film spider man homecoming jake considered play villain co created stan lee steve previously considered role spider man actor injured back filming spider man spider man \n",
            "실제 요약 : to play villain in new spider man film reports \n",
            "\u001b[1m1/1\u001b[0m \u001b[32m━━━━━━━━━━━━━━━━━━━━\u001b[0m\u001b[37m\u001b[0m \u001b[1m0s\u001b[0m 119ms/step\n",
            "-4.053788\n",
            "추출 요약 : Actor Jake Gyllenhaal will reportedly be playing the role of a villain in the upcoming sequel of superhero film SpiderMan Homecoming.\n",
            "예측 요약 : actor to play villain in spider man sequel\n",
            "\n",
            "\n",
            "원문 : world richest woman heiress cosmetics giant died age 94 topped list world richest women second year row 2017 estimated net worth 39 billion daughter fran said statement mother left peacefully \n",
            "실제 요약 : world richest woman dies aged 94 \n",
            "\u001b[1m1/1\u001b[0m \u001b[32m━━━━━━━━━━━━━━━━━━━━\u001b[0m\u001b[37m\u001b[0m \u001b[1m0s\u001b[0m 116ms/step\n",
            "-3.7427902\n",
            "추출 요약 : Worlds richest woman and the heiress of cosmetics giant LOreal, Liliane Bettencourt, has died at the age of 94.\n",
            "예측 요약 : world richest woman dies aged 94\n",
            "\n",
            "\n",
            "원문 : prime minister narendra modi thursday paid homage father indian constitution dr br ambedkar 62 death anniversary ambedkar popularly known babasaheb ambedkar economist politician social campaigned social discrimination dalits women labourers india babasaheb ambedkar diwas pm tweeted \n",
            "실제 요약 : pm pays to br ambedkar on his 62 death anniversary \n",
            "\u001b[1m1/1\u001b[0m \u001b[32m━━━━━━━━━━━━━━━━━━━━\u001b[0m\u001b[37m\u001b[0m \u001b[1m0s\u001b[0m 124ms/step\n",
            "-5.567501\n",
            "추출 요약 : India bows to Babasaheb Ambedkar on Mahaparinirvan Diwas, PM tweeted.\n",
            "예측 요약 : pm modi pays to father of indian constitution\n",
            "\n",
            "\n",
            "원문 : world number one rafael nadal clinched third us open title sunday taking tally grand slam titles 16 nadal defeated first time grand slam kevin anderson 63 63 64 clinch title nadal also french open june two grand slam titles year four times \n",
            "실제 요약 : world number one rafael nadal wins his third us open title \n",
            "\u001b[1m1/1\u001b[0m \u001b[32m━━━━━━━━━━━━━━━━━━━━\u001b[0m\u001b[37m\u001b[0m \u001b[1m0s\u001b[0m 117ms/step\n",
            "-10.676569\n",
            "추출 요약 : World number one Rafael Nadal clinched his third US Open title on Sunday, taking his tally of Grand Slam titles to 16.\n",
            "예측 요약 : nadal wins us open title after winning grand slam title\n",
            "\n",
            "\n",
            "원문 : google spinoff waymo tuesday admitted self driving car driver blame crash last month according waymo test driver self driving car took control vehicle moments accident car would slowed avoided collision left devices company added \n",
            "실제 요약 : waymo blames driver in self driving car crash with biker \n",
            "\u001b[1m1/1\u001b[0m \u001b[32m━━━━━━━━━━━━━━━━━━━━\u001b[0m\u001b[37m\u001b[0m \u001b[1m0s\u001b[0m 127ms/step\n",
            "-5.2372565\n",
            "추출 요약 : According to Waymo, the test driver of the selfdriving car took control of the vehicle moments before the accident.\n",
            "예측 요약 : waymo admits self driving car driver to blame crash\n",
            "\n",
            "\n",
            "원문 : 80 135 solar functioning pm narendra modi adopted village uttar pradesh batteries stolen last one year village head said lodged fir last year action taken lights installed 2015 companies corporate social responsibility \n",
            "실제 요약 : solar batteries stolen in pm adopted village \n",
            "\u001b[1m1/1\u001b[0m \u001b[32m━━━━━━━━━━━━━━━━━━━━\u001b[0m\u001b[37m\u001b[0m \u001b[1m0s\u001b[0m 115ms/step\n",
            "-7.528678\n",
            "추출 요약 : extractive fail\n",
            "예측 요약 : 80 of nirav modi adopted village stolen in uttar pradesh\n",
            "\n",
            "\n",
            "원문 : us state department monday designated 2611 mumbai terror attack mastermind hafiz saeed political party milli muslim league foreign terrorist organisation also designated seven members foreign terrorists acting behalf lashkar taiba pakistan islamabad high court recently given permission register political party \n",
            "실제 요약 : us hafiz saeed party as terrorist organisation \n",
            "\u001b[1m1/1\u001b[0m \u001b[32m━━━━━━━━━━━━━━━━━━━━\u001b[0m\u001b[37m\u001b[0m \u001b[1m0s\u001b[0m 118ms/step\n",
            "-7.6813226\n",
            "추출 요약 : extractive fail\n",
            "예측 요약 : hafiz saeed party in hafiz saeed political party\n",
            "\n",
            "\n",
            "원문 : filmmaker christopher nolan revealed watched oscar winning film la la land thrice added think almost went back see good thought notably emma stone ryan gosling starrer la la land six oscar awards received record fourteen oscar nominations \n",
            "실제 요약 : christopher reveals he watched la la land thrice \n",
            "\u001b[1m1/1\u001b[0m \u001b[32m━━━━━━━━━━━━━━━━━━━━\u001b[0m\u001b[37m\u001b[0m \u001b[1m0s\u001b[0m 125ms/step\n",
            "-9.650354\n",
            "추출 요약 : Filmmaker Christopher Nolan has revealed that he watched the Oscarwinning film La La Land thrice.\n",
            "예측 요약 : watched my oscar winning film thrice short century\n",
            "\n",
            "\n",
            "원문 : actress deepika padukone speaking featuring top forbes 2018 list highest earning indian celebrities said received email informing thought prank breaking top something proud said deepika first woman enter top list \n",
            "실제 요약 : thought it was prank deepika on featuring in highest earning list \n",
            "\u001b[1m1/1\u001b[0m \u001b[32m━━━━━━━━━━━━━━━━━━━━\u001b[0m\u001b[37m\u001b[0m \u001b[1m0s\u001b[0m 122ms/step\n",
            "-8.673063\n",
            "추출 요약 : extractive fail\n",
            "예측 요약 : have got email deepika on forbes highest forbes list\n",
            "\n",
            "\n",
            "원문 : maharashtra government decided make milk non bailable offence punishment three years jail currently bailable offence provision imprisonment six months four mobile vans testing milk tests conducted regularly state minister girish said \n",
            "실제 요약 : maharashtra to make milk non bailable offence \n",
            "\u001b[1m1/1\u001b[0m \u001b[32m━━━━━━━━━━━━━━━━━━━━\u001b[0m\u001b[37m\u001b[0m \u001b[1m0s\u001b[0m 124ms/step\n",
            "-2.916251\n",
            "추출 요약 : The Maharashtra government has decided to make milk adulteration a nonbailable offence, with a punishment of up to three years in jail.\n",
            "예측 요약 : maharashtra to make milk non bailable offence for years\n",
            "\n",
            "\n",
            "원문 : indian shooter sidhu set cwg record win gold women 25 pistol tuesday said score 38 good enough olympic final sidhu first major gold 25 pistol second medal gold coast games silver women 10 air pistol \n",
            "실제 요약 : my score was good enough for any olympic final sidhu \n",
            "\u001b[1m1/1\u001b[0m \u001b[32m━━━━━━━━━━━━━━━━━━━━\u001b[0m\u001b[37m\u001b[0m \u001b[1m0s\u001b[0m 122ms/step\n",
            "-7.1352696\n",
            "추출 요약 : extractive fail\n",
            "예측 요약 : sidhu sets cwg record gold to win gold\n",
            "\n",
            "\n",
            "원문 : former pakistan captain wasim akram wife shared video bride entering mehndi venue inside cake akram tweeted love diabetic remember never told thing got married tweeted sugar free cakes available user tweeted \n",
            "실제 요약 : love am remember wasim akram to wife over cake tweet \n",
            "\u001b[1m1/1\u001b[0m \u001b[32m━━━━━━━━━━━━━━━━━━━━\u001b[0m\u001b[37m\u001b[0m \u001b[1m0s\u001b[0m 120ms/step\n",
            "-8.876699\n",
            "추출 요약 : Shaniera Bhabhi, Sugar free cakes are available too, a user tweeted.\n",
            "예측 요약 : wasim akram shares video of bride at his wedding venue\n",
            "\n",
            "\n",
            "원문 : filmmaker karan johar talking childhood days said used dance girls songs friends used make fun upset went teacher age 13 said want change way talk fine added \n",
            "실제 요약 : friends mocked me as used to dance on girls songs johar \n",
            "\u001b[1m1/1\u001b[0m \u001b[32m━━━━━━━━━━━━━━━━━━━━\u001b[0m\u001b[37m\u001b[0m \u001b[1m0s\u001b[0m 113ms/step\n",
            "-9.913438\n",
            "추출 요약 : extractive fail\n",
            "예측 요약 : was used to dance girls songs with my songs karan johar\n",
            "\n",
            "\n",
            "원문 : actor turned politician jaya bachchan samajwadi party candidate upcoming rajya sabha elections according reports jaya bachchan consistently loyal samajwadi party system rajya sabha mp former party leader amar singh said 2012 jaya bachchan elected third term rajya sabha member sp ticket \n",
            "실제 요약 : jaya bachchan to be sp candidate for rs polls reports \n",
            "\u001b[1m1/1\u001b[0m \u001b[32m━━━━━━━━━━━━━━━━━━━━\u001b[0m\u001b[37m\u001b[0m \u001b[1m0s\u001b[0m 126ms/step\n",
            "-4.9072485\n",
            "추출 요약 : Actorturnedpolitician Jaya Bachchan will be the Samajwadi PartyÃÂÂs candidate for the upcoming Rajya Sabha elections, according to reports.\n",
            "예측 요약 : jaya bachchan party candidate from rajya sabha elections\n",
            "\n",
            "\n",
            "원문 : first known appointment since forced resign uber ceo last june travis kalanick joining board friend medical office software startup called company based california raised 125 million venture capital uber co founder helped pick successor dara khosrowshahi august 2017 \n",
            "실제 요약 : ousted uber ceo travis kalanick joins health startup board \n",
            "\u001b[1m1/1\u001b[0m \u001b[32m━━━━━━━━━━━━━━━━━━━━\u001b[0m\u001b[37m\u001b[0m \u001b[1m0s\u001b[0m 121ms/step\n",
            "-9.214288\n",
            "추출 요약 : extractive fail\n",
            "예측 요약 : who was forced to resign as uber ceo\n",
            "\n",
            "\n",
            "원문 : aimim chief asaduddin owaisi slammed government delaying trial 1992 babri masjid demolition case calling serious mahatma gandhi assassination babri accused made union ministers conferred padma vibhushan said tweet comes supreme court allowed trial bjp leaders criminal conspiracy case \n",
            "실제 요약 : babri demolition more serious than gandhi killing owaisi \n",
            "\u001b[1m1/1\u001b[0m \u001b[32m━━━━━━━━━━━━━━━━━━━━\u001b[0m\u001b[37m\u001b[0m \u001b[1m0s\u001b[0m 118ms/step\n",
            "-5.484041\n",
            "추출 요약 : extractive fail\n",
            "예측 요약 : owaisi slams govt for delay in babri masjid case\n",
            "\n",
            "\n",
            "원문 : asked whether reservation end larger interest nation union minister ramdas athawale replied end rampant casteism prevalent society ready reservation added supports reservation upper castes economically weaker believes inter caste marriages need promoted \n",
            "실제 요약 : end and we will reservation union minister \n",
            "\u001b[1m1/1\u001b[0m \u001b[32m━━━━━━━━━━━━━━━━━━━━\u001b[0m\u001b[37m\u001b[0m \u001b[1m0s\u001b[0m 120ms/step\n",
            "-5.2940836\n",
            "추출 요약 : extractive fail\n",
            "예측 요약 : india is ready for reservation union minister\n",
            "\n",
            "\n",
            "원문 : swedish skier killed thursday avalanche hit ski resort another swedish national rescued alive adding issued avalanche warnings area till thursday evening police said clear tourists allowed ski warning force \n",
            "실제 요약 : swedish skier killed during avalanche in kashmir \n",
            "\u001b[1m1/1\u001b[0m \u001b[32m━━━━━━━━━━━━━━━━━━━━\u001b[0m\u001b[37m\u001b[0m \u001b[1m0s\u001b[0m 117ms/step\n",
            "-5.07337\n",
            "추출 요약 : extractive fail\n",
            "예측 요약 : swedish skier dies after avalanche hits resort\n",
            "\n",
            "\n",
            "원문 : taking dig us president donald trump german foreign minister said learn certain us decisions via twitter adding change cooperation countries said us citizens also rely twitter learn white house decisions \n",
            "실제 요약 : we learn of us decisions via twitter germany \n",
            "\u001b[1m1/1\u001b[0m \u001b[32m━━━━━━━━━━━━━━━━━━━━\u001b[0m\u001b[37m\u001b[0m \u001b[1m0s\u001b[0m 119ms/step\n",
            "-9.644886\n",
            "추출 요약 : extractive fail\n",
            "예측 요약 : do not learn from us decisions eu foreign minister\n",
            "\n",
            "\n",
            "원문 : actress ashley sexual harassment claim rape accused hollywood producer harvey weinstein dismissed district judge los angeles us lawsuit filed 2018 accused producer defaming turned alleged sexual advances judge ruling stated actress could proceed defamation claim weinstein \n",
            "실제 요약 : actress sexual harassment claim against weinstein dismissed \n",
            "\u001b[1m1/1\u001b[0m \u001b[32m━━━━━━━━━━━━━━━━━━━━\u001b[0m\u001b[37m\u001b[0m \u001b[1m0s\u001b[0m 121ms/step\n",
            "-9.186688\n",
            "추출 요약 : Actress Ashley Judds sexual harassment claim against rapeaccused Hollywood producer Harvey Weinstein was dismissed by a district judge in Los Angeles, US.\n",
            "예측 요약 : actress accuses weinstein of sexual harassment claim\n",
            "\n",
            "\n",
            "원문 : leader gang mumbai 13 cases robbing train passengers city sentenced three years jail arrested december last year stealing phone worth 43000 members gang included four minors disappeared arrest \n",
            "실제 요약 : gang leader jailed for robbing train passengers \n",
            "\u001b[1m1/1\u001b[0m \u001b[32m━━━━━━━━━━━━━━━━━━━━\u001b[0m\u001b[37m\u001b[0m \u001b[1m0s\u001b[0m 120ms/step\n",
            "-8.59936\n",
            "추출 요약 : Other members of the gang included four minors who disappeared after his arrest.\n",
            "예측 요약 : mumbai gang arrested for robbing train\n",
            "\n",
            "\n",
            "원문 : grammy award winning singer cancelled scheduled concert israel amid calls activists boycott israel protest treatment palestinians calling decision regrettable israel ambassador new zealand said boycott country represented hostility intolerance \n",
            "실제 요약 : cancels israel concert over treatment of palestinians \n",
            "\u001b[1m1/1\u001b[0m \u001b[32m━━━━━━━━━━━━━━━━━━━━\u001b[0m\u001b[37m\u001b[0m \u001b[1m0s\u001b[0m 119ms/step\n",
            "-6.1461163\n",
            "추출 요약 : extractive fail\n",
            "예측 요약 : cancels concert after protest against israel\n",
            "\n",
            "\n",
            "원문 : north korean leader kim jong un invited us president donald trump meeting trump expressed dialogue accepted invitation scheduled meet jong un first time ever may year north korea recently offered denuclearise guarantee security military threats us \n",
            "실제 요약 : donald trump to meet kim jong un for time by may \n",
            "\u001b[1m1/1\u001b[0m \u001b[32m━━━━━━━━━━━━━━━━━━━━\u001b[0m\u001b[37m\u001b[0m \u001b[1m0s\u001b[0m 125ms/step\n",
            "-6.778784\n",
            "추출 요약 : North Korean leader Kim Jongun has invited US President Donald Trump for a meeting.\n",
            "예측 요약 : kim jong un invites trump to meet trump\n",
            "\n",
            "\n",
            "원문 : iraq tuesday launched air strikes islamic state syria iraqi military said ten militants killed strikes targeted two buildings housing terrorists weapons iraq carrying air strikes isis syria approval syrian president bashar al assad us led coalition fighting militant group \n",
            "실제 요약 : iraq launches air strikes against isis in syria \n",
            "\u001b[1m1/1\u001b[0m \u001b[32m━━━━━━━━━━━━━━━━━━━━\u001b[0m\u001b[37m\u001b[0m \u001b[1m0s\u001b[0m 120ms/step\n",
            "-6.455379\n",
            "추출 요약 : extractive fail\n",
            "예측 요약 : iraq launches air strikes against isis in iraq\n",
            "\n",
            "\n",
            "원문 : least two people killed three others injured bridge collapsed dehradun district uttarakhand friday one two bike borne men fell river metal bridge collapsed meanwhile state disaster response force carrying search rescue operation \n",
            "실제 요약 : killed injured after bridge collapses in dehradun \n",
            "\u001b[1m1/1\u001b[0m \u001b[32m━━━━━━━━━━━━━━━━━━━━\u001b[0m\u001b[37m\u001b[0m \u001b[1m0s\u001b[0m 126ms/step\n",
            "-2.4215722\n",
            "추출 요약 : At least two people were killed and three others were injured after a bridge collapsed in Dehradun district of Uttarakhand on Friday.\n",
            "예측 요약 : killed injured as bridge collapses in uttarakhand\n",
            "\n",
            "\n",
            "원문 : actress ileana cruz took instagram deny rumours pregnant boyfriend andrew child uploading picture ileana wrote photo caption earlier fans speculated ileana pregnant andrew uploaded photo caption sweet time alone kind \n",
            "실제 요약 : ileana denies rumours of pregnancy \n",
            "\u001b[1m1/1\u001b[0m \u001b[32m━━━━━━━━━━━━━━━━━━━━\u001b[0m\u001b[37m\u001b[0m \u001b[1m0s\u001b[0m 122ms/step\n",
            "-3.3524404\n",
            "추출 요약 : extractive fail\n",
            "예측 요약 : ileana denies rumours of pregnancy with boyfriend\n",
            "\n",
            "\n",
            "원문 : former pakistan captain shahid afridi hit ball stadium playing afghanistan premier league 38 year old pakistan batsman smashed kabul bowler muslim musa fine leg fence afridi 19 ball 30 included three fours six helping side reach tournament semi final stage \n",
            "실제 요약 : afridi hits ball out of ground in afghanistan premier league \n",
            "\u001b[1m1/1\u001b[0m \u001b[32m━━━━━━━━━━━━━━━━━━━━\u001b[0m\u001b[37m\u001b[0m \u001b[1m0s\u001b[0m 120ms/step\n",
            "-11.00767\n",
            "추출 요약 : extractive fail\n",
            "예측 요약 : afridi smashes ball to ball in afghanistan\n",
            "\n",
            "\n",
            "원문 : bengaluru based mobile app platform founded three former flipkart executives raised 27 crore funding round led ventures existing investors idg ventures india partners also participated round founded 2015 startup counts ola paytm among clients \n",
            "실제 요약 : ex flipkart executives startup raises 27 crore \n",
            "\u001b[1m1/1\u001b[0m \u001b[32m━━━━━━━━━━━━━━━━━━━━\u001b[0m\u001b[37m\u001b[0m \u001b[1m0s\u001b[0m 122ms/step\n",
            "-3.2901242\n",
            "추출 요약 : extractive fail\n",
            "예측 요약 : mobile app startup raises 27 crore\n",
            "\n",
            "\n",
            "원문 : ghafoor chhota bada nepal several code words used dry state bihar get liquor one choice illegal alcohol traders district sp singh said arrest illegal suppliers also revealed demand home delivery one litre milk meant customer ordered large liquor bottle \n",
            "실제 요약 : nepal code words to get liquor in dry bihar \n",
            "\u001b[1m1/1\u001b[0m \u001b[32m━━━━━━━━━━━━━━━━━━━━\u001b[0m\u001b[37m\u001b[0m \u001b[1m0s\u001b[0m 123ms/step\n",
            "-12.205321\n",
            "추출 요약 : extractive fail\n",
            "예측 요약 : man who used in nepal to get liquor ban\n",
            "\n",
            "\n",
            "원문 : andhra pradesh government announced plans convert 29000 fair price shops across state mini malls offering subsidised grains along 500 grocery items fast moving consumer goods initiative aimed improving rural population lifestyle providing access high quality grocery products commissioner civil supplies said \n",
            "실제 요약 : andhra to convert fair price shops into village malls \n",
            "\u001b[1m1/1\u001b[0m \u001b[32m━━━━━━━━━━━━━━━━━━━━\u001b[0m\u001b[37m\u001b[0m \u001b[1m0s\u001b[0m 130ms/step\n",
            "-7.5268726\n",
            "추출 요약 : extractive fail\n",
            "예측 요약 : andhra govt plans to convert discount on price shops\n",
            "\n",
            "\n",
            "원문 : floating post offices set ganga yamuna rivers kumbh mela allahabad next year allow people turn photos selfies postal stamps interested people required fill submit form 300 photograph turned postal stamp denomination \n",
            "실제 요약 : floating post offices at kumbh to make stamps using selfies \n",
            "\u001b[1m1/1\u001b[0m \u001b[32m━━━━━━━━━━━━━━━━━━━━\u001b[0m\u001b[37m\u001b[0m \u001b[1m0s\u001b[0m 115ms/step\n",
            "-13.901499\n",
            "추출 요약 : extractive fail\n",
            "예측 요약 : floating post to set up in ganga for kumbh mela\n",
            "\n",
            "\n",
            "원문 : german midfielder mesut zil retired international football racism slammed german football federation president saying german win immigrant lose german turkish born educated germany people accept german statement read \n",
            "실제 요약 : am german when we win an immigrant when we lose zil \n",
            "\u001b[1m1/1\u001b[0m \u001b[32m━━━━━━━━━━━━━━━━━━━━\u001b[0m\u001b[37m\u001b[0m \u001b[1m0s\u001b[0m 121ms/step\n",
            "-8.191648\n",
            "추출 요약 : extractive fail\n",
            "예측 요약 : german footballer zil retires from german football\n",
            "\n",
            "\n",
            "원문 : us government friday said fully implemented president donald trump travel ban citizens six muslim majority countries along north korea venezuela comes us supreme court allowed ban full enforcement adding restrictions intended permanent government said ban could lifted countries ensure americans safety \n",
            "실제 요약 : us fully trump travel ban after sc ruling \n",
            "\u001b[1m1/1\u001b[0m \u001b[32m━━━━━━━━━━━━━━━━━━━━\u001b[0m\u001b[37m\u001b[0m \u001b[1m0s\u001b[0m 123ms/step\n",
            "-6.4519825\n",
            "추출 요약 : Adding that the restrictions arent intended to be permanent, the government said the ban could be lifted if countries ensure Americans safety.\n",
            "예측 요약 : trump travel ban on citizens including muslim countries us\n",
            "\n",
            "\n",
            "원문 : google owned video sharing platform youtube announced require creators least 1000 subscribers 4000 hours annual viewing time monetise videos comes youtuber logan paul published video showing dead body suicide victim new eligibility policy existing channels effective february 20 \n",
            "실제 요약 : youtube channels now need over 1000 to \n",
            "\u001b[1m1/1\u001b[0m \u001b[32m━━━━━━━━━━━━━━━━━━━━\u001b[0m\u001b[37m\u001b[0m \u001b[1m0s\u001b[0m 119ms/step\n",
            "-9.822327\n",
            "추출 요약 : extractive fail\n",
            "예측 요약 : youtube announces millions of 1000 users for 4000 hours\n",
            "\n",
            "\n",
            "원문 : india average download speed lowest world according report london based average speed less one third 16 global average india ranked 74 behind pakistan sri lanka report said surge data usage due reliance jio driven download speeds \n",
            "실제 요약 : india download speed lowest in the world \n",
            "\u001b[1m1/1\u001b[0m \u001b[32m━━━━━━━━━━━━━━━━━━━━\u001b[0m\u001b[37m\u001b[0m \u001b[1m0s\u001b[0m 119ms/step\n",
            "-7.5939097\n",
            "추출 요약 : Indias average 4G download speed of 5.1Mbps is the lowest in the world, according to a report by Londonbased OpenSignal.\n",
            "예측 요약 : india has less than lowest than lowest world report\n",
            "\n",
            "\n",
            "원문 : hearing assam national register citizens left 40 lakh people draft supreme court told assam government centre behave like state individual comes government insisted keeping five required documents court recommended exclude including people nrc \n",
            "실제 요약 : behave like state not individual sc to centre assam on nrc \n",
            "\u001b[1m1/1\u001b[0m \u001b[32m━━━━━━━━━━━━━━━━━━━━\u001b[0m\u001b[37m\u001b[0m \u001b[1m0s\u001b[0m 121ms/step\n",
            "-11.252347\n",
            "추출 요약 : extractive fail\n",
            "예측 요약 : assam govt asks centre to behave like state\n",
            "\n",
            "\n",
            "원문 : scientists observatory world largest detector studying mysterious fast radio bursts deep space study aims find high energy nearly particles generated along detector optical modules embedded cubic kilometre ice beneath geographic south pole \n",
            "실제 요약 : south pole helping study radio bursts from space \n",
            "\u001b[1m1/1\u001b[0m \u001b[32m━━━━━━━━━━━━━━━━━━━━\u001b[0m\u001b[37m\u001b[0m \u001b[1m0s\u001b[0m 114ms/step\n",
            "-10.216894\n",
            "추출 요약 : Scientists at the IceCube Observatory, the worlds largest neutrino detector, are studying mysterious fast radio bursts (FRBs) from deep space.\n",
            "예측 요약 : world largest ever largest study mysterious radio bursts\n",
            "\n",
            "\n",
            "원문 : actor shahid kapoor voted asian man 2017 beating hrithik roshan annual uk poll conducted london based newspaper eastern eye pakistani actor fawad khan occupied sixth spot believe sexy physical much mental perspective life shahid said \n",
            "실제 요약 : shahid kapoor beats hrithik to be voted asian man \n",
            "\u001b[1m1/1\u001b[0m \u001b[32m━━━━━━━━━━━━━━━━━━━━\u001b[0m\u001b[37m\u001b[0m \u001b[1m0s\u001b[0m 123ms/step\n",
            "-6.5096226\n",
            "추출 요약 : extractive fail\n",
            "예측 요약 : shahid kapoor voted asian man beating hrithik in uk\n",
            "\n",
            "\n",
            "원문 : scoring maiden test century england losing cause india first test indian captain virat kohli said larger picture century matter hen become captain taking team across line kohli added 29 year old said team needs build \n",
            "실제 요약 : maiden ton in england does not matter in larger picture kohli \n",
            "\u001b[1m1/1\u001b[0m \u001b[32m━━━━━━━━━━━━━━━━━━━━\u001b[0m\u001b[37m\u001b[0m \u001b[1m0s\u001b[0m 124ms/step\n",
            "-16.20455\n",
            "추출 요약 : When you become captain its about taking your team across the line, Kohli added.\n",
            "예측 요약 : am not larger than the century virat kohli on ton\n",
            "\n",
            "\n",
            "원문 : new satirical animated series focusing us president donald trump set made stephen colbert host american talk show late show television network know lot people wanted honoured cartoon president invited documentary crew private world said colbert \n",
            "실제 요약 : trump animated tv series to be made \n",
            "\u001b[1m1/1\u001b[0m \u001b[32m━━━━━━━━━━━━━━━━━━━━\u001b[0m\u001b[37m\u001b[0m \u001b[1m0s\u001b[0m 118ms/step\n",
            "-10.107321\n",
            "추출 요약 : extractive fail\n",
            "예측 요약 : trump to host american talk show on tv show\n",
            "\n",
            "\n",
            "원문 : leader world war ii raid nazi germany nuclear plan passed away aged 99 blew plant producing hydrogen rich substance key development atomic bombs fled britain german invasion norway 1940 receiving military training returning home several missions \n",
            "실제 요약 : 99 year old who foiled nazi nuclear plan passes away \n",
            "\u001b[1m1/1\u001b[0m \u001b[32m━━━━━━━━━━━━━━━━━━━━\u001b[0m\u001b[37m\u001b[0m \u001b[1m0s\u001b[0m 117ms/step\n",
            "-7.308844\n",
            "추출 요약 : Joachim RÃÂnneberg in 1943 blew up a plant producing a hydrogenrich substance key to the development of atomic bombs.\n",
            "예측 요약 : world war ii residence away from germany\n",
            "\n",
            "\n",
            "원문 : facebook owned messaging platform whatsapp friday said child pornography vile place platform whatsapp added responds valid legal requests law enforcement investigate crimes spokesperson said encryption blocks viewing user messages take action based user reports including banning accounts \n",
            "실제 요약 : child pornography we have no place for it whatsapp \n",
            "\u001b[1m1/1\u001b[0m \u001b[32m━━━━━━━━━━━━━━━━━━━━\u001b[0m\u001b[37m\u001b[0m \u001b[1m0s\u001b[0m 119ms/step\n",
            "-10.5922\n",
            "추출 요약 : Facebookowned messaging platform WhatsApp on Friday said that child pornography is vile and has no place on the platform.\n",
            "예측 요약 : child porn made place in whatsapp says whatsapp\n",
            "\n",
            "\n",
            "원문 : bjp mp actor paresh rawal said experience parliament helps actor national award winning actor added actor first politician paresh started career negative roles telugu films gained popularity comedy films like among others \n",
            "실제 요약 : experience in parliament my acting bjp mp paresh \n",
            "\u001b[1m1/1\u001b[0m \u001b[32m━━━━━━━━━━━━━━━━━━━━\u001b[0m\u001b[37m\u001b[0m \u001b[1m0s\u001b[0m 125ms/step\n",
            "-7.169066\n",
            "추출 요약 : BJP MPactor Paresh Rawal has said that his experience in the Parliament helps enrich him as an actor.\n",
            "예측 요약 : sidhu helps national award winning actor paresh\n",
            "\n",
            "\n",
            "원문 : japanese researcher shared video shows crispr gene editing technique cut dna yellow shows dna cutting enzyme brown coloured dna crispr far used change flower colour eliminate hiv animals remove gene causes heart disease human embryos \n",
            "실제 요약 : video dna cut in two using scissors \n",
            "\u001b[1m1/1\u001b[0m \u001b[32m━━━━━━━━━━━━━━━━━━━━\u001b[0m\u001b[37m\u001b[0m \u001b[1m0s\u001b[0m 137ms/step\n",
            "-7.375806\n",
            "추출 요약 : Japanese researcher Hiroshi Nishimasu has shared a video which shows the CRISPRCas9 geneediting technique to cut through a DNA strand.\n",
            "예측 요약 : scientists make dna to cut dna\n",
            "\n",
            "\n",
            "원문 : actress kajol said believes good films scripts rather women oriented films matter whether whole soul film added matters film matters kind films working said \n",
            "실제 요약 : do not believe in women films kajol \n",
            "\u001b[1m1/1\u001b[0m \u001b[32m━━━━━━━━━━━━━━━━━━━━\u001b[0m\u001b[37m\u001b[0m \u001b[1m0s\u001b[0m 120ms/step\n",
            "-8.940734\n",
            "추출 요약 : extractive fail\n",
            "예측 요약 : believe in good films for films kajol\n",
            "\n",
            "\n",
            "원문 : ex canara bank chief raman quit rbi appointed committee named chargesheet related diamonds case raman said development created huge anguish character reputation suddenly cloud need clear name first priority added \n",
            "실제 요약 : rbi panel member quits says cbi charges created \n",
            "\u001b[1m1/1\u001b[0m \u001b[32m━━━━━━━━━━━━━━━━━━━━\u001b[0m\u001b[37m\u001b[0m \u001b[1m0s\u001b[0m 121ms/step\n",
            "-8.426172\n",
            "추출 요약 : extractive fail\n",
            "예측 요약 : ex bank deputy bank chief raman quits\n",
            "\n",
            "\n",
            "원문 : unique identification authority india monday told delhi high court technically possible match fingerprints unidentified body biometrics 120 crore people stored database court hearing petition seeking direction uidai use aadhaar biometrics identify dead bodies \n",
            "실제 요약 : not possible to use to identify dead uidai to hc \n",
            "\u001b[1m1/1\u001b[0m \u001b[32m━━━━━━━━━━━━━━━━━━━━\u001b[0m\u001b[37m\u001b[0m \u001b[1m0s\u001b[0m 129ms/step\n",
            "-12.190563\n",
            "추출 요약 : extractive fail\n",
            "예측 요약 : delhi hc asks delhi hc to get 120 crore\n",
            "\n",
            "\n",
            "원문 : retail chain shoppers stop said seeking clarity whether revised fdi norms commerce could affect stake sale amazon amazon acquired stake shoppers stop foreign portfolio investor route 2017 change partnership yet shoppers stop managing director rajiv suri said \n",
            "실제 요약 : shoppers stop seeks amazon deal over new fdi norms \n",
            "\u001b[1m1/1\u001b[0m \u001b[32m━━━━━━━━━━━━━━━━━━━━\u001b[0m\u001b[37m\u001b[0m \u001b[1m0s\u001b[0m 122ms/step\n",
            "-10.507314\n",
            "추출 요약 : extractive fail\n",
            "예측 요약 : reliance to stop commercial fdi from commerce\n",
            "\n",
            "\n",
            "원문 : addressing election rally hyderabad union minister smriti irani said elections come rahul gandhi chants lord ram name also becomes shiv bhakt accusing congress misleading people name religion added congress power filed affidavit court said lord ram exist \n",
            "실제 요약 : rahul becomes shiv bhakt when elections come smriti irani \n",
            "\u001b[1m1/1\u001b[0m \u001b[32m━━━━━━━━━━━━━━━━━━━━\u001b[0m\u001b[37m\u001b[0m \u001b[1m0s\u001b[0m 119ms/step\n",
            "-8.392923\n",
            "추출 요약 : extractive fail\n",
            "예측 요약 : rahul chants the lord ram name congress\n",
            "\n",
            "\n",
            "원문 : delhi university planning teach english literature students write facebook posts part course academic writing varsity english department sent proposal colleges teaching honours course literature studies sought feedback writing necessarily mean writing heavyweight non fiction books official said \n",
            "실제 요약 : du to teach literature students how to write facebook posts \n",
            "\u001b[1m1/1\u001b[0m \u001b[32m━━━━━━━━━━━━━━━━━━━━\u001b[0m\u001b[37m\u001b[0m \u001b[1m0s\u001b[0m 127ms/step\n",
            "-4.4074416\n",
            "추출 요약 : extractive fail\n",
            "예측 요약 : delhi university plans to teach english students\n",
            "\n",
            "\n",
            "원문 : india cut import taxes crude palm oil southeast asian countries following request suppliers duty crude palm oil lowered 40 44 palm oil cut 50 54 malaysian shipments palm oil taxed 45 compared 54 earlier \n",
            "실제 요약 : india cuts tax on oil imports from asean countries \n",
            "\u001b[1m1/1\u001b[0m \u001b[32m━━━━━━━━━━━━━━━━━━━━\u001b[0m\u001b[37m\u001b[0m \u001b[1m0s\u001b[0m 116ms/step\n",
            "-4.5887537\n",
            "추출 요약 : India has cut import taxes on crude and refined palm oil from Southeast Asian (ASEAN) countries following a request from suppliers.\n",
            "예측 요약 : india cuts import taxes from oil southeast asian countries\n",
            "\n",
            "\n",
            "원문 : former australian pacer mitchell johnson suffered head injury working gym 36 year old cut open reportedly chin bar gym required many 16 stitches johnson part kkr squad ipl 2018 posted photos receiving stitches instagram \n",
            "실제 요약 : former aussie pacer johnson suffers head injury in gym \n",
            "\u001b[1m1/1\u001b[0m \u001b[32m━━━━━━━━━━━━━━━━━━━━\u001b[0m\u001b[37m\u001b[0m \u001b[1m0s\u001b[0m 120ms/step\n",
            "-6.907336\n",
            "추출 요약 : Former Australian pacer Mitchell Johnson suffered a head injury while working out at a gym.\n",
            "예측 요약 : former australian pacer johnson suffers from gym\n",
            "\n",
            "\n",
            "원문 : indian batsman suresh raina said hurt getting dropped indian team despite performing well raina last played india 20 series england february last year failed clear yo yo test play 2019 world cup raina said talking ambitions \n",
            "실제 요약 : was dropped despite good performance suresh raina \n",
            "\u001b[1m1/1\u001b[0m \u001b[32m━━━━━━━━━━━━━━━━━━━━\u001b[0m\u001b[37m\u001b[0m \u001b[1m0s\u001b[0m 123ms/step\n",
            "-8.298952\n",
            "추출 요약 : I have to play the 2019 World Cup, Raina said while talking about his ambitions.\n",
            "예측 요약 : hurt after getting dropped from india 20 series raina\n",
            "\n",
            "\n",
            "원문 : team india given icc test million cheque former cricketer sunil gavaskar number one test team icc awards annual cash prize team holding number one rank april side finish second get 500000 side finishing third receive 200000 \n",
            "실제 요약 : india presented with test million cheque by icc \n",
            "\u001b[1m1/1\u001b[0m \u001b[32m━━━━━━━━━━━━━━━━━━━━\u001b[0m\u001b[37m\u001b[0m \u001b[1m0s\u001b[0m 119ms/step\n",
            "-10.578231\n",
            "추출 요약 : extractive fail\n",
            "예측 요약 : sunil gavaskar wins test for icc test\n",
            "\n",
            "\n",
            "원문 : british troops entered washington dc burned white house day war united states england came retaliation us attack city york ontario canada june british troops also destroyed incomplete building house representatives \n",
            "실제 요약 : british forces burned the white house on august 24 \n",
            "\u001b[1m1/1\u001b[0m \u001b[32m━━━━━━━━━━━━━━━━━━━━\u001b[0m\u001b[37m\u001b[0m \u001b[1m0s\u001b[0m 122ms/step\n",
            "-7.8489747\n",
            "추출 요약 : extractive fail\n",
            "예측 요약 : uk troops enter washington in us\n",
            "\n",
            "\n",
            "원문 : narendra modi led nda government 1200 obsolete laws three years power compared laws removed 65 years prior laws include one states inspector andhra pradesh must well brushed teeth another 200 year old law allowed british monarch review decisions indian courts \n",
            "실제 요약 : 1200 laws in last yrs in 65 yrs before that \n",
            "\u001b[1m1/1\u001b[0m \u001b[32m━━━━━━━━━━━━━━━━━━━━\u001b[0m\u001b[37m\u001b[0m \u001b[1m0s\u001b[0m 120ms/step\n",
            "-10.881727\n",
            "추출 요약 : Another 200yearold repealed law allowed the British monarch to review decisions of all Indian courts.\n",
            "예측 요약 : pm modi led govt 1200 to avoid laws in years\n",
            "\n",
            "\n",
            "원문 : former indian cricketer sachin tendulkar said share bottle champagne virat kohli latter breaks record 49 odi hundreds send champagne bottles go share sachin said kohli scored 35 centuries format far \n",
            "실제 요약 : will share champagne with virat if he hits 50 tons sachin \n",
            "\u001b[1m1/1\u001b[0m \u001b[32m━━━━━━━━━━━━━━━━━━━━\u001b[0m\u001b[37m\u001b[0m \u001b[1m0s\u001b[0m 119ms/step\n",
            "-10.929096\n",
            "추출 요약 : extractive fail\n",
            "예측 요약 : virat kohli is the bottle of champagne says sachin\n",
            "\n",
            "\n",
            "원문 : ended 10 year long lionel messi cristiano ronaldo ballon award said unique feeling lot emotions right hard describe words still trying realise become part group exceptional players win ballon throughout history added \n",
            "실제 요약 : unique feeling hard to describe ballon or winner \n",
            "\u001b[1m1/1\u001b[0m \u001b[32m━━━━━━━━━━━━━━━━━━━━\u001b[0m\u001b[37m\u001b[0m \u001b[1m0s\u001b[0m 126ms/step\n",
            "-16.420216\n",
            "추출 요약 : Luka Modric, who ended the 10yearlong Lionel MessiCristiano Ronaldo duopoly over the Ballon dOr award, said, Its a unique feeling...\n",
            "예측 요약 : do not know what you do not mean anything ronaldo\n",
            "\n",
            "\n",
            "원문 : slamming pm narendra modi criticising policies previous congress led governments party president rahul gandhi saturday said drive vehicle looking rear view mirror cause accidents speaking election rally poll bound karnataka gandhi added country want hear past concerned future \n",
            "실제 요약 : pm modi drives by looking in view mirror rahul gandhi \n",
            "\u001b[1m1/1\u001b[0m \u001b[32m━━━━━━━━━━━━━━━━━━━━\u001b[0m\u001b[37m\u001b[0m \u001b[1m0s\u001b[0m 123ms/step\n",
            "-7.39954\n",
            "추출 요약 : extractive fail\n",
            "예측 요약 : drive vehicle looking like diseases rahul to pm modi\n",
            "\n",
            "\n",
            "원문 : home affairs ministry reimburse compensation paid government civilians live along border victims continuous shelling pakistan reimbursement made security related expenditure notably 11 security personnel nine civilians died due ceasefire violations pakistan since start 2018 reports said \n",
            "실제 요약 : centre to ex gratia paid by to border victims \n",
            "\u001b[1m1/1\u001b[0m \u001b[32m━━━━━━━━━━━━━━━━━━━━\u001b[0m\u001b[37m\u001b[0m \u001b[1m0s\u001b[0m 123ms/step\n",
            "-7.6403995\n",
            "추출 요약 : extractive fail\n",
            "예측 요약 : govt to pay govt for civilians in afghanistan\n",
            "\n",
            "\n",
            "원문 : kajol said way smarter cooler age 16 believe relevant today believe personality lot personality grown screen screen age added kajol said never considered acting career \n",
            "실제 요약 : am way than what was at age of 16 kajol \n",
            "\u001b[1m1/1\u001b[0m \u001b[32m━━━━━━━━━━━━━━━━━━━━\u001b[0m\u001b[37m\u001b[0m \u001b[1m0s\u001b[0m 122ms/step\n",
            "-14.183152\n",
            "추출 요약 : Kajol has said that she is way smarter and cooler than what she was at the age of 16.\n",
            "예측 요약 : have been today because of my skin kajol\n",
            "\n",
            "\n",
            "원문 : president akhil bharatiya akhara parishad mahant narendra giri said saints gather ayodhya kumbh mela ends start construction ram temple bjp interested constructing ram temple want issue alive 2019 elections giri added \n",
            "실제 요약 : to construct ram temple post kumbh \n",
            "\u001b[1m1/1\u001b[0m \u001b[32m━━━━━━━━━━━━━━━━━━━━\u001b[0m\u001b[37m\u001b[0m \u001b[1m0s\u001b[0m 121ms/step\n",
            "-11.050852\n",
            "추출 요약 : extractive fail\n",
            "예측 요약 : ayodhya to be held for ram temple\n",
            "\n",
            "\n",
            "원문 : national investigation agency tuesday arrested hizbul mujahideen chief syed salahuddin son syed shahid connection 2011 terror funding case arrest 42 year old questioned nia name cropped investigations working department agriculture produced nia special court delhi \n",
            "실제 요약 : nia arrests hizbul chief son in terror funding case \n",
            "\u001b[1m1/1\u001b[0m \u001b[32m━━━━━━━━━━━━━━━━━━━━\u001b[0m\u001b[37m\u001b[0m \u001b[1m0s\u001b[0m 120ms/step\n",
            "-3.5203977\n",
            "추출 요약 : Before his arrest, the 42yearold was questioned by the NIA after his name cropped up during investigations.\n",
            "예측 요약 : hizbul chief son arrested in terror funding case\n",
            "\n",
            "\n",
            "원문 : rock moon fell earth lunar meteorite sold crore boston auction house complex representative vietnam comprises six rocks fit together weighing total kg meteorite found remote area africa last year \n",
            "실제 요약 : moon rock that fell on earth sold for crore at auction \n",
            "\u001b[1m1/1\u001b[0m \u001b[32m━━━━━━━━━━━━━━━━━━━━\u001b[0m\u001b[37m\u001b[0m \u001b[1m0s\u001b[0m 121ms/step\n",
            "-7.733504\n",
            "추출 요약 : extractive fail\n",
            "예측 요약 : rock moon falls into earth sells for crore\n",
            "\n",
            "\n",
            "원문 : vietnamese couple charged trying smuggle 18 litres liquid meth australia bottles labelled water officials discovered drug ray scan baggage revealed baggage found contain 36 bottles upon testing proved liquid methamphetamine \n",
            "실제 요약 : couple held with 18 litres of liquid meth in water bottles \n",
            "\u001b[1m1/1\u001b[0m \u001b[32m━━━━━━━━━━━━━━━━━━━━\u001b[0m\u001b[37m\u001b[0m \u001b[1m0s\u001b[0m 123ms/step\n",
            "-7.986083\n",
            "추출 요약 : The baggage was found to contain 36 bottles, which upon further testing proved to be liquid methamphetamine.\n",
            "예측 요약 : vietnam couple caught with liquid meth in australia\n",
            "\n",
            "\n"
          ]
        }
      ]
    },
    {
      "cell_type": "markdown",
      "source": [
        "![image.png](data:image/png;base64,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)"
      ],
      "metadata": {
        "id": "N9O-aoWkeGQ-"
      }
    },
    {
      "cell_type": "markdown",
      "source": [
        "![image.png](data:image/png;base64,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)"
      ],
      "metadata": {
        "id": "cUcHJ4a8eUV-"
      }
    },
    {
      "cell_type": "markdown",
      "source": [
        "#5.회고"
      ],
      "metadata": {
        "id": "53Aw29xKLxno"
      }
    },
    {
      "cell_type": "markdown",
      "source": [
        "자연어에서는 모델보다는 임베딩이 훨씬 중요하다."
      ],
      "metadata": {
        "id": "tCm_msa5Lzrb"
      }
    }
  ]
}